{
 "cells": [
  {
   "cell_type": "code",
   "execution_count": 1,
   "id": "d8a730ab",
   "metadata": {},
   "outputs": [],
   "source": [
    "import numpy as np\n",
    "import matplotlib.pyplot as plt\n",
    "%matplotlib inline \n",
    "\n",
    "from data_generators.standard_generator import StandardDataGenerator\n",
    "from environments.complete_environment import CompleteEnvironment\n",
    "from learners.joint_learner import JointLearner"
   ]
  },
  {
   "cell_type": "code",
   "execution_count": 2,
   "id": "96d38329",
   "metadata": {},
   "outputs": [],
   "source": [
    "src = 'src/basic005.json'"
   ]
  },
  {
   "cell_type": "code",
   "execution_count": 3,
   "id": "0f41b168",
   "metadata": {},
   "outputs": [],
   "source": [
    "dg = StandardDataGenerator(src)"
   ]
  },
  {
   "cell_type": "code",
   "execution_count": 4,
   "id": "4fe79880",
   "metadata": {},
   "outputs": [],
   "source": [
    "T = 365\n",
    "n_experiments = 5\n",
    "learners_to_test = [JointLearner]\n",
    "rewards_per_experiment = {}\n",
    "for learner in learners_to_test:\n",
    "    rewards_per_experiment[learner.LEARNER_NAME] = []"
   ]
  },
  {
   "cell_type": "code",
   "execution_count": null,
   "id": "143e7838",
   "metadata": {},
   "outputs": [],
   "source": [
    "for e in range(n_experiments):\n",
    "    # Initialization of the learners to test and their related environment:\n",
    "    # the list is composed of tuples (Learner, Environment)\n",
    "    print(f'\\n\\nrunning experiment {e + 1}/{n_experiments}...')\n",
    "    test_instances = []\n",
    "    \n",
    "    for learner in learners_to_test:\n",
    "        #context_learner = ContextualLearner(features, learner, **bandit_args)\n",
    "        test_instances.append(\n",
    "            (learner(dg.get_margins, dg.get_bids()),\n",
    "             CompleteEnvironment(src=src))\n",
    "        )\n",
    "    for t in range(T):\n",
    "        for learner, env in test_instances:\n",
    "            #print(f'##### DAY {t} ######')\n",
    "            learner.next_day()\n",
    "            past_arms = env.get_selected_arms_at_day(t - 30, keep=False, filter_purchases=True)\n",
    "            month_purchases = env.get_next_purchases_at_day(t, keep=False, filter_purchases=True)\n",
    "            if month_purchases is not None:\n",
    "                for arm, n_purchases in zip(past_arms, month_purchases):\n",
    "                    learner.update_single_future_purchase(arm, n_purchases)\n",
    "\n",
    "            pulled_bid, pulled_price = learner.pull_arm()\n",
    "            daily_reward = env.day_round(pulled_price, pulled_bid, fixed_adv=False)\n",
    "            for outcome, cost in daily_reward:\n",
    "                learner.update(pulled_price, outcome, cost)\n",
    "    for learner, _ in test_instances:\n",
    "        learner.next_day()\n",
    "        rewards_per_experiment[learner.LEARNER_NAME].append(learner.daily_collected_rewards)\n",
    "# end -> save rhe results."
   ]
  },
  {
   "cell_type": "code",
   "execution_count": 11,
   "id": "477b9523",
   "metadata": {},
   "outputs": [
    {
     "name": "stdout",
     "output_type": "stream",
     "text": [
      "src:\t src/basic005.json\n",
      "\n",
      "bid\tglobal\t\tr_aggr\t\t\tdelta\n",
      "0\t1081.9945\t1046.957\t-->\t35.0375\n",
      "1\t1109.2122\t1071.8745\t-->\t37.3377\n",
      "2\t1122.3881\t1083.0058\t-->\t39.3823\n",
      "3\t1121.4206\t1079.0311\t-->\t42.3895\n",
      "4\t1099.1524\t1054.3324\t-->\t44.82\n",
      "5\t1045.4969\t997.8641\t-->\t47.6328\n",
      "6\t979.6053\t929.8629\t-->\t49.7424\n",
      "7\t932.1964\t881.4119\t-->\t50.7845\n",
      "8\t808.208\t754.7065\t-->\t53.5015\n",
      "9\t680.911\t626.6326\t-->\t54.2784\n",
      "\n",
      "opt_aggr=1083.005829407839 - opt_bid=2\n"
     ]
    }
   ],
   "source": [
    "#NEW!\n",
    "dg = StandardDataGenerator(src)\n",
    "print('src:\\t',dg.get_source())\n",
    "print('\\nbid\\tglobal\\t\\tr_aggr\\t\\t\\tdelta')\n",
    "aggr_arr = []\n",
    "disaggr_arr = []\n",
    "for j, bid in enumerate(dg.get_bids()):\n",
    "    maxs=[]\n",
    "    f_cost = dg.get_costs_per_click(mode='aggregate', bid=j)[j]\n",
    "    clicks = dg.get_daily_clicks(mode='aggregate')[j]\n",
    "    conv = dg.get_conversion_rates()\n",
    "    fp = dg.get_future_purchases()\n",
    "    for i in range(len(dg.get_classes())):\n",
    "        maxs.append(np.max((conv[i] *(1 + fp[i]) * dg.get_margins() - dg.get_costs_per_click()[i,j]) * dg.get_daily_clicks()[i, j]))\n",
    "    \n",
    "    temp = (dg.get_margins() * np.average(conv * (1 + fp), axis=0, weights=dg.get_class_distributions(bid=j)) - \n",
    "        f_cost) * clicks\n",
    "    \n",
    "    #disaggr_arr.append(sum(maxs))\n",
    "    aggr_arr.append(np.max(temp))\n",
    "    disaggr = np.around(sum(maxs), decimals=4)\n",
    "    aggr = np.around(np.max(temp), decimals=4)\n",
    "    delta = np.around(disaggr-aggr, decimals=4)\n",
    "    print(f'{j}\\t{disaggr}\\t{aggr}\\t-->\\t{delta}')\n",
    "opt_aggr = max(aggr_arr)\n",
    "opt_bid = np.argmax(aggr_arr)\n",
    "print(f'\\n{opt_aggr=} - {opt_bid=}')"
   ]
  },
  {
   "cell_type": "code",
   "execution_count": 15,
   "id": "ce094518",
   "metadata": {},
   "outputs": [
    {
     "name": "stderr",
     "output_type": "stream",
     "text": [
      "/home/filippo/anaconda3/envs/dia-env/lib/python3.8/site-packages/numpy/core/fromnumeric.py:3372: RuntimeWarning: Mean of empty slice.\n",
      "  return _methods._mean(a, axis=axis, dtype=dtype,\n",
      "/home/filippo/anaconda3/envs/dia-env/lib/python3.8/site-packages/numpy/core/_methods.py:170: RuntimeWarning: invalid value encountered in double_scalars\n",
      "  ret = ret.dtype.type(ret / rcount)\n"
     ]
    },
    {
     "data": {
      "image/png": "[encoded data removed]",
      "text/plain": [
       "<Figure size 720x576 with 1 Axes>"
      ]
     },
     "metadata": {
      "needs_background": "light"
     },
     "output_type": "display_data"
    }
   ],
   "source": [
    "# Plotting the results\n",
    "plt.figure(figsize=(10,8))\n",
    "plt.ylabel(\"Regret\")\n",
    "plt.xlabel(\"day\")\n",
    "\n",
    "plt.plot(1500*np.sqrt(np.linspace(0,364,364)), 'b')\n",
    "for val in rewards_per_experiment.values():\n",
    "    plt.plot(np.cumsum(np.mean(opt_aggr - val, axis=0)))\n",
    "\n",
    "plt.legend(['sqrt(t)'] + list(rewards_per_experiment.keys()))\n",
    "plt.show()"
   ]
  },
  {
   "cell_type": "code",
   "execution_count": 16,
   "id": "3c6fae1a",
   "metadata": {},
   "outputs": [
    {
     "name": "stderr",
     "output_type": "stream",
     "text": [
      "/home/filippo/anaconda3/envs/dia-env/lib/python3.8/site-packages/numpy/core/fromnumeric.py:3372: RuntimeWarning: Mean of empty slice.\n",
      "  return _methods._mean(a, axis=axis, dtype=dtype,\n",
      "/home/filippo/anaconda3/envs/dia-env/lib/python3.8/site-packages/numpy/core/_methods.py:170: RuntimeWarning: invalid value encountered in double_scalars\n",
      "  ret = ret.dtype.type(ret / rcount)\n"
     ]
    },
    {
     "data": {
      "image/png": "[encoded data removed]",
      "text/plain": [
       "<Figure size 720x576 with 1 Axes>"
      ]
     },
     "metadata": {
      "needs_background": "light"
     },
     "output_type": "display_data"
    }
   ],
   "source": [
    "plt.figure(figsize=(10,8))\n",
    "plt.xlabel(\"day\")\n",
    "plt.ylabel(\"daily reward\")\n",
    "# plt.plot([disaggr_opt]*T, '--g', label='clairwoyant')\n",
    "plt.plot([opt_aggr]*T, '--c', label='aggr_clairwoyant')\n",
    "for key in rewards_per_experiment:\n",
    "    plt.plot(np.mean(rewards_per_experiment[key], axis=0), label=key)\n",
    "\n",
    "plt.legend(loc='best')\n",
    "plt.show()"
   ]
  }
 ],
 "metadata": {
  "kernelspec": {
   "display_name": "Python 3",
   "language": "python",
   "name": "python3"
  },
  "language_info": {
   "codemirror_mode": {
    "name": "ipython",
    "version": 3
   },
   "file_extension": ".py",
   "mimetype": "text/x-python",
   "name": "python",
   "nbconvert_exporter": "python",
   "pygments_lexer": "ipython3",
   "version": "3.8.8"
  }
 },
 "nbformat": 4,
 "nbformat_minor": 5
}
