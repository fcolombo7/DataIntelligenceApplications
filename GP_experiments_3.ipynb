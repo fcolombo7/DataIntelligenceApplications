{
 "cells": [
  {
   "cell_type": "markdown",
   "metadata": {},
   "source": [
    "## Step 2 Notebook"
   ]
  },
  {
   "cell_type": "code",
   "execution_count": 7,
   "metadata": {},
   "outputs": [],
   "source": [
    "import numpy as np\n",
    "import matplotlib.pyplot as plt\n",
    "from environments.BiddingEnvironment_new import *\n",
    "from learners.GTS_Learner import *\n",
    "from learners.GPTS_Learner import *\n",
    "from data_generators.basic_generator import *"
   ]
  },
  {
   "cell_type": "code",
   "execution_count": 8,
   "metadata": {},
   "outputs": [],
   "source": [
    "data_gen = BasicDataGenerator('src/basic002.json')\n",
    "\n",
    "prices = data_gen.get_prices()\n",
    "bids = data_gen.get_bids()\n",
    "\n",
    "aggr_cpc = data_gen.get_costs_per_click(mode='aggregate')\n",
    "aggr_d_clicks = data_gen.get_daily_clicks(mode='aggregate')\n",
    "aggr_conv_rates = data_gen.get_conversion_rates(mode='aggregate')\n",
    "aggr_purch = data_gen.get_future_purchases(mode='aggregate')"
   ]
  },
  {
   "cell_type": "code",
   "execution_count": 9,
   "metadata": {},
   "outputs": [],
   "source": [
    "n_arms = len(bids)\n",
    "\n",
    "min_bid = min(bids)\n",
    "max_bid = max(bids)\n",
    "\n",
    "b = np.linspace(0.0, 1.0, n_arms) #for testinf use linspace for bids\n",
    "sigma = 10"
   ]
  },
  {
   "cell_type": "code",
   "execution_count": 10,
   "metadata": {},
   "outputs": [
    {
     "name": "stdout",
     "output_type": "stream",
     "text": [
      "prices = [15, 16, 17, 18, 19, 20, 21, 22, 23, 24]\n",
      "bids = [0.03, 0.04, 0.07, 0.1, 0.2, 0.5, 0.75, 1.0, 1.5, 2.0]\n"
     ]
    }
   ],
   "source": [
    "#P\n",
    "print(f'prices = {prices}')\n",
    "print(f'bids = {bids}')\n",
    "#print(f'{aggr_cpc=}')\n",
    "#print(f'{aggr_d_clicks=}')\n",
    "#print(f'{aggr_conv_rates=}')\n",
    "#print(f'{aggr_purch=}')"
   ]
  },
  {
   "cell_type": "code",
   "execution_count": 11,
   "metadata": {},
   "outputs": [],
   "source": [
    "T = 50\n",
    "n_experiments = 10\n",
    "\n",
    "gts_rewards_per_experiment = []\n",
    "gpts_rewards_per_experiment = []"
   ]
  },
  {
   "cell_type": "code",
   "execution_count": 14,
   "metadata": {
    "scrolled": true
   },
   "outputs": [
    {
     "name": "stdout",
     "output_type": "stream",
     "text": [
      "reward = 2219.504887875961\n",
      "reward = 1882.635468152105\n",
      "reward = 1967.690212986925\n",
      "reward = 2061.703416665996\n",
      "reward = 1934.5858823879623\n",
      "reward = 2070.69846568635\n",
      "reward = 1724.2996382423541\n",
      "reward = 1955.3653103010308\n",
      "reward = 1863.9684808409108\n",
      "reward = 1173.6161814117831\n",
      "reward = 2162.440294930076\n",
      "reward = 1796.347217125778\n",
      "reward = 2069.292728491899\n",
      "reward = 1910.214333157096\n",
      "reward = 2142.243136424584\n",
      "reward = 2200.6741667082065\n",
      "reward = 2252.6812959245276\n",
      "reward = 1901.5768548099734\n",
      "reward = 1892.0316323896407\n",
      "reward = 1738.54283524315\n",
      "reward = 1725.2536108833592\n",
      "reward = 2030.4007482708441\n",
      "reward = 1577.0625929966616\n",
      "reward = 2042.5242507944133\n",
      "reward = 1692.6870506929558\n",
      "reward = 1854.7069419273587\n",
      "reward = 1712.283132882435\n",
      "reward = 2408.0769311343356\n",
      "reward = 2080.2909296343078\n",
      "reward = 2367.7445451667118\n",
      "reward = 1942.5818899598012\n",
      "reward = 2183.0763513069764\n",
      "reward = 1639.7356438370427\n",
      "reward = 1997.6224350391783\n",
      "reward = 1727.3116033511842\n",
      "reward = 1685.5107220106042\n",
      "reward = 1606.6989513169908\n",
      "reward = 1499.3096467599223\n",
      "reward = 2145.507616410086\n",
      "reward = 1868.3555893632\n",
      "reward = 2096.264931611959\n",
      "reward = 2341.097264813056\n",
      "reward = 1938.6086501528027\n",
      "reward = 2092.2447715925427\n",
      "reward = 255.16584663368937\n",
      "reward = 1724.8373650505348\n",
      "reward = 1777.2152091881708\n",
      "reward = 2464.522722622375\n",
      "reward = 2124.485338145701\n",
      "reward = 1909.7648523084968\n"
     ]
    }
   ],
   "source": [
    "for e in range(0, n_experiments):\n",
    "    env = BiddingEnvironment(bids = b, sigma = sigma, n_clicks = aggr_d_clicks, cpc = aggr_cpc, \\\n",
    "                             conversion_rates = aggr_conv_rates, margins = prices, tau = aggr_purch, price_idx = 0)\n",
    "    gts_learner = GTS_Learner(n_arms = n_arms)\n",
    "    gpts_learner = GPTS_Learner(n_arms = n_arms, arms = bids)\n",
    "    for t in range(0, T):\n",
    "        #pulled_arm = gts_learner.pull_arm()\n",
    "        #reward = env.round(pulled_arm)\n",
    "        #gts_learner.update(pulled_arm, reward)\n",
    "        \n",
    "        pulled_arm = gpts_learner.pull_arm()\n",
    "        reward = env.round(pulled_arm)\n",
    "        if(e == 0):\n",
    "            print('reward = ' + f'{reward}')\n",
    "            \n",
    "        gpts_learner.update(pulled_arm, reward)\n",
    "        \n",
    "    gts_rewards_per_experiment.append(gts_learner.collected_rewards)\n",
    "    gpts_rewards_per_experiment.append(gpts_learner.collected_rewards)"
   ]
  },
  {
   "cell_type": "code",
   "execution_count": 15,
   "metadata": {},
   "outputs": [
    {
     "data": {
      "image/png": "[encoded data removed]",
      "text/plain": [
       "<Figure size 432x288 with 1 Axes>"
      ]
     },
     "metadata": {
      "needs_background": "light"
     },
     "output_type": "display_data"
    }
   ],
   "source": [
    "#opt = np.max(env.means)\n",
    "opt = env.get_opt()\n",
    "\n",
    "plt.figure(0)\n",
    "plt.ylabel(\"Regret\")\n",
    "plt.xlabel(\"t\")\n",
    "plt.plot(np.cumsum(np.mean(opt - gts_rewards_per_experiment, axis=0)), 'r')\n",
    "plt.plot(np.cumsum(np.mean(opt - gpts_rewards_per_experiment, axis=0)), 'g')\n",
    "plt.legend(['GTS', 'GPTS'])\n",
    "plt.show()"
   ]
  },
  {
   "cell_type": "code",
   "execution_count": null,
   "metadata": {},
   "outputs": [],
   "source": []
  }
 ],
 "metadata": {
  "kernelspec": {
   "display_name": "Python 3",
   "language": "python",
   "name": "python3"
  },
  "language_info": {
   "codemirror_mode": {
    "name": "ipython",
    "version": 3
   },
   "file_extension": ".py",
   "mimetype": "text/x-python",
   "name": "python",
   "nbconvert_exporter": "python",
   "pygments_lexer": "ipython3",
   "version": "3.8.8"
  }
 },
 "nbformat": 4,
 "nbformat_minor": 4
}
