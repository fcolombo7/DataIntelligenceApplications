{
 "cells": [
  {
   "cell_type": "markdown",
   "metadata": {},
   "source": [
    "## Step 2 Notebook"
   ]
  },
  {
   "cell_type": "code",
   "execution_count": 1,
   "metadata": {},
   "outputs": [],
   "source": [
    "import numpy as np\n",
    "import matplotlib.pyplot as plt\n",
    "from environments.BiddingEnvironment import *\n",
    "from learners.GTS_Learner import *\n",
    "from learners.GPTS_Learner import *\n",
    "from data_generators.basic_generator import *"
   ]
  },
  {
   "cell_type": "code",
   "execution_count": 2,
   "metadata": {},
   "outputs": [],
   "source": [
    "data_gen = BasicDataGenerator('src/basic002.json')\n",
    "\n",
    "prices = data_gen.get_prices()\n",
    "bids = data_gen.get_bids()\n",
    "json_src = 'src/basic002.json'\n",
    "\n",
    "aggr_cpc = data_gen.get_costs_per_click(mode='aggregate')\n",
    "aggr_d_clicks = data_gen.get_daily_clicks(mode='aggregate')\n",
    "aggr_conv_rates = data_gen.get_conversion_rates(mode='aggregate')\n",
    "aggr_purch = data_gen.get_future_purchases(mode='aggregate')"
   ]
  },
  {
   "cell_type": "code",
   "execution_count": 3,
   "metadata": {},
   "outputs": [],
   "source": [
    "n_arms = len(bids)\n",
    "\n",
    "min_bid = min(bids)\n",
    "max_bid = max(bids)\n",
    "\n",
    "b = np.linspace(0.0, 1.0, n_arms) #for testinf use linspace for bids\n",
    "sigma = 10"
   ]
  },
  {
   "cell_type": "code",
   "execution_count": 4,
   "metadata": {},
   "outputs": [
    {
     "name": "stdout",
     "output_type": "stream",
     "text": [
      "prices = [15, 16, 17, 18, 19, 20, 21, 22, 23, 24]\n",
      "bids = [0.03, 0.04, 0.07, 0.1, 0.2, 0.5, 0.75, 1.0, 1.5, 2.0]\n"
     ]
    }
   ],
   "source": [
    "#P\n",
    "print(f'prices = {prices}')\n",
    "print(f'bids = {bids}')\n",
    "#print(f'{aggr_cpc=}')\n",
    "#print(f'{aggr_d_clicks=}')\n",
    "#print(f'{aggr_conv_rates=}')\n",
    "#print(f'{aggr_purch=}')"
   ]
  },
  {
   "cell_type": "code",
   "execution_count": 13,
   "metadata": {},
   "outputs": [],
   "source": [
    "T = 100\n",
    "n_experiments = 5\n",
    "\n",
    "gts_rewards_per_experiment = []\n",
    "gpts_rewards_per_experiment = []"
   ]
  },
  {
   "cell_type": "code",
   "execution_count": 14,
   "metadata": {
    "scrolled": true
   },
   "outputs": [
    {
     "name": "stdout",
     "output_type": "stream",
     "text": [
      "Environment created with fixed price: 15\n",
      "reward = 6469.88822143501\n",
      "reward = 3867.809153969089\n",
      "reward = 5522.819256890106\n",
      "reward = 6091.733385697056\n",
      "reward = 6089.476521124443\n",
      "reward = 5308.858920589916\n",
      "reward = 6705.089754959647\n",
      "reward = 6226.729124792634\n",
      "reward = 6245.46527630121\n",
      "reward = 5759.777441045544\n",
      "reward = 6570.329034156256\n",
      "reward = 5507.031661732488\n",
      "reward = 5389.329420868231\n",
      "reward = 5786.520005505173\n",
      "reward = 5545.967159715064\n",
      "reward = 4293.582316072201\n",
      "reward = 5572.662444160191\n",
      "reward = 4727.009344632092\n",
      "reward = 7036.152066361982\n",
      "reward = 5526.859739243128\n",
      "reward = 5119.642284753346\n",
      "reward = 6216.867263186296\n",
      "reward = 5663.144186235828\n",
      "reward = 5966.001724719352\n",
      "reward = 5454.360797343447\n",
      "reward = 5582.2410010923995\n",
      "reward = 6251.621206504078\n",
      "reward = 5472.120365891071\n",
      "reward = 5588.764774389469\n",
      "reward = 2181.080525775893\n",
      "reward = 5696.986938389328\n",
      "reward = 5198.794993902985\n",
      "reward = 5572.6469299891\n",
      "reward = 5952.525392979675\n",
      "reward = 5610.338936859204\n",
      "reward = 5904.918343743639\n",
      "reward = 5022.913677640592\n",
      "reward = 5782.541199130788\n",
      "reward = 5851.265195503505\n",
      "reward = 5399.777204397297\n",
      "reward = 5850.198698353486\n",
      "reward = 5382.929140924999\n",
      "reward = 6832.542544346571\n",
      "reward = 6393.16242555109\n",
      "reward = 4560.178105486882\n",
      "reward = 5580.876335714417\n",
      "reward = 6195.3858251097845\n",
      "reward = 5780.638710492452\n",
      "reward = 4827.963924357715\n",
      "reward = 5146.527898086292\n",
      "reward = 5514.572038767928\n",
      "reward = 5872.817049897613\n",
      "reward = 4752.061401858808\n",
      "reward = 6137.6961849917025\n",
      "reward = 5135.497101941351\n",
      "reward = 5311.132748576185\n",
      "reward = 5846.036386821499\n",
      "reward = 5732.00421650543\n",
      "reward = 5061.17858152435\n",
      "reward = 5723.711835396598\n",
      "reward = 6156.694032513474\n",
      "reward = 6033.459286456107\n",
      "reward = 5964.08816172935\n",
      "reward = 6072.606271924821\n",
      "reward = 6094.096095823192\n",
      "reward = 6348.1520615039335\n",
      "reward = 4786.582074529007\n",
      "reward = 4943.180108787149\n",
      "reward = 5722.459101944959\n",
      "reward = 6856.4529029863215\n",
      "reward = 5412.883082717127\n",
      "reward = 6350.864461980148\n",
      "reward = 5901.538355773508\n",
      "reward = 5948.88627970753\n",
      "reward = 5284.778572141868\n",
      "reward = 5429.397281415482\n",
      "reward = 6015.621080587165\n",
      "reward = 5529.772328516009\n",
      "reward = 4961.804298941859\n",
      "reward = 5914.038538157365\n",
      "reward = 5151.2272147212425\n",
      "reward = 4741.866211053546\n",
      "reward = 6670.541531552124\n",
      "reward = 5525.694150422936\n",
      "reward = 6317.192413243313\n",
      "reward = 5892.6463861850625\n",
      "reward = 6235.292265758244\n",
      "reward = 6545.6168999198935\n",
      "reward = 6479.910601070481\n",
      "reward = 7034.5415761154145\n",
      "reward = 6615.645740167229\n",
      "reward = 5476.473852558393\n",
      "reward = 5351.189112729131\n",
      "reward = 6791.925562292168\n",
      "reward = 5347.105044740825\n",
      "reward = 6611.068397320935\n",
      "reward = 6571.716192800482\n",
      "reward = 6188.750945251741\n",
      "reward = 6797.845129463357\n",
      "reward = 6103.354388634037\n",
      "Environment created with fixed price: 15\n",
      "Environment created with fixed price: 15\n",
      "Environment created with fixed price: 15\n",
      "Environment created with fixed price: 15\n"
     ]
    }
   ],
   "source": [
    "for e in range(0, n_experiments):\n",
    "    env = BiddingEnvironment(bids = b, sigma = sigma, src = json_src, mode = 'aggregate')\n",
    "    gts_learner = GTS_Learner(n_arms = n_arms)\n",
    "    gpts_learner = GPTS_Learner(n_arms = n_arms, arms = bids)\n",
    "    for t in range(0, T):\n",
    "        #pulled_arm = gts_learner.pull_arm()\n",
    "        #reward = env.round(pulled_arm)\n",
    "        #gts_learner.update(pulled_arm, reward)\n",
    "        \n",
    "        pulled_arm = gpts_learner.pull_arm()\n",
    "        reward = env.round(pulled_arm)\n",
    "        if(e == 0):\n",
    "            print('reward = ' + f'{reward}')\n",
    "            \n",
    "        gpts_learner.update(pulled_arm, reward)\n",
    "        \n",
    "    gts_rewards_per_experiment.append(gts_learner.collected_rewards)\n",
    "    gpts_rewards_per_experiment.append(gpts_learner.collected_rewards)"
   ]
  },
  {
   "cell_type": "code",
   "execution_count": 15,
   "metadata": {},
   "outputs": [
    {
     "data": {
      "image/png": "[encoded data removed]",
      "text/plain": [
       "<Figure size 432x288 with 1 Axes>"
      ]
     },
     "metadata": {
      "needs_background": "light"
     },
     "output_type": "display_data"
    }
   ],
   "source": [
    "#opt = np.max(env.means)\n",
    "opt = env.get_opt()\n",
    "\n",
    "plt.figure(0)\n",
    "plt.ylabel(\"Regret\")\n",
    "plt.xlabel(\"t\")\n",
    "plt.plot(np.cumsum(np.mean(opt - gts_rewards_per_experiment, axis=0)), 'r')\n",
    "plt.plot(np.cumsum(np.mean(opt - gpts_rewards_per_experiment, axis=0)), 'g')\n",
    "plt.legend(['GTS', 'GPTS'])\n",
    "plt.show()"
   ]
  },
  {
   "cell_type": "code",
   "execution_count": null,
   "metadata": {},
   "outputs": [],
   "source": []
  }
 ],
 "metadata": {
  "kernelspec": {
   "display_name": "Python 3",
   "language": "python",
   "name": "python3"
  },
  "language_info": {
   "codemirror_mode": {
    "name": "ipython",
    "version": 3
   },
   "file_extension": ".py",
   "mimetype": "text/x-python",
   "name": "python",
   "nbconvert_exporter": "python",
   "pygments_lexer": "ipython3",
   "version": "3.8.8"
  }
 },
 "nbformat": 4,
 "nbformat_minor": 4
}
