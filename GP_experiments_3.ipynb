{
 "cells": [
  {
   "cell_type": "markdown",
   "metadata": {},
   "source": [
    "## Step 2 Notebook"
   ]
  },
  {
   "cell_type": "code",
   "execution_count": 1,
   "metadata": {},
   "outputs": [],
   "source": [
    "import numpy as np\n",
    "import matplotlib.pyplot as plt\n",
    "from environments.BiddingEnvironment import *\n",
    "from learners.GTS_Learner import *\n",
    "from learners.GPTS_Learner import *\n",
    "from data_generators.basic_generator import *"
   ]
  },
  {
   "cell_type": "code",
   "execution_count": 2,
   "metadata": {},
   "outputs": [],
   "source": [
    "data_gen = BasicDataGenerator('src/basic002.json')\n",
    "\n",
    "prices = data_gen.get_prices()\n",
    "bids = data_gen.get_bids()\n",
    "\n",
    "aggr_cpc = data_gen.get_costs_per_click(mode='aggregate')\n",
    "aggr_d_clicks = data_gen.get_daily_clicks(mode='aggregate')\n",
    "aggr_conv_rates = data_gen.get_conversion_rates(mode='aggregate')\n",
    "aggr_purch = data_gen.get_future_purchases(mode='aggregate')\n",
    "#aggr_purch = np.zeros(len(bids))"
   ]
  },
  {
   "cell_type": "code",
   "execution_count": 3,
   "metadata": {},
   "outputs": [],
   "source": [
    "n_arms = len(bids)\n",
    "\n",
    "min_bid = min(bids)\n",
    "max_bid = max(bids)\n",
    "\n",
    "b = np.linspace(0.0, 1.0, n_arms) #np.array(d.get_bids())\n",
    "sigma = 10"
   ]
  },
  {
   "cell_type": "code",
   "execution_count": 4,
   "metadata": {},
   "outputs": [
    {
     "name": "stdout",
     "output_type": "stream",
     "text": [
      "\n",
      "DATA:\n",
      "prices=[15, 16, 17, 18, 19, 20, 21, 22, 23, 24]\n",
      "bids=[0.03, 0.04, 0.07, 0.1, 0.2, 0.5, 0.75, 1.0, 1.5, 2.0]\n",
      "aggr_cpc=array([0.03 , 0.04 , 0.069, 0.097, 0.189, 0.44 , 0.626, 0.796, 1.1  ,\n",
      "       1.367])\n",
      "aggr_d_clicks=array([ 20.018,  26.03 ,  42.358,  56.468,  91.773, 143.8  , 163.133,\n",
      "       174.226, 185.61 , 190.621])\n",
      "aggr_conv_rates=array([0.204, 0.211, 0.205, 0.189, 0.176, 0.152, 0.128, 0.113, 0.097,\n",
      "       0.09 ])\n",
      "aggr_purch=array([2.85 , 2.485, 2.12 , 1.755, 1.39 , 1.025, 0.84 , 0.69 , 0.65 ,\n",
      "       0.65 ])\n"
     ]
    }
   ],
   "source": [
    "print('\\nDATA:')\n",
    "print(f'{prices=}')\n",
    "print(f'{bids=}')\n",
    "print(f'{aggr_cpc=}')\n",
    "print(f'{aggr_d_clicks=}')\n",
    "print(f'{aggr_conv_rates=}')\n",
    "print(f'{aggr_purch=}')"
   ]
  },
  {
   "cell_type": "code",
   "execution_count": 17,
   "metadata": {},
   "outputs": [],
   "source": [
    "T = 200\n",
    "n_experiments = 3\n",
    "\n",
    "gts_rewards_per_experiment = []\n",
    "gpts_rewards_per_experiment = []"
   ]
  },
  {
   "cell_type": "code",
   "execution_count": 18,
   "metadata": {
    "scrolled": true
   },
   "outputs": [],
   "source": [
    "for e in range(0, n_experiments):\n",
    "    env = BiddingEnvironment(bids = b, sigma = sigma, n_clicks = aggr_d_clicks, cpc = aggr_cpc, \\\n",
    "                             conversion_rates = aggr_conv_rates, margins = prices, tau = aggr_purch, price_idx = 0)\n",
    "    gts_learner = GTS_Learner(n_arms = n_arms)\n",
    "    gpts_learner = GPTS_Learner(n_arms = n_arms, arms = bids)\n",
    "    for t in range(0, T):\n",
    "        #pulled_arm = gts_learner.pull_arm()\n",
    "        #reward = env.round(pulled_arm)\n",
    "        #gts_learner.update(pulled_arm, reward)\n",
    "        \n",
    "        pulled_arm = gpts_learner.pull_arm()\n",
    "        reward = env.round(pulled_arm)\n",
    "        if(e == 0):\n",
    "            print('reward = ' + f'{reward}')\n",
    "            \n",
    "        gpts_learner.update(pulled_arm, reward)\n",
    "        \n",
    "    gts_rewards_per_experiment.append(gts_learner.collected_rewards)\n",
    "    gpts_rewards_per_experiment.append(gpts_learner.collected_rewards)"
   ]
  },
  {
   "cell_type": "code",
   "execution_count": 19,
   "metadata": {},
   "outputs": [
    {
     "data": {
      "image/png": "[encoded data removed]",
      "text/plain": [
       "<Figure size 432x288 with 1 Axes>"
      ]
     },
     "metadata": {
      "needs_background": "light"
     },
     "output_type": "display_data"
    }
   ],
   "source": [
    "#opt = np.max(env.means)\n",
    "opt = env.get_opt()\n",
    "\n",
    "plt.figure(0)\n",
    "plt.ylabel(\"Regret\")\n",
    "plt.xlabel(\"t\")\n",
    "plt.plot(np.cumsum(np.mean(opt - gts_rewards_per_experiment, axis=0)), 'r')\n",
    "plt.plot(np.cumsum(np.mean(opt - gpts_rewards_per_experiment, axis=0)), 'g')\n",
    "plt.legend(['GTS', 'GPTS'])\n",
    "plt.show()"
   ]
  },
  {
   "cell_type": "code",
   "execution_count": null,
   "metadata": {},
   "outputs": [],
   "source": []
  }
 ],
 "metadata": {
  "kernelspec": {
   "display_name": "Python 3",
   "language": "python",
   "name": "python3"
  },
  "language_info": {
   "codemirror_mode": {
    "name": "ipython",
    "version": 3
   },
   "file_extension": ".py",
   "mimetype": "text/x-python",
   "name": "python",
   "nbconvert_exporter": "python",
   "pygments_lexer": "ipython3",
   "version": "3.8.8"
  }
 },
 "nbformat": 4,
 "nbformat_minor": 4
}
