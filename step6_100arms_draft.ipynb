{
 "cells": [
  {
   "cell_type": "code",
   "execution_count": 2,
   "id": "fa560171",
   "metadata": {},
   "outputs": [],
   "source": [
    "import numpy as np\n",
    "import matplotlib.pyplot as plt\n",
    "%matplotlib inline \n",
    "\n",
    "from data_generators.basic_generator import BasicDataGenerator\n",
    "from environments.Joint100Env import JointEnvironment\n",
    "from learners.joint.JointTS import JointTS\n",
    "from learners.pricing.ucb import UCB"
   ]
  },
  {
   "cell_type": "code",
   "execution_count": 3,
   "id": "11b43f33",
   "metadata": {
    "scrolled": true
   },
   "outputs": [
    {
     "name": "stdout",
     "output_type": "stream",
     "text": [
      "--------------- DATA ---------------\n",
      "prices=[15, 16, 17, 18, 19, 20, 21, 22, 23, 24]\n",
      "bids=[0.03, 0.04, 0.07, 0.1, 0.2, 0.5, 0.75, 1.0, 1.5, 2.0]\n",
      "margins=[15, 16, 17, 18, 19, 20, 21, 22, 23, 24]\n",
      "conv_rates=array([0.213, 0.207, 0.2  , 0.19 , 0.176, 0.16 , 0.132, 0.122, 0.112,\n",
      "       0.094])\n",
      "costs_per_click=array([0.03 , 0.04 , 0.069, 0.097, 0.189, 0.44 , 0.626, 0.796, 1.1  ,\n",
      "       1.367])\n",
      "n_clicks=array([ 28.807,  37.296,  59.959,  79.058, 124.63 , 183.261, 199.824,\n",
      "       206.816, 211.296, 212.237])\n",
      "aggr_tau=array([2.85 , 2.485, 2.12 , 1.755, 1.39 , 1.025, 0.84 , 0.69 , 0.65 ,\n",
      "       0.65 ])\n"
     ]
    }
   ],
   "source": [
    "data_gen = BasicDataGenerator(filename='src/basic001.json')\n",
    "prices = data_gen.get_prices()\n",
    "bids = data_gen.get_bids()\n",
    "margins = data_gen.get_margins()\n",
    "conv_rates = data_gen.get_conversion_rates(mode='aggregate')\n",
    "n_clicks = data_gen.get_daily_clicks(mode='aggregate')\n",
    "costs_per_click = data_gen.get_costs_per_click(mode='aggregate')\n",
    "aggr_tau = data_gen.get_future_purchases(mode='aggregate')\n",
    "\n",
    "print(15*'-','DATA', '-'*15)\n",
    "print(f'{prices=}')\n",
    "print(f'{bids=}')\n",
    "print(f'{margins=}')\n",
    "print(f'{conv_rates=}')\n",
    "print(f'{costs_per_click=}')\n",
    "print(f'{n_clicks=}')\n",
    "print(f'{aggr_tau=}')\n",
    "\n",
    "arms = np.array(np.meshgrid(margins, bids)).T.reshape(len(margins)*len(bids), 2)\n",
    "n_arms = len(arms)\n",
    "env_params = {\n",
    "        'mode': 'aggregate',\n",
    "        'src': 'src/basic001.json',\n",
    "}"
   ]
  },
  {
   "cell_type": "code",
   "execution_count": 34,
   "id": "f9ea8fea",
   "metadata": {},
   "outputs": [
    {
     "name": "stdout",
     "output_type": "stream",
     "text": [
      "\n",
      " --------------- SIMULATION PARAMS ---------------\n",
      "Time horizon: 365 days\n",
      "Num. experiments: 10\n"
     ]
    }
   ],
   "source": [
    "print('\\n', 15 * '-', 'SIMULATION PARAMS', '-' * 15)\n",
    "T = 365\n",
    "n_experiments = 10\n",
    "print(f'Time horizon: {T} days')\n",
    "print(f'Num. experiments: {n_experiments}')"
   ]
  },
  {
   "cell_type": "code",
   "execution_count": 35,
   "id": "79cdead0",
   "metadata": {},
   "outputs": [],
   "source": [
    "margins_rep = np.repeat(margins, len(margins))\n",
    "conv_rates_rep = np.repeat(conv_rates, len(margins))\n",
    "n_clicks_tile = np.tile(n_clicks, len(bids))\n",
    "costs_per_click_tile = np.tile(costs_per_click, len(bids))\n",
    "tau_rep = np.repeat(aggr_tau, len(margins))"
   ]
  },
  {
   "cell_type": "code",
   "execution_count": 36,
   "id": "b4f0dea4",
   "metadata": {},
   "outputs": [
    {
     "name": "stdout",
     "output_type": "stream",
     "text": [
      "N_ARMS: 100\n",
      "Arms:\n",
      " [[15.    0.03]\n",
      " [15.    0.04]\n",
      " [15.    0.07]\n",
      " [15.    0.1 ]\n",
      " [15.    0.2 ]\n",
      " [15.    0.5 ]\n",
      " [15.    0.75]\n",
      " [15.    1.  ]\n",
      " [15.    1.5 ]\n",
      " [15.    2.  ]\n",
      " [16.    0.03]\n",
      " [16.    0.04]\n",
      " [16.    0.07]\n",
      " [16.    0.1 ]\n",
      " [16.    0.2 ]\n",
      " [16.    0.5 ]\n",
      " [16.    0.75]\n",
      " [16.    1.  ]\n",
      " [16.    1.5 ]\n",
      " [16.    2.  ]\n",
      " [17.    0.03]\n",
      " [17.    0.04]\n",
      " [17.    0.07]\n",
      " [17.    0.1 ]\n",
      " [17.    0.2 ]\n",
      " [17.    0.5 ]\n",
      " [17.    0.75]\n",
      " [17.    1.  ]\n",
      " [17.    1.5 ]\n",
      " [17.    2.  ]\n",
      " [18.    0.03]\n",
      " [18.    0.04]\n",
      " [18.    0.07]\n",
      " [18.    0.1 ]\n",
      " [18.    0.2 ]\n",
      " [18.    0.5 ]\n",
      " [18.    0.75]\n",
      " [18.    1.  ]\n",
      " [18.    1.5 ]\n",
      " [18.    2.  ]\n",
      " [19.    0.03]\n",
      " [19.    0.04]\n",
      " [19.    0.07]\n",
      " [19.    0.1 ]\n",
      " [19.    0.2 ]\n",
      " [19.    0.5 ]\n",
      " [19.    0.75]\n",
      " [19.    1.  ]\n",
      " [19.    1.5 ]\n",
      " [19.    2.  ]\n",
      " [20.    0.03]\n",
      " [20.    0.04]\n",
      " [20.    0.07]\n",
      " [20.    0.1 ]\n",
      " [20.    0.2 ]\n",
      " [20.    0.5 ]\n",
      " [20.    0.75]\n",
      " [20.    1.  ]\n",
      " [20.    1.5 ]\n",
      " [20.    2.  ]\n",
      " [21.    0.03]\n",
      " [21.    0.04]\n",
      " [21.    0.07]\n",
      " [21.    0.1 ]\n",
      " [21.    0.2 ]\n",
      " [21.    0.5 ]\n",
      " [21.    0.75]\n",
      " [21.    1.  ]\n",
      " [21.    1.5 ]\n",
      " [21.    2.  ]\n",
      " [22.    0.03]\n",
      " [22.    0.04]\n",
      " [22.    0.07]\n",
      " [22.    0.1 ]\n",
      " [22.    0.2 ]\n",
      " [22.    0.5 ]\n",
      " [22.    0.75]\n",
      " [22.    1.  ]\n",
      " [22.    1.5 ]\n",
      " [22.    2.  ]\n",
      " [23.    0.03]\n",
      " [23.    0.04]\n",
      " [23.    0.07]\n",
      " [23.    0.1 ]\n",
      " [23.    0.2 ]\n",
      " [23.    0.5 ]\n",
      " [23.    0.75]\n",
      " [23.    1.  ]\n",
      " [23.    1.5 ]\n",
      " [23.    2.  ]\n",
      " [24.    0.03]\n",
      " [24.    0.04]\n",
      " [24.    0.07]\n",
      " [24.    0.1 ]\n",
      " [24.    0.2 ]\n",
      " [24.    0.5 ]\n",
      " [24.    0.75]\n",
      " [24.    1.  ]\n",
      " [24.    1.5 ]\n",
      " [24.    2.  ]]\n",
      "Optimal arm: 7\n"
     ]
    }
   ],
   "source": [
    "opt_arm = np.argmax((margins_rep * conv_rates_rep * (1 + tau_rep) - costs_per_click_tile) * n_clicks_tile)\n",
    "print(f'N_ARMS: {n_arms}')\n",
    "print(f'Arms:\\n {arms}')\n",
    "print(f'Optimal arm: {str(opt_arm)}')"
   ]
  },
  {
   "cell_type": "code",
   "execution_count": 37,
   "id": "40e3c64c",
   "metadata": {},
   "outputs": [
    {
     "name": "stdout",
     "output_type": "stream",
     "text": [
      "N_ROUNDS: 365\n",
      "N_EXPERIMENTS: 10\n"
     ]
    }
   ],
   "source": [
    "learners_to_test = [JointTS]\n",
    "rewards_per_experiment = []\n",
    "\n",
    "print(f'N_ROUNDS: {T}')\n",
    "print(f'N_EXPERIMENTS: {n_experiments}')"
   ]
  },
  {
   "cell_type": "code",
   "execution_count": 38,
   "id": "d22bc087",
   "metadata": {},
   "outputs": [
    {
     "name": "stdout",
     "output_type": "stream",
     "text": [
      "running exp#0...\n",
      "Environment created with no fixed arm values\n",
      "running exp#1...\n",
      "Environment created with no fixed arm values\n",
      "running exp#2...\n",
      "Environment created with no fixed arm values\n",
      "running exp#3...\n",
      "Environment created with no fixed arm values\n",
      "running exp#4...\n",
      "Environment created with no fixed arm values\n",
      "running exp#5...\n",
      "Environment created with no fixed arm values\n",
      "running exp#6...\n",
      "Environment created with no fixed arm values\n",
      "running exp#7...\n",
      "Environment created with no fixed arm values\n",
      "running exp#8...\n",
      "Environment created with no fixed arm values\n",
      "running exp#9...\n",
      "Environment created with no fixed arm values\n"
     ]
    }
   ],
   "source": [
    "for e in range(n_experiments):\n",
    "    # Initialization of the learners to test and their related environment:\n",
    "    # the list is composed of tuples (Learner, Environment)\n",
    "    print(f'running exp#{e}...')\n",
    "    test_instances = []\n",
    "    learner = JointTS(arm_values = arms)\n",
    "    env = JointEnvironment(**env_params)\n",
    "    for t in range(T):\n",
    "        learner.next_day()\n",
    "        month_purchases = env.get_next_purchases_at_day(t, keep=False)\n",
    "        if month_purchases is not None:\n",
    "            pulled_arms = env.get_selected_arms_at_day(t - 30, keep=False)\n",
    "            for arm, n_purchases in zip(pulled_arms, month_purchases):\n",
    "                learner.update_single_future_purchase(arm, n_purchases)\n",
    "        pulled_arm = learner.pull_arm()\n",
    "        daily_reward = env.day_round(pulled_arm)\n",
    "        for outcome, cost in daily_reward:\n",
    "            learner.update(pulled_arm, outcome, cost)\n",
    "\n",
    "    rewards_per_experiment.append(learner.daily_collected_rewards)"
   ]
  },
  {
   "cell_type": "code",
   "execution_count": 39,
   "id": "4e70e069",
   "metadata": {},
   "outputs": [
    {
     "data": {
      "text/plain": [
       "364"
      ]
     },
     "execution_count": 39,
     "metadata": {},
     "output_type": "execute_result"
    }
   ],
   "source": [
    "len(rewards_per_experiment[0])"
   ]
  },
  {
   "cell_type": "code",
   "execution_count": 46,
   "id": "d2e4a5fc",
   "metadata": {},
   "outputs": [
    {
     "data": {
      "image/png": "[encoded data removed]",
      "text/plain": [
       "<Figure size 720x576 with 1 Axes>"
      ]
     },
     "metadata": {
      "needs_background": "light"
     },
     "output_type": "display_data"
    }
   ],
   "source": [
    "# Plotting the results\n",
    "plt.figure(figsize=(10,8))\n",
    "plt.ylabel(\"Regret\")\n",
    "plt.xlabel(\"day\")\n",
    "opt = (margins_rep[opt_arm] * conv_rates_rep[opt_arm] * (1 + tau_rep[opt_arm]) - costs_per_click_tile[opt_arm]) * np.rint(n_clicks_tile[opt_arm]).astype(int)\n",
    "plt.plot(np.cumsum(np.mean(opt - rewards_per_experiment, axis=0)), 'r')\n",
    "plt.plot(20000*np.sqrt(np.linspace(0,364,364)))\n",
    "#for val in rewards_per_experiment.values():\n",
    "#    plt.plot(np.cumsum(np.mean(opt - val, axis=0)))\n",
    "plt.legend(['JointTS', 'sqrt(t)'])\n",
    "plt.show()"
   ]
  },
  {
   "cell_type": "code",
   "execution_count": 11,
   "id": "37e033a1",
   "metadata": {},
   "outputs": [
    {
     "ename": "TypeError",
     "evalue": "only integer scalar arrays can be converted to a scalar index",
     "output_type": "error",
     "traceback": [
      "\u001b[1;31m---------------------------------------------------------------------------\u001b[0m",
      "\u001b[1;31mTypeError\u001b[0m                                 Traceback (most recent call last)",
      "\u001b[1;32m<ipython-input-11-d7b402af2282>\u001b[0m in \u001b[0;36m<module>\u001b[1;34m\u001b[0m\n\u001b[0;32m      4\u001b[0m \u001b[0mplt\u001b[0m\u001b[1;33m.\u001b[0m\u001b[0mplot\u001b[0m\u001b[1;33m(\u001b[0m\u001b[1;33m[\u001b[0m\u001b[0mopt\u001b[0m\u001b[1;33m]\u001b[0m\u001b[1;33m*\u001b[0m\u001b[1;36m365\u001b[0m\u001b[1;33m,\u001b[0m \u001b[1;34m'--g'\u001b[0m\u001b[1;33m,\u001b[0m \u001b[0mlabel\u001b[0m\u001b[1;33m=\u001b[0m\u001b[1;34m'clairwoyant'\u001b[0m\u001b[1;33m)\u001b[0m\u001b[1;33m\u001b[0m\u001b[1;33m\u001b[0m\u001b[0m\n\u001b[0;32m      5\u001b[0m \u001b[1;32mfor\u001b[0m \u001b[0mkey\u001b[0m \u001b[1;32min\u001b[0m \u001b[0mrewards_per_experiment\u001b[0m\u001b[1;33m:\u001b[0m\u001b[1;33m\u001b[0m\u001b[1;33m\u001b[0m\u001b[0m\n\u001b[1;32m----> 6\u001b[1;33m     \u001b[0mplt\u001b[0m\u001b[1;33m.\u001b[0m\u001b[0mplot\u001b[0m\u001b[1;33m(\u001b[0m\u001b[0mnp\u001b[0m\u001b[1;33m.\u001b[0m\u001b[0mmean\u001b[0m\u001b[1;33m(\u001b[0m\u001b[0mrewards_per_experiment\u001b[0m\u001b[1;33m[\u001b[0m\u001b[0mkey\u001b[0m\u001b[1;33m]\u001b[0m\u001b[1;33m,\u001b[0m \u001b[0maxis\u001b[0m\u001b[1;33m=\u001b[0m\u001b[1;36m0\u001b[0m\u001b[1;33m)\u001b[0m\u001b[1;33m,\u001b[0m \u001b[0mlabel\u001b[0m\u001b[1;33m=\u001b[0m\u001b[0mkey\u001b[0m\u001b[1;33m)\u001b[0m\u001b[1;33m\u001b[0m\u001b[1;33m\u001b[0m\u001b[0m\n\u001b[0m\u001b[0;32m      7\u001b[0m \u001b[0mplt\u001b[0m\u001b[1;33m.\u001b[0m\u001b[0mlegend\u001b[0m\u001b[1;33m(\u001b[0m\u001b[0mloc\u001b[0m\u001b[1;33m=\u001b[0m\u001b[1;34m'best'\u001b[0m\u001b[1;33m)\u001b[0m\u001b[1;33m\u001b[0m\u001b[1;33m\u001b[0m\u001b[0m\n\u001b[0;32m      8\u001b[0m \u001b[0mplt\u001b[0m\u001b[1;33m.\u001b[0m\u001b[0mshow\u001b[0m\u001b[1;33m(\u001b[0m\u001b[1;33m)\u001b[0m\u001b[1;33m\u001b[0m\u001b[1;33m\u001b[0m\u001b[0m\n",
      "\u001b[1;31mTypeError\u001b[0m: only integer scalar arrays can be converted to a scalar index"
     ]
    },
    {
     "data": {
      "image/png": "[encoded data removed]",
      "text/plain": [
       "<Figure size 720x576 with 1 Axes>"
      ]
     },
     "metadata": {
      "needs_background": "light"
     },
     "output_type": "display_data"
    }
   ],
   "source": [
    "plt.figure(figsize=(10,8))\n",
    "plt.xlabel(\"day\")\n",
    "plt.ylabel(\"daily reward\")\n",
    "plt.plot([opt]*365, '--g', label='clairwoyant')\n",
    "for key in rewards_per_experiment:\n",
    "    plt.plot(np.mean(rewards_per_experiment[key], axis=0), label=key)\n",
    "plt.legend(loc='best')\n",
    "plt.show()"
   ]
  },
  {
   "cell_type": "code",
   "execution_count": null,
   "id": "e12af414",
   "metadata": {},
   "outputs": [],
   "source": []
  }
 ],
 "metadata": {
  "kernelspec": {
   "display_name": "Python 3",
   "language": "python",
   "name": "python3"
  },
  "language_info": {
   "codemirror_mode": {
    "name": "ipython",
    "version": 3
   },
   "file_extension": ".py",
   "mimetype": "text/x-python",
   "name": "python",
   "nbconvert_exporter": "python",
   "pygments_lexer": "ipython3",
   "version": "3.9.4"
  }
 },
 "nbformat": 4,
 "nbformat_minor": 5
}
