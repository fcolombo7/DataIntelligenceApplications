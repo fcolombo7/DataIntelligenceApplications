{
 "cells": [
  {
   "cell_type": "markdown",
   "id": "governmental-growing",
   "metadata": {},
   "source": [
    "# Step#1"
   ]
  },
  {
   "cell_type": "markdown",
   "id": "aggressive-basic",
   "metadata": {},
   "source": [
    "## Assumptions\n",
    "* Every subcampaign is associated with a different class of customer (i.e. context)\n",
    "* ..."
   ]
  },
  {
   "cell_type": "markdown",
   "id": "actual-pasta",
   "metadata": {},
   "source": [
    "## Variables and notation\n",
    "\n",
    "| Variable | Description |\n",
    "|---------:|:------------|\n",
    "| $t$ | Time/Day  |\n",
    "| $T$ | Time horizon |\n",
    "| $j$ | A customer class/subcampaign |\n",
    "| $N$ | Number of customer classes/subcampaigns |\n",
    "| $p_{j,t}$ | Price at time $t$ for the customer class/subcampaign $j$ |\n",
    "| $c_{j}$ | Conversion rate at price $p$ for the customer class/subcampaign $j$ |\n",
    "| $m$ | Margin obtained by the sale at price $p$ |\n",
    "| $x_{j,t}$ | Bid of subcampaign $j$ at time $t$ |\n",
    "| $n_{j}$ | Number of clicks of new users of subcampaign $j$, given the value of the bid $x_{j,t}$ |\n",
    "| $\\tau_{j}$ | Number of times the user buy again the item by 30 days after the first purchase |\n",
    "| $CPC_{j}$| Cost per click for the subcampaign $j$, given the value of the bid $x_{j,t}$ |"
   ]
  },
  {
   "cell_type": "markdown",
   "id": "aware-universal",
   "metadata": {},
   "source": [
    "## Optimization problem\n",
    "Objective function (maximization of the profit): $$ \\underset{p_{j,t} , x_{j,t}}{\\textrm{max}} \\sum \\limits _{t} ^{T} \\sum \\limits _{j} ^{N} n_{j}(x_{j,t}) \\text{  } [ \\text{  } c_{j}(p_{j,t}) \\text{  } m(p_{j,t}) \\text{  } \\tau_{j} - CPC_{j}(x_{j,t}) ] $$"
   ]
  },
  {
   "cell_type": "markdown",
   "id": "helpful-worker",
   "metadata": {},
   "source": [
    "## Algorithm\n",
    "\n",
    "***\n",
    "$\\mathbf{\\text{Joint bidding/pricing optimization algorithm}}$<br>\n",
    "***\n",
    "For $t = 1$ to $T$, and for $j = 1$ to $N$ set:\n",
    "* $p_{j,t}^{*}, x_{j,t}^{*} = \\underset{p_{j,t} , x_{j,t}}{\\textrm{arg max}} \\text{  } n_{j}(x_{j,t}) \\text{  } [ \\text{  } c_{j}(p_{j,t}) \\text{  } m(p_{j,t}) \\text{  } \\tau_{j} - CPC_{j}(x_{j,t}) ]$\n",
    "\n",
    "The values of all the parameters are known and available in $\\Theta(1)$.  \n",
    "Defining $X$ the total number of bids and $P$ the total number of prices, the algorithm finds the optimal values $p_{j,t}^{*}, x_{j,t}^{*}$ with time complexity: $$ \\Theta(T \\text{ } N \\text{ } X \\text{ } P) $$"
   ]
  }
 ],
 "metadata": {
  "kernelspec": {
   "display_name": "Python 3",
   "language": "python",
   "name": "python3"
  },
  "language_info": {
   "codemirror_mode": {
    "name": "ipython",
    "version": 3
   },
   "file_extension": ".py",
   "mimetype": "text/x-python",
   "name": "python",
   "nbconvert_exporter": "python",
   "pygments_lexer": "ipython3",
   "version": "3.8.8"
  }
 },
 "nbformat": 4,
 "nbformat_minor": 5
}
