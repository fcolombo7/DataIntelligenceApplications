{
 "cells": [
  {
   "cell_type": "code",
   "execution_count": 1,
   "metadata": {},
   "outputs": [],
   "source": [
    "import numpy as np\n",
    "import matplotlib.pyplot as plt\n",
    "from environments.BiddingEnvironment import *\n",
    "from learners.GTS_Learner import *\n",
    "from learners.GPTS_Learner import *"
   ]
  },
  {
   "cell_type": "code",
   "execution_count": 2,
   "metadata": {},
   "outputs": [
    {
     "data": {
      "text/plain": [
       "array([0.        , 0.22222222, 0.44444444, 0.66666667, 0.88888889,\n",
       "       1.11111111, 1.33333333, 1.55555556, 1.77777778, 2.        ])"
      ]
     },
     "execution_count": 2,
     "metadata": {},
     "output_type": "execute_result"
    }
   ],
   "source": [
    "from data_generators.basic_generator import *\n",
    "\n",
    "d = BasicDataGenerator('src/basic002.json')\n",
    "d.get_daily_clicks(mode='aggregate')\n",
    "d.get_bids()\n",
    "np.linspace(0.0, 2.0, 10)"
   ]
  },
  {
   "cell_type": "code",
   "execution_count": 8,
   "metadata": {},
   "outputs": [],
   "source": [
    "n_arms = 10\n",
    "min_bid = 0.0\n",
    "max_bid = 1.0\n",
    "bids = np.linspace(min_bid, max_bid, n_arms) #np.array(d.get_bids())\n",
    "sigma = 10"
   ]
  },
  {
   "cell_type": "code",
   "execution_count": 9,
   "metadata": {},
   "outputs": [
    {
     "data": {
      "text/plain": [
       "array([0.        , 0.11111111, 0.22222222, 0.33333333, 0.44444444,\n",
       "       0.55555556, 0.66666667, 0.77777778, 0.88888889, 1.        ])"
      ]
     },
     "execution_count": 9,
     "metadata": {},
     "output_type": "execute_result"
    }
   ],
   "source": [
    "bids"
   ]
  },
  {
   "cell_type": "code",
   "execution_count": 13,
   "metadata": {},
   "outputs": [],
   "source": [
    "T = 20\n",
    "n_experiments = 50\n",
    "gts_rewards_per_experiment = []\n",
    "gpts_rewards_per_experiment = []"
   ]
  },
  {
   "cell_type": "code",
   "execution_count": null,
   "metadata": {},
   "outputs": [],
   "source": [
    "for e in range(0, n_experiments):\n",
    "    env = BiddingEnvironment(bids = bids, sigma = sigma)\n",
    "    gts_learner = GTS_Learner(n_arms = n_arms)\n",
    "    gpts_learner = GPTS_Learner(n_arms = n_arms, arms = bids)\n",
    "    for t in range(0, T):\n",
    "        pulled_arm = gts_learner.pull_arm()\n",
    "        reward = env.round(pulled_arm)\n",
    "        gts_learner.update(pulled_arm, reward)\n",
    "        \n",
    "        pulled_arm = gpts_learner.pull_arm()\n",
    "        reward = env.round(pulled_arm)\n",
    "        gpts_learner.update(pulled_arm, reward)\n",
    "        \n",
    "    gts_rewards_per_experiment.append(gts_learner.collected_rewards)\n",
    "    gpts_rewards_per_experiment.append(gpts_learner.collected_rewards)"
   ]
  },
  {
   "cell_type": "code",
   "execution_count": null,
   "metadata": {},
   "outputs": [],
   "source": [
    "opt = np.max(env.means)\n",
    "plt.figure(0)\n",
    "plt.ylabel(\"Regret\")\n",
    "plt.xlabel(\"t\")\n",
    "plt.plot(np.cumsum(np.mean(opt - gts_rewards_per_experiment, axis=0)), 'r')\n",
    "plt.plot(np.cumsum(np.mean(opt - gpts_rewards_per_experiment, axis=0)), 'g')\n",
    "plt.legend(['GTS', 'GPTS'])\n",
    "plt.show()"
   ]
  },
  {
   "cell_type": "code",
   "execution_count": null,
   "metadata": {},
   "outputs": [],
   "source": []
  }
 ],
 "metadata": {
  "kernelspec": {
   "display_name": "Python 3",
   "language": "python",
   "name": "python3"
  },
  "language_info": {
   "codemirror_mode": {
    "name": "ipython",
    "version": 3
   },
   "file_extension": ".py",
   "mimetype": "text/x-python",
   "name": "python",
   "nbconvert_exporter": "python",
   "pygments_lexer": "ipython3",
   "version": "3.8.8"
  }
 },
 "nbformat": 4,
 "nbformat_minor": 4
}
