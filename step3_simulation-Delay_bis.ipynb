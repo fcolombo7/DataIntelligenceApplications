{
 "cells": [
  {
   "cell_type": "code",
   "execution_count": 1,
   "id": "fa560171",
   "metadata": {},
   "outputs": [],
   "source": [
    "import numpy as np\n",
    "import matplotlib.pyplot as plt\n",
    "%matplotlib inline \n",
    "\n",
    "from data_generators.basic_generator import BasicDataGenerator\n",
    "from environments.pricing_environment import PricingEnvironment\n",
    "from learners.pricing.thompson_sampling import ThompsonSampling\n",
    "from learners.pricing.ucb import UCB"
   ]
  },
  {
   "cell_type": "code",
   "execution_count": 2,
   "id": "11b43f33",
   "metadata": {
    "scrolled": true
   },
   "outputs": [
    {
     "name": "stdout",
     "output_type": "stream",
     "text": [
      "--------------- DATA ---------------\n",
      "prices=[15, 16, 17, 18, 19, 20, 21, 22, 23, 24]\n",
      "bids=[0.03, 0.04, 0.07, 0.1, 0.2, 0.5, 0.75, 1.0, 1.5, 2.0]\n",
      "margins=[15, 16, 17, 18, 19, 20, 21, 22, 23, 24]\n",
      "conv_rates=array([0.213, 0.207, 0.2  , 0.19 , 0.176, 0.16 , 0.132, 0.122, 0.112,\n",
      "       0.094])\n",
      "costs_per_click=array([0.03 , 0.04 , 0.069, 0.097, 0.189, 0.44 , 0.626, 0.796, 1.1  ,\n",
      "       1.367])\n",
      "n_clicks=array([ 28.807,  37.296,  59.959,  79.058, 124.63 , 183.261, 199.824,\n",
      "       206.816, 211.296, 212.237])\n",
      "aggr_tau=array([2.85 , 2.485, 2.12 , 1.755, 1.39 , 1.025, 0.84 , 0.69 , 0.65 ,\n",
      "       0.65 ])\n",
      "\n",
      "Selected bid: 0.1(3)\n",
      "Fixed CPC: 0.097\n",
      "Fixed num_clicks: 79.058 -> 79\n"
     ]
    }
   ],
   "source": [
    "data_gen = BasicDataGenerator(filename='src/basic001.json')\n",
    "prices = data_gen.get_prices()\n",
    "bids = data_gen.get_bids()\n",
    "margins = data_gen.get_margins()\n",
    "conv_rates = data_gen.get_conversion_rates(mode='aggregate')\n",
    "n_clicks = data_gen.get_daily_clicks(mode='aggregate')\n",
    "costs_per_click = data_gen.get_costs_per_click(mode='aggregate')\n",
    "aggr_tau = data_gen.get_future_purchases(mode='aggregate')\n",
    "\n",
    "print(15*'-','DATA', '-'*15)\n",
    "print(f'{prices=}')\n",
    "print(f'{bids=}')\n",
    "print(f'{margins=}')\n",
    "print(f'{conv_rates=}')\n",
    "print(f'{costs_per_click=}')\n",
    "print(f'{n_clicks=}')\n",
    "print(f'{aggr_tau=}')\n",
    "\n",
    "sel_bid = 3\n",
    "print(f'\\nSelected bid: {bids[sel_bid]}({sel_bid})')\n",
    "print(f'Fixed CPC: {costs_per_click[sel_bid]}')\n",
    "print(f'Fixed num_clicks: {n_clicks[sel_bid]} -> {np.rint(n_clicks[sel_bid]).astype(int)}')\n",
    "n_arms = len(prices)\n",
    "env_params = {\n",
    "        'mode': 'aggregate',\n",
    "        'src': 'src/basic001.json',\n",
    "}"
   ]
  },
  {
   "cell_type": "code",
   "execution_count": 3,
   "id": "f9ea8fea",
   "metadata": {},
   "outputs": [
    {
     "name": "stdout",
     "output_type": "stream",
     "text": [
      "\n",
      " --------------- SIMULATION PARAMS ---------------\n",
      "Time horizon: 365 days\n",
      "Num. experiments: 10\n"
     ]
    }
   ],
   "source": [
    "print('\\n', 15 * '-', 'SIMULATION PARAMS', '-' * 15)\n",
    "T = 365\n",
    "n_experiments = 10\n",
    "print(f'Time horizon: {T} days')\n",
    "print(f'Num. experiments: {n_experiments}')"
   ]
  },
  {
   "cell_type": "code",
   "execution_count": 4,
   "id": "b4f0dea4",
   "metadata": {},
   "outputs": [
    {
     "name": "stdout",
     "output_type": "stream",
     "text": [
      "N_ARMS: 10\n",
      "Optimal arm: 0\n"
     ]
    }
   ],
   "source": [
    "opt_arm = np.argmax(margins * conv_rates * (1 + aggr_tau) - costs_per_click[sel_bid])\n",
    "print(f'N_ARMS: {n_arms}')\n",
    "print(f'Optimal arm: {str(opt_arm)}')"
   ]
  },
  {
   "cell_type": "code",
   "execution_count": 5,
   "id": "40e3c64c",
   "metadata": {},
   "outputs": [
    {
     "name": "stdout",
     "output_type": "stream",
     "text": [
      "N_ROUNDS: 365\n",
      "N_EXPERIMENTS: 10\n",
      "ALGORITHMS: ['UCB-Pricing', 'TS-Pricing']\n"
     ]
    }
   ],
   "source": [
    "learners_to_test = [UCB, ThompsonSampling]\n",
    "rewards_per_experiment = {}\n",
    "for learner in learners_to_test:\n",
    "    rewards_per_experiment[learner.LEARNER_NAME] = []\n",
    "\n",
    "print(f'N_ROUNDS: {T}')\n",
    "print(f'N_EXPERIMENTS: {n_experiments}')\n",
    "print(f'ALGORITHMS: {list(rewards_per_experiment.keys())}')"
   ]
  },
  {
   "cell_type": "code",
   "execution_count": 6,
   "id": "d22bc087",
   "metadata": {},
   "outputs": [
    {
     "name": "stdout",
     "output_type": "stream",
     "text": [
      "running exp#0...\n",
      "Environment created with fixed bid: 0.1\n",
      "Environment created with fixed bid: 0.1\n",
      "running exp#1...\n",
      "Environment created with fixed bid: 0.1\n",
      "Environment created with fixed bid: 0.1\n",
      "running exp#2...\n",
      "Environment created with fixed bid: 0.1\n",
      "Environment created with fixed bid: 0.1\n",
      "running exp#3...\n",
      "Environment created with fixed bid: 0.1\n",
      "Environment created with fixed bid: 0.1\n",
      "running exp#4...\n",
      "Environment created with fixed bid: 0.1\n",
      "Environment created with fixed bid: 0.1\n",
      "running exp#5...\n",
      "Environment created with fixed bid: 0.1\n",
      "Environment created with fixed bid: 0.1\n",
      "running exp#6...\n",
      "Environment created with fixed bid: 0.1\n",
      "Environment created with fixed bid: 0.1\n",
      "running exp#7...\n",
      "Environment created with fixed bid: 0.1\n",
      "Environment created with fixed bid: 0.1\n",
      "running exp#8...\n",
      "Environment created with fixed bid: 0.1\n",
      "Environment created with fixed bid: 0.1\n",
      "running exp#9...\n",
      "Environment created with fixed bid: 0.1\n",
      "Environment created with fixed bid: 0.1\n"
     ]
    }
   ],
   "source": [
    "for e in range(n_experiments):\n",
    "    # Initialization of the learners to test and their related environment:\n",
    "    # the list is composed of tuples (Learner, Environment)\n",
    "    print(f'running exp#{e}...')\n",
    "    test_instances = []\n",
    "    for learner in learners_to_test:\n",
    "        test_instances.append((learner(arm_values=margins), PricingEnvironment(**env_params)))\n",
    "    for t in range(T):\n",
    "        for learner, env in test_instances:\n",
    "            learner.next_day()\n",
    "            month_purchases = env.get_next_purchases_at_day(t, keep=False)\n",
    "            if month_purchases is not None:\n",
    "                pulled_arms = env.get_selected_arms_at_day(t - 30, keep=False)\n",
    "                for arm, n_purchases in zip(pulled_arms, month_purchases):\n",
    "                    learner.update_single_future_purchase(arm, n_purchases)\n",
    "            pulled_arm = learner.pull_arm()\n",
    "            daily_reward = env.day_round(pulled_arm)\n",
    "            for outcome, cost in daily_reward:\n",
    "                learner.update(pulled_arm, outcome, cost)\n",
    "\n",
    "        for learner, _ in test_instances:\n",
    "            learner.next_day()\n",
    "            rewards_per_experiment[learner.LEARNER_NAME].append(learner.daily_collected_rewards)"
   ]
  },
  {
   "cell_type": "raw",
   "id": "db919f73",
   "metadata": {},
   "source": [
    "rewards_per_experiment"
   ]
  },
  {
   "cell_type": "code",
   "execution_count": 7,
   "id": "d2e4a5fc",
   "metadata": {},
   "outputs": [
    {
     "name": "stderr",
     "output_type": "stream",
     "text": [
      "IOPub data rate exceeded.\n",
      "The notebook server will temporarily stop sending output\n",
      "to the client in order to avoid crashing it.\n",
      "To change this limit, set the config variable\n",
      "`--NotebookApp.iopub_data_rate_limit`.\n",
      "\n",
      "Current values:\n",
      "NotebookApp.iopub_data_rate_limit=1000000.0 (bytes/sec)\n",
      "NotebookApp.rate_limit_window=3.0 (secs)\n",
      "\n",
      "<ipython-input-7-3a967294481a>:8: VisibleDeprecationWarning: Creating an ndarray from ragged nested sequences (which is a list-or-tuple of lists-or-tuples-or ndarrays with different lengths or shapes) is deprecated. If you meant to do this, you must specify 'dtype=object' when creating the ndarray.\n",
      "  plt.plot(np.cumsum(np.mean(opt - val, axis=0)))\n"
     ]
    },
    {
     "ename": "ValueError",
     "evalue": "operands could not be broadcast together with shapes (3,) (5,) ",
     "output_type": "error",
     "traceback": [
      "\u001b[1;31m---------------------------------------------------------------------------\u001b[0m",
      "\u001b[1;31mValueError\u001b[0m                                Traceback (most recent call last)",
      "\u001b[1;32m<ipython-input-7-3a967294481a>\u001b[0m in \u001b[0;36m<module>\u001b[1;34m\u001b[0m\n\u001b[0;32m      6\u001b[0m \u001b[1;32mfor\u001b[0m \u001b[0mval\u001b[0m \u001b[1;32min\u001b[0m \u001b[0mrewards_per_experiment\u001b[0m\u001b[1;33m.\u001b[0m\u001b[0mvalues\u001b[0m\u001b[1;33m(\u001b[0m\u001b[1;33m)\u001b[0m\u001b[1;33m:\u001b[0m\u001b[1;33m\u001b[0m\u001b[1;33m\u001b[0m\u001b[0m\n\u001b[0;32m      7\u001b[0m     \u001b[0mprint\u001b[0m\u001b[1;33m(\u001b[0m\u001b[0mval\u001b[0m\u001b[1;33m)\u001b[0m\u001b[1;33m\u001b[0m\u001b[1;33m\u001b[0m\u001b[0m\n\u001b[1;32m----> 8\u001b[1;33m     \u001b[0mplt\u001b[0m\u001b[1;33m.\u001b[0m\u001b[0mplot\u001b[0m\u001b[1;33m(\u001b[0m\u001b[0mnp\u001b[0m\u001b[1;33m.\u001b[0m\u001b[0mcumsum\u001b[0m\u001b[1;33m(\u001b[0m\u001b[0mnp\u001b[0m\u001b[1;33m.\u001b[0m\u001b[0mmean\u001b[0m\u001b[1;33m(\u001b[0m\u001b[0mopt\u001b[0m \u001b[1;33m-\u001b[0m \u001b[0mval\u001b[0m\u001b[1;33m,\u001b[0m \u001b[0maxis\u001b[0m\u001b[1;33m=\u001b[0m\u001b[1;36m0\u001b[0m\u001b[1;33m)\u001b[0m\u001b[1;33m)\u001b[0m\u001b[1;33m)\u001b[0m\u001b[1;33m\u001b[0m\u001b[1;33m\u001b[0m\u001b[0m\n\u001b[0m\u001b[0;32m      9\u001b[0m \u001b[0mplt\u001b[0m\u001b[1;33m.\u001b[0m\u001b[0mlegend\u001b[0m\u001b[1;33m(\u001b[0m\u001b[0mrewards_per_experiment\u001b[0m\u001b[1;33m.\u001b[0m\u001b[0mkeys\u001b[0m\u001b[1;33m(\u001b[0m\u001b[1;33m)\u001b[0m\u001b[1;33m)\u001b[0m\u001b[1;33m\u001b[0m\u001b[1;33m\u001b[0m\u001b[0m\n\u001b[0;32m     10\u001b[0m \u001b[0mplt\u001b[0m\u001b[1;33m.\u001b[0m\u001b[0mshow\u001b[0m\u001b[1;33m(\u001b[0m\u001b[1;33m)\u001b[0m\u001b[1;33m\u001b[0m\u001b[1;33m\u001b[0m\u001b[0m\n",
      "\u001b[1;32m<__array_function__ internals>\u001b[0m in \u001b[0;36mmean\u001b[1;34m(*args, **kwargs)\u001b[0m\n",
      "\u001b[1;32m~\\anaconda3\\envs\\data_mining\\lib\\site-packages\\numpy\\core\\fromnumeric.py\u001b[0m in \u001b[0;36mmean\u001b[1;34m(a, axis, dtype, out, keepdims, where)\u001b[0m\n\u001b[0;32m   3417\u001b[0m             \u001b[1;32mreturn\u001b[0m \u001b[0mmean\u001b[0m\u001b[1;33m(\u001b[0m\u001b[0maxis\u001b[0m\u001b[1;33m=\u001b[0m\u001b[0maxis\u001b[0m\u001b[1;33m,\u001b[0m \u001b[0mdtype\u001b[0m\u001b[1;33m=\u001b[0m\u001b[0mdtype\u001b[0m\u001b[1;33m,\u001b[0m \u001b[0mout\u001b[0m\u001b[1;33m=\u001b[0m\u001b[0mout\u001b[0m\u001b[1;33m,\u001b[0m \u001b[1;33m**\u001b[0m\u001b[0mkwargs\u001b[0m\u001b[1;33m)\u001b[0m\u001b[1;33m\u001b[0m\u001b[1;33m\u001b[0m\u001b[0m\n\u001b[0;32m   3418\u001b[0m \u001b[1;33m\u001b[0m\u001b[0m\n\u001b[1;32m-> 3419\u001b[1;33m     return _methods._mean(a, axis=axis, dtype=dtype,\n\u001b[0m\u001b[0;32m   3420\u001b[0m                           out=out, **kwargs)\n\u001b[0;32m   3421\u001b[0m \u001b[1;33m\u001b[0m\u001b[0m\n",
      "\u001b[1;32m~\\anaconda3\\envs\\data_mining\\lib\\site-packages\\numpy\\core\\_methods.py\u001b[0m in \u001b[0;36m_mean\u001b[1;34m(a, axis, dtype, out, keepdims, where)\u001b[0m\n\u001b[0;32m    176\u001b[0m             \u001b[0mis_float16_result\u001b[0m \u001b[1;33m=\u001b[0m \u001b[1;32mTrue\u001b[0m\u001b[1;33m\u001b[0m\u001b[1;33m\u001b[0m\u001b[0m\n\u001b[0;32m    177\u001b[0m \u001b[1;33m\u001b[0m\u001b[0m\n\u001b[1;32m--> 178\u001b[1;33m     \u001b[0mret\u001b[0m \u001b[1;33m=\u001b[0m \u001b[0mumr_sum\u001b[0m\u001b[1;33m(\u001b[0m\u001b[0marr\u001b[0m\u001b[1;33m,\u001b[0m \u001b[0maxis\u001b[0m\u001b[1;33m,\u001b[0m \u001b[0mdtype\u001b[0m\u001b[1;33m,\u001b[0m \u001b[0mout\u001b[0m\u001b[1;33m,\u001b[0m \u001b[0mkeepdims\u001b[0m\u001b[1;33m,\u001b[0m \u001b[0mwhere\u001b[0m\u001b[1;33m=\u001b[0m\u001b[0mwhere\u001b[0m\u001b[1;33m)\u001b[0m\u001b[1;33m\u001b[0m\u001b[1;33m\u001b[0m\u001b[0m\n\u001b[0m\u001b[0;32m    179\u001b[0m     \u001b[1;32mif\u001b[0m \u001b[0misinstance\u001b[0m\u001b[1;33m(\u001b[0m\u001b[0mret\u001b[0m\u001b[1;33m,\u001b[0m \u001b[0mmu\u001b[0m\u001b[1;33m.\u001b[0m\u001b[0mndarray\u001b[0m\u001b[1;33m)\u001b[0m\u001b[1;33m:\u001b[0m\u001b[1;33m\u001b[0m\u001b[1;33m\u001b[0m\u001b[0m\n\u001b[0;32m    180\u001b[0m         ret = um.true_divide(\n",
      "\u001b[1;31mValueError\u001b[0m: operands could not be broadcast together with shapes (3,) (5,) "
     ]
    },
    {
     "data": {
      "image/png": "[encoded data removed]",
      "text/plain": [
       "<Figure size 720x576 with 1 Axes>"
      ]
     },
     "metadata": {
      "needs_background": "light"
     },
     "output_type": "display_data"
    }
   ],
   "source": [
    "# Plotting the results\n",
    "plt.figure(figsize=(10,8))\n",
    "plt.ylabel(\"Regret\")\n",
    "plt.xlabel(\"day\")\n",
    "opt = (margins[opt_arm] * conv_rates[opt_arm] * (1 + aggr_tau[opt_arm]) - costs_per_click[sel_bid]) * np.rint(n_clicks[sel_bid]).astype(int)\n",
    "for val in rewards_per_experiment.values():\n",
    "    print(val)\n",
    "    plt.plot(np.cumsum(np.mean(opt - val, axis=0)))\n",
    "plt.legend(rewards_per_experiment.keys())\n",
    "plt.show()"
   ]
  },
  {
   "cell_type": "code",
   "execution_count": null,
   "id": "37e033a1",
   "metadata": {},
   "outputs": [],
   "source": [
    "plt.figure(figsize=(10,8))\n",
    "plt.xlabel(\"day\")\n",
    "plt.ylabel(\"daily reward\")\n",
    "plt.plot([opt]*365, '--g', label='clairwoyant')\n",
    "for key in rewards_per_experiment:\n",
    "    plt.plot(np.mean(rewards_per_experiment[key], axis=0), label=key)\n",
    "plt.legend(loc='best')\n",
    "plt.show()"
   ]
  },
  {
   "cell_type": "code",
   "execution_count": null,
   "id": "e12af414",
   "metadata": {},
   "outputs": [],
   "source": []
  }
 ],
 "metadata": {
  "kernelspec": {
   "display_name": "Python 3",
   "language": "python",
   "name": "python3"
  },
  "language_info": {
   "codemirror_mode": {
    "name": "ipython",
    "version": 3
   },
   "file_extension": ".py",
   "mimetype": "text/x-python",
   "name": "python",
   "nbconvert_exporter": "python",
   "pygments_lexer": "ipython3",
   "version": "3.9.4"
  }
 },
 "nbformat": 4,
 "nbformat_minor": 5
}
