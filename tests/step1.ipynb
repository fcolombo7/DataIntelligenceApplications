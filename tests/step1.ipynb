{
 "cells": [
  {
   "cell_type": "markdown",
   "metadata": {},
   "source": [
    "# Step#1"
   ]
  },
  {
   "cell_type": "markdown",
   "metadata": {},
   "source": [
    "## Assumptions\n",
    "* Every subcampaign is associated with a different class of customer (i.e. context)\n",
    "* ..."
   ]
  },
  {
   "cell_type": "markdown",
   "metadata": {},
   "source": [
    "## Variables and notation\n",
    "\n",
    "| Variable | Description |\n",
    "|---------:|:------------|\n",
    "| $t$ | Time/Day  |\n",
    "| $T$ | Time horizon |\n",
    "| $j$ | A customer class/subcampaign |\n",
    "| $N$ | Number of customer classes/subcampaigns |\n",
    "| $p_{j,t}$ | Price at time $t$ for the customer class/subcampaign $j$ |\n",
    "| $c_{j}$ | Conversion rate at price $p$ for the customer class/subcampaign $j$ |\n",
    "| $m$ | Margin obtained by the sale at price $p$ |\n",
    "| $x_{j,t}$ | Bid of subcampaign $j$ at time $t$ |\n",
    "| $n_{j}$ | Number of clicks of new users of subcampaign $j$, given the value of the bid $x_{j,t}$ |\n",
    "| $\\tau_{j}$ | Number of times the user buy again the item by 30 days after the first purchase |\n",
    "| $CPC_{j}$| Cost per click for the subcampaign $j$, given the value of the bid $x_{j,t}$ |"
   ]
  },
  {
   "cell_type": "markdown",
   "metadata": {},
   "source": [
    "## Optimization problem\n",
    "Objective function (maximization of the profit): \n",
    "* $ \\underset{p_{j,t} , x_{j,t}} {\\textrm{max}} \\sum \\limits _{t} ^{T} \\sum \\limits _{j} ^{N} n_{j}(x_{j,t}) \\text{  } [ \\text{  } c_{j}(p_{j,t}) \\text{  } m(p_{j,t}) \\text{  } (\\tau_{j} + 1) - CPC_{j}(x_{j,t}) ] $"
   ]
  },
  {
   "cell_type": "markdown",
   "metadata": {},
   "source": [
    "## Algorithm\n",
    "\n",
    "***\n",
    "$\\mathbf{\\text{Joint bidding/pricing optimization algorithm}}$<br>\n",
    "***\n",
    "For $t = 1$ to $T$, and for $j = 1$ to $N$ set:\n",
    "* $p_{j,t}^{*}, x_{j,t}^{*} = \\underset{p_{j,t} , x_{j,t}}{\\textrm{arg max}} \\text{  } n_{j}(x_{j,t}) \\text{  } [ \\text{  } c_{j}(p_{j,t}) \\text{  } m(p_{j,t}) \\text{  } \\tau_{j} - CPC_{j}(x_{j,t}) ]$\n",
    "\n",
    "The values of all the parameters are known and available in $\\Theta(1)$.  \n",
    "Defining $X$ the total number of bids and $P$ the total number of prices, the algorithm finds the optimal values $p_{j,t}^{*}, x_{j,t}^{*}$ with time complexity: $$ \\Theta(T \\text{ } N \\text{ } X \\text{ } P) $$"
   ]
  },
  {
   "cell_type": "markdown",
   "metadata": {},
   "source": [
    "# Step#2\n",
    "\n"
   ]
  },
  {
   "cell_type": "markdown",
   "metadata": {},
   "source": [
    "In step 2 we consider the online optimization version of the proble we described in step 1. <br>\n",
    "We have to find the best values for the price and bid, without having full knowledge of the distributions governing our variables. To find an approximation of the variables we have to sample values from the environment and build an increasingly-better estimation of the underlying distribution. <br>\n",
    "Each day is considered a different \"round\" of our problem and we consider a time horizon of 1 year.\n"
   ]
  },
  {
   "cell_type": "markdown",
   "metadata": {},
   "source": [
    "$\\mathbf{\\text{Random Variables}}$<br>\n",
    "In this section we list the variables of which we do not have full knowledge. These variables will be sampled at each round from a distribution in the environment. \n",
    "\n",
    "| Random Variable | Motivation |\n",
    "|---------:|:------------|\n",
    "| $CPC_{j}$| Cost per click is randomly extracted from distribution |\n",
    "| $c_{j}$ | The conversion (buying an item after visiting the site) is sampled from a distribution |\n",
    "| $n_{j}$| Number of new users is randomly extracted at the 'start' of each day |\n",
    "| $\\tau_{j}$| The number of times the user buys again is sampled from a distr. after the first purchase |\n"
   ]
  },
  {
   "cell_type": "markdown",
   "metadata": {},
   "source": [
    "$\\mathbf{\\text{Random Variable Models}}$<br> \n",
    "The random variables follow a probability distribution which is set in the environment and at each round a value is sampled from these distributions.<br>\n",
    "As each class has a different behaviour the underlying distributions vary for each one.<br>\n",
    "In this section we present the three distributions which govern the behaviour for each class.\n",
    "\n",
    "##### Sampling\n",
    "Each point in the graph represents the mean of the distribution the variable is associated to. <br>\n",
    "Sampling from a variable means extracting a value from a distribution with the chosen parameter. <br>\n",
    "In particular when sampling from the Conversion Rate, we sample from a Bernoulli distribution.\n",
    "Meanwhile, when sampling from the CPC, the numeber of new users and the future purchases we sample from a Gaussian distribution with the chosen mean parameter and variance ??. \n"
   ]
  },
  {
   "cell_type": "markdown",
   "metadata": {},
   "source": [
    "$\\mathbf{\\text{Conversion Rate}}$<br> \n"
   ]
  },
  {
   "cell_type": "markdown",
   "metadata": {},
   "source": [
    "The conversion rates differ for each class and have been modeled to follow the different beahaviour of the users of each class.\n",
    "In particular C1 users will tend have a higher conversion rate as they are the most prone to buy our product, while C2 and C3 users follow a diffrent behavior with lower confersion rates.\n"
   ]
  },
  {
   "cell_type": "markdown",
   "metadata": {},
   "source": [
    "<img src=\"Graphs/Conv_rates.png\" width=\"300\"/> <img src=\"Graphs/Conv_rates_agg.png\" width=\"300\"/>\n",
    "\n"
   ]
  },
  {
   "cell_type": "markdown",
   "metadata": {},
   "source": [
    "$\\mathbf{\\text{Cost-Per-Click}}$<br> \n",
    "\n"
   ]
  },
  {
   "cell_type": "markdown",
   "metadata": {},
   "source": [
    "We modeled the CPC as a monotoicly increasing function of the bid."
   ]
  },
  {
   "cell_type": "markdown",
   "metadata": {},
   "source": [
    "<img src=\"Graphs/CPC.png\" width=\"300\"/> <img src=\"Graphs/CPC_agg.png\" width=\"300\"/>\n",
    "\n"
   ]
  },
  {
   "cell_type": "markdown",
   "metadata": {},
   "source": [
    "$\\mathbf{\\text{Daily Clicks}}$<br> \n",
    "\n"
   ]
  },
  {
   "cell_type": "markdown",
   "metadata": {},
   "source": [
    "Daily clicks amount to the number of users that visit our shop every day.\n",
    "We modeled it as an increasing function which grows towards a different limit for each class and it is dependent on the bid amount."
   ]
  },
  {
   "cell_type": "markdown",
   "metadata": {},
   "source": [
    "<img src=\"Graphs/Daily_clicks.png\" width=\"300\"/> <img src=\"Graphs/Daily_clicks_agg.png\" width=\"300\"/>\n",
    "\n"
   ]
  },
  {
   "cell_type": "markdown",
   "metadata": {},
   "source": [
    "$\\mathbf{\\text{Future Purchases}}$<br> \n",
    "\n"
   ]
  },
  {
   "cell_type": "markdown",
   "metadata": {},
   "source": [
    "Future purchases are modeled with a decreasing function different for each class based on the price of the product."
   ]
  },
  {
   "cell_type": "markdown",
   "metadata": {},
   "source": [
    "<img src=\"Graphs/Future_purchases.png\" width=\"300\"/> <img src=\"Graphs/Future_purchases_agg.png\" width=\"300\"/>\n",
    "\n"
   ]
  },
  {
   "cell_type": "markdown",
   "metadata": {},
   "source": [
    "$\\mathbf{\\text{Delays in the feedback}}$<br> \n",
    "In this step we can also introduce potential delays in the feedbacks. <br>\n",
    "The delay that can be considered is that the subsequent buys from the same user are not considered instantaneous but delayed by a certain time. For the sake of simplicity, we considered the time to be fixed, but it can also be implemented as a random variable where the delay sampled from a probability distribution. \n",
    "\n",
    "| Delay | Description |\n",
    "|---------:|:------------|\n",
    "| $\\alpha_{j}$| Delay in acquiring item again  | "
   ]
  },
  {
   "cell_type": "markdown",
   "metadata": {},
   "source": [
    "$\\mathbf{\\text{Regret}}$<br> \n",
    "\n",
    "To solve the online optimization problem we use a MAB approach.\n",
    "In the MAB approach the objective is to minimize the regret, defined as the cumulative difference between the reward of the clairvoyant algorithm, which always chooses the optimal arm $\\mu^*$, and the reward given by the arm which we choose at a specific round $\\mu$.\n",
    "\n",
    "\n",
    "\n",
    "\n",
    "| Random Variable | Motivation |\n",
    "|---------:|:------------|\n",
    "| $\\mu$| Cost per click is randomly extracted from distribution |\n",
    "| $c_{j}$ | The conversion (buying an item after visiting the site) is sampled from a distribution |\n",
    "| $n_{j}$| Number of new users is randomly extracted at the 'start' of each day |\n",
    "| $\\tau_{j}$| The number of times the user buys again is sampled from a distr. after the first purchase |\n",
    "\n"
   ]
  },
  {
   "cell_type": "markdown",
   "metadata": {},
   "source": [
    "$ \\underset{p_{j,t} , x_{j,t}} \\min \\rho $\n",
    "<br>\n",
    "<br>\n",
    "$ \\rho = T \\cdot \\mu^* - \\sum_{t=0}^T \\mu_t $\n",
    "<br>\n",
    "<br>\n",
    "The rewards use the values sampled from the distributions described in the previous section and follow the formula:\n",
    "<br>\n",
    "<br>\n",
    "$ \\mu^* = {n_{j}^*} (x_{j,t}) \\text{  } [ \\text{  } c_{j}^*(p_{j,t}) \\text{  } m(p_{j,t}) \\text{  } (\\tau_{j}^* + 1) - CPC^*_{j}(x_{j,t}) ] $\n",
    "<br>\n",
    "<br>\n",
    "$ \\mu_t = {n_{j,t}} (x_{j,t}) \\text{  } [ \\text{  } c_{j,t}(p_{j,t}) \\text{  } m(p_{j,t}) \\text{  } (\\tau_{j,t} + 1) - CPC_{j,t}(x_{j,t}) ] $"
   ]
  },
  {
   "cell_type": "markdown",
   "metadata": {},
   "source": []
  },
  {
   "cell_type": "markdown",
   "metadata": {},
   "source": []
  }
 ],
 "metadata": {
  "kernelspec": {
   "display_name": "Python 3",
   "language": "python",
   "name": "python3"
  },
  "language_info": {
   "codemirror_mode": {
    "name": "ipython",
    "version": 3
   },
   "file_extension": ".py",
   "mimetype": "text/x-python",
   "name": "python",
   "nbconvert_exporter": "python",
   "pygments_lexer": "ipython3",
   "version": "3.8.5"
  }
 },
 "nbformat": 4,
 "nbformat_minor": 5
}
