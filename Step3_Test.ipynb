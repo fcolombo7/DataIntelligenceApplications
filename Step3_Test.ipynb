{
 "cells": [
  {
   "cell_type": "code",
   "execution_count": 1,
   "metadata": {},
   "outputs": [],
   "source": [
    "import numpy as np\n",
    "import matplotlib.pyplot as plt\n",
    "from data_generators.basic_generator import BasicDataGenerator\n",
    "from pricing_env import *"
   ]
  },
  {
   "cell_type": "code",
   "execution_count": 2,
   "metadata": {},
   "outputs": [],
   "source": [
    "data_gen = BasicDataGenerator(filename='src/basic001.json')\n",
    "categories = [\"C1\", \"C2\", \"C3\"]"
   ]
  },
  {
   "cell_type": "code",
   "execution_count": 3,
   "metadata": {},
   "outputs": [
    {
     "name": "stdout",
     "output_type": "stream",
     "text": [
      "prices=[15, 16, 17, 18, 19, 20, 21, 22, 23, 24]\n",
      "bids=[0.03, 0.04, 0.07, 0.1, 0.2, 0.5, 0.75, 1.0, 1.5, 2.0]\n",
      "margins=[15, 16, 17, 18, 19, 20, 21, 22, 23, 24]\n"
     ]
    }
   ],
   "source": [
    "prices = data_gen.get_prices()\n",
    "bids = data_gen.get_bids()\n",
    "margins = data_gen.get_margins()\n",
    "print(f'{prices=}')\n",
    "print(f'{bids=}')\n",
    "print(f'{margins=}')"
   ]
  },
  {
   "cell_type": "code",
   "execution_count": 4,
   "metadata": {},
   "outputs": [
    {
     "name": "stdout",
     "output_type": "stream",
     "text": [
      "aggr_conv_rate=[0.21700000000000003, 0.21425, 0.208125, 0.19712500000000002, 0.182875, 0.164, 0.136, 0.125, 0.11574999999999999, 0.0985]\n",
      "aggr_cpc=[0.029734348373480612, 0.03953023705546635, 0.06858376891235254, 0.09715370557286276, 0.18915526102269525, 0.44033263524861266, 0.6273587287226773, 0.7987320424510214, 1.1052047572250816, 1.3747088870665571]\n",
      "[30.107493882812165, 38.896832560910084, 62.151706617099535, 81.49156854947051, 126.50832631063463, 181.54065082957388, 196.3989677256442, 202.56208242796586, 206.46284182145718, 207.27384770578337]\n",
      "[2.95, 2.58, 2.21, 1.8399999999999999, 1.47, 1.1, 0.9099999999999999, 0.75, 0.7, 0.7]\n"
     ]
    }
   ],
   "source": [
    "aggr_conv_rate = data_gen.get_conversion_rates(mode='aggregate')\n",
    "aggr_daily_click = data_gen.get_daily_clicks(mode='aggregate')\n",
    "aggr_cpc = data_gen.get_costs_per_click(mode='aggregate')\n",
    "aggr_tau = data_gen.get_future_purchases(mode='aggregate')\n",
    "bid = 4\n",
    "print(f'{aggr_conv_rate=}')\n",
    "print(f'{aggr_cpc=}')\n",
    "print(aggr_daily_click)\n",
    "print(aggr_tau)"
   ]
  },
  {
   "cell_type": "code",
   "execution_count": 5,
   "metadata": {},
   "outputs": [],
   "source": [
    "env = PricingEnvironment(len(prices), aggr_conv_rate, aggr_cpc[bid], aggr_daily_click[bid], margins, aggr_tau)"
   ]
  },
  {
   "cell_type": "code",
   "execution_count": 6,
   "metadata": {},
   "outputs": [],
   "source": [
    "x = env.round(3)"
   ]
  },
  {
   "cell_type": "code",
   "execution_count": 7,
   "metadata": {},
   "outputs": [
    {
     "data": {
      "text/plain": [
       "126"
      ]
     },
     "execution_count": 7,
     "metadata": {},
     "output_type": "execute_result"
    }
   ],
   "source": [
    "int(np.floor(aggr_daily_click[bid]))"
   ]
  },
  {
   "cell_type": "code",
   "execution_count": 10,
   "metadata": {},
   "outputs": [
    {
     "data": {
      "text/plain": [
       "array([89.3682642 , -0.18915526, 47.22987895, -0.18915526, 73.10611846,\n",
       "       49.19534047, 53.60321884, -0.18915526, -0.18915526, -0.18915526,\n",
       "       -0.18915526, -0.18915526, 78.60568707, 64.42638991, -0.18915526,\n",
       "       42.85973277, -0.18915526, 81.057052  , -0.18915526, -0.18915526,\n",
       "       -0.18915526, -0.18915526, 58.29310636, -0.18915526, -0.18915526,\n",
       "       -0.18915526, -0.18915526, 45.82209805, -0.18915526, -0.18915526,\n",
       "       -0.18915526, -0.18915526, -0.18915526, -0.18915526, -0.18915526,\n",
       "       -0.18915526, -0.18915526, -0.18915526, -0.18915526, -0.18915526,\n",
       "       -0.18915526, -0.18915526, 45.88521981, -0.18915526, 57.34185981,\n",
       "       -0.18915526, -0.18915526, -0.18915526, -0.18915526, -0.18915526,\n",
       "       -0.18915526, -0.18915526, -0.18915526, -0.18915526, -0.18915526,\n",
       "       -0.18915526, -0.18915526, 43.20282822, 56.99458868, -0.18915526,\n",
       "       -0.18915526, 41.97025896, 74.08426273, -0.18915526, 68.20324641,\n",
       "       -0.18915526, -0.18915526, 95.1347709 , -0.18915526, -0.18915526,\n",
       "       74.50220302, 61.26972221, -0.18915526, -0.18915526, 46.65822833,\n",
       "       -0.18915526, -0.18915526, 25.47512092, -0.18915526, -0.18915526,\n",
       "       -0.18915526, -0.18915526, 41.19223364, -0.18915526, 52.66072603,\n",
       "       49.47632236, -0.18915526, -0.18915526, -0.18915526, -0.18915526,\n",
       "       -0.18915526, -0.18915526, 48.54625878, 68.56707512, -0.18915526,\n",
       "       -0.18915526, -0.18915526, -0.18915526, -0.18915526, -0.18915526,\n",
       "       -0.18915526, -0.18915526, -0.18915526, -0.18915526, -0.18915526,\n",
       "       -0.18915526, -0.18915526, -0.18915526, -0.18915526, 79.92049231,\n",
       "       69.96062889, -0.18915526, -0.18915526, -0.18915526, -0.18915526,\n",
       "       -0.18915526, 87.96421419, -0.18915526, -0.18915526, -0.18915526,\n",
       "       -0.18915526, -0.18915526, -0.18915526, -0.18915526, -0.18915526,\n",
       "       71.56540467])"
      ]
     },
     "execution_count": 10,
     "metadata": {},
     "output_type": "execute_result"
    }
   ],
   "source": [
    "x"
   ]
  },
  {
   "cell_type": "code",
   "execution_count": 11,
   "metadata": {},
   "outputs": [
    {
     "data": {
      "text/plain": [
       "1926.3619585326508"
      ]
     },
     "execution_count": 11,
     "metadata": {},
     "output_type": "execute_result"
    }
   ],
   "source": [
    "sum(x)"
   ]
  },
  {
   "cell_type": "code",
   "execution_count": null,
   "metadata": {},
   "outputs": [],
   "source": []
  }
 ],
 "metadata": {
  "kernelspec": {
   "display_name": "Python 3",
   "language": "python",
   "name": "python3"
  },
  "language_info": {
   "codemirror_mode": {
    "name": "ipython",
    "version": 3
   },
   "file_extension": ".py",
   "mimetype": "text/x-python",
   "name": "python",
   "nbconvert_exporter": "python",
   "pygments_lexer": "ipython3",
   "version": "3.8.5"
  }
 },
 "nbformat": 4,
 "nbformat_minor": 4
}
