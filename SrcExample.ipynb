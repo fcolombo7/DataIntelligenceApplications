{
 "cells": [
  {
   "cell_type": "code",
   "execution_count": 1,
   "id": "parliamentary-coating",
   "metadata": {},
   "outputs": [],
   "source": [
    "import numpy as np\n",
    "import matplotlib.pyplot as plt\n",
    "from data_generators.basic_generator import BasicDataGenerator\n",
    "from data_generators.standard_generator import StandardDataGenerator"
   ]
  },
  {
   "cell_type": "code",
   "execution_count": null,
   "id": "lovely-newton",
   "metadata": {},
   "outputs": [],
   "source": [
    "data_gen = StandardDataGenerator(filename='src/basic005.json')\n",
    "categories = [\"C1\", \"C2\", \"C3\"]"
   ]
  },
  {
   "cell_type": "markdown",
   "id": "ordinary-smell",
   "metadata": {},
   "source": [
    "### Prices, bids, margins ... "
   ]
  },
  {
   "cell_type": "code",
   "execution_count": null,
   "id": "weird-fleet",
   "metadata": {},
   "outputs": [],
   "source": [
    "prices = data_gen.get_prices()\n",
    "bids = data_gen.get_bids()\n",
    "margins = data_gen.get_margins()\n",
    "print(f'{prices=}')\n",
    "print(f'{bids=}')\n",
    "print(f'{margins=}')"
   ]
  },
  {
   "cell_type": "markdown",
   "id": "outer-distributor",
   "metadata": {},
   "source": [
    "### Class distributions\n",
    "#### Convertion rates"
   ]
  },
  {
   "cell_type": "code",
   "execution_count": null,
   "id": "blocked-bryan",
   "metadata": {
    "scrolled": true
   },
   "outputs": [],
   "source": [
    "help(data_gen.get_conversion_rates)"
   ]
  },
  {
   "cell_type": "code",
   "execution_count": null,
   "id": "loose-perry",
   "metadata": {},
   "outputs": [],
   "source": [
    "conv_rates = data_gen.get_conversion_rates()\n",
    "\n",
    "plt.figure()\n",
    "plt.xticks(prices)\n",
    "for i in range(0,len(conv_rates)):\n",
    "    plt.plot(prices, conv_rates[i], '-o', label=categories[i])\n",
    "    \n",
    "plt.legend(loc='best')\n",
    "plt.title(\"Convertion rates\")\n",
    "plt.show()"
   ]
  },
  {
   "cell_type": "code",
   "execution_count": null,
   "id": "wooden-safety",
   "metadata": {},
   "outputs": [],
   "source": [
    "aggr_conv_rate = data_gen.get_conversion_rates(mode='aggregate')\n",
    "plt.figure()\n",
    "plt.xticks(prices)\n",
    "plt.plot(prices, aggr_conv_rate, '-o')    \n",
    "plt.title(\"Convertion rate\")\n",
    "plt.show()"
   ]
  },
  {
   "cell_type": "code",
   "execution_count": null,
   "id": "annual-influence",
   "metadata": {},
   "outputs": [],
   "source": [
    "print(f'{aggr_conv_rate=}')"
   ]
  },
  {
   "cell_type": "markdown",
   "id": "responsible-eagle",
   "metadata": {},
   "source": [
    "#### Daily clicks"
   ]
  },
  {
   "cell_type": "code",
   "execution_count": null,
   "id": "excess-going",
   "metadata": {
    "scrolled": true
   },
   "outputs": [],
   "source": [
    "help(data_gen.get_daily_clicks)"
   ]
  },
  {
   "cell_type": "code",
   "execution_count": null,
   "id": "ceramic-michigan",
   "metadata": {
    "scrolled": true
   },
   "outputs": [],
   "source": [
    "daily_clicks = data_gen.get_daily_clicks()\n",
    "\n",
    "plt.figure()\n",
    "plt.xticks(bids, rotation = 70)\n",
    "\n",
    "for i in range(0,len(daily_clicks)):\n",
    "    plt.plot(bids, daily_clicks[i], '-o', label=categories[i])\n",
    "    \n",
    "plt.legend(loc='best')\n",
    "plt.title(\"Daily clicks\")\n",
    "plt.show()"
   ]
  },
  {
   "cell_type": "code",
   "execution_count": null,
   "id": "retained-yukon",
   "metadata": {
    "scrolled": true
   },
   "outputs": [],
   "source": [
    "aggr_daily_click = data_gen.get_daily_clicks(mode='aggregate')\n",
    "plt.figure()\n",
    "plt.xticks(bids, rotation = 70)\n",
    "plt.plot(bids, aggr_daily_click, '-o')    \n",
    "plt.title(\"Daily clicks(2)\")\n",
    "plt.show()"
   ]
  },
  {
   "cell_type": "code",
   "execution_count": null,
   "id": "bridal-cisco",
   "metadata": {
    "scrolled": true
   },
   "outputs": [],
   "source": [
    "print(f'{aggr_daily_click=}')"
   ]
  },
  {
   "cell_type": "markdown",
   "id": "nutritional-interval",
   "metadata": {},
   "source": [
    "#### Costs per click"
   ]
  },
  {
   "cell_type": "code",
   "execution_count": null,
   "id": "capable-disclaimer",
   "metadata": {
    "scrolled": false
   },
   "outputs": [],
   "source": [
    "help(data_gen.get_costs_per_click)"
   ]
  },
  {
   "cell_type": "code",
   "execution_count": null,
   "id": "drawn-scholar",
   "metadata": {
    "scrolled": true
   },
   "outputs": [],
   "source": [
    "costs = data_gen.get_costs_per_click()\n",
    "\n",
    "plt.figure()\n",
    "plt.xticks(bids, rotation = 70)\n",
    "plt.plot(bids,bids, color='black', label=\"y=x\")\n",
    "for i in range(0,len(costs)):\n",
    "    plt.plot(bids, costs[i], '-o', label=categories[i])\n",
    "    \n",
    "plt.legend(loc='best')\n",
    "plt.title(\"Costs per click\")\n",
    "plt.show()"
   ]
  },
  {
   "cell_type": "code",
   "execution_count": null,
   "id": "another-rescue",
   "metadata": {
    "scrolled": false
   },
   "outputs": [],
   "source": [
    "aggr_costs = data_gen.get_costs_per_click(mode='aggregate')\n",
    "plt.figure()\n",
    "plt.xticks(bids, rotation = 70)\n",
    "plt.plot(bids,bids, color='black', label=\"y=x\")\n",
    "plt.plot(bids, aggr_costs, '-o')\n",
    "plt.legend(loc='best')\n",
    "plt.title(\"Costs per click(2)\")\n",
    "plt.show()"
   ]
  },
  {
   "cell_type": "code",
   "execution_count": null,
   "id": "defined-eligibility",
   "metadata": {
    "scrolled": true
   },
   "outputs": [],
   "source": [
    "print(f'{aggr_costs=}')"
   ]
  },
  {
   "cell_type": "markdown",
   "id": "split-waste",
   "metadata": {},
   "source": [
    "#### Future purchases"
   ]
  },
  {
   "cell_type": "code",
   "execution_count": null,
   "id": "twelve-specific",
   "metadata": {
    "scrolled": false
   },
   "outputs": [],
   "source": [
    "help(data_gen.get_future_purchases)"
   ]
  },
  {
   "cell_type": "code",
   "execution_count": null,
   "id": "combined-toyota",
   "metadata": {
    "scrolled": true
   },
   "outputs": [],
   "source": [
    "next_purch = data_gen.get_future_purchases()\n",
    "\n",
    "plt.figure()\n",
    "plt.xticks(prices)\n",
    "for i in range(0,len(next_purch)):\n",
    "    plt.plot(prices, next_purch[i], '-o', label=categories[i])\n",
    "    \n",
    "plt.legend(loc='best')\n",
    "plt.title(\"Future purchases\")\n",
    "\n",
    "plt.show()"
   ]
  },
  {
   "cell_type": "code",
   "execution_count": null,
   "id": "understanding-geography",
   "metadata": {
    "scrolled": false
   },
   "outputs": [],
   "source": [
    "aggr_purch = data_gen.get_future_purchases(mode='aggregate')\n",
    "plt.figure()\n",
    "plt.xticks(prices)\n",
    "plt.plot(prices, aggr_purch, '-o')\n",
    "plt.title(\"Future purchases(2)\")\n",
    "plt.show()"
   ]
  },
  {
   "cell_type": "markdown",
   "id": "7ee6eb3d",
   "metadata": {},
   "source": [
    "___"
   ]
  },
  {
   "cell_type": "code",
   "execution_count": 2,
   "id": "84cf63a2",
   "metadata": {},
   "outputs": [
    {
     "name": "stdout",
     "output_type": "stream",
     "text": [
      "src:\t src/basic004.json\n",
      "\n",
      "bid\tr_aggr\t\tglobal\t\t\tdelta\n",
      "0\t1026.7894\t1026.6897\t-->\t0.0997\n",
      "1\t1053.4803\t1053.3706\t-->\t0.1097\n",
      "2\t1066.5876\t1066.461\t-->\t0.1266\n",
      "3\t1066.6261\t1066.481\t-->\t0.1451\n",
      "4\t1045.6414\t1045.4783\t-->\t0.1631\n",
      "5\t993.8633\t993.6776\t-->\t0.1857\n",
      "6\t929.5395\t929.3358\t-->\t0.2037\n",
      "7\t883.072\t882.8584\t-->\t0.2136\n",
      "8\t760.0932\t759.8604\t-->\t0.2328\n",
      "9\t634.5036\t634.2576\t-->\t0.246\n"
     ]
    }
   ],
   "source": [
    "dg = StandardDataGenerator('src/basic004.json')\n",
    "print('src:\\t',dg.get_source())\n",
    "print('\\nbid\\tr_aggr\\t\\tglobal\\t\\t\\tdelta')\n",
    "for j, bid in enumerate(dg.get_bids()):\n",
    "    maxs=[]\n",
    "    cost = dg.get_costs_per_click(mode='aggregate', bid=j)[j]\n",
    "    clicks = dg.get_daily_clicks(mode='aggregate')[j]\n",
    "    conv = dg.get_conversion_rates()\n",
    "    fp = dg.get_future_purchases()\n",
    "    for i in range(len(dg.get_classes())):\n",
    "        maxs.append(np.max((conv[i] *(1 + fp[i]) * dg.get_margins() - cost) * dg.get_daily_clicks()[i, j]))\n",
    "    \n",
    "    temp = (dg.get_margins() * np.average(conv * (1 + fp), axis=0, weights=dg.get_class_distributions(bid=j)) - \n",
    "        cost) * clicks\n",
    "    disaggr = np.around(sum(maxs), decimals=4)\n",
    "    aggr = np.around(np.max(temp), decimals=4)\n",
    "    delta = np.around(disaggr-aggr, decimals=4)\n",
    "    print(f'{j}\\t{disaggr}\\t{aggr}\\t-->\\t{delta}')"
   ]
  },
  {
   "cell_type": "code",
   "execution_count": 3,
   "id": "4f857962",
   "metadata": {},
   "outputs": [
    {
     "name": "stdout",
     "output_type": "stream",
     "text": [
      "src:\t src/basic005.json\n",
      "\n",
      "bid\tr_aggr\t\tglobal\t\t\tdelta\n",
      "0\t1208.9941\t1195.9588\t-->\t13.0353\n",
      "1\t1242.4182\t1227.8951\t-->\t14.5231\n",
      "2\t1260.2286\t1244.3453\t-->\t15.8833\n",
      "3\t1265.9186\t1247.6814\t-->\t18.2372\n",
      "4\t1247.8174\t1227.6131\t-->\t20.2043\n",
      "5\t1198.046\t1175.4637\t-->\t22.5823\n",
      "6\t1134.5641\t1110.1327\t-->\t24.4314\n",
      "7\t1088.3824\t1062.9467\t-->\t25.4357\n",
      "8\t965.7273\t938.3793\t-->\t27.348\n",
      "9\t840.2447\t811.6003\t-->\t28.6444\n"
     ]
    }
   ],
   "source": [
    "dg = StandardDataGenerator('src/basic005.json')\n",
    "print('src:\\t',dg.get_source())\n",
    "print('\\nbid\\tr_aggr\\t\\tglobal\\t\\t\\tdelta')\n",
    "for j, bid in enumerate(dg.get_bids()):\n",
    "    maxs=[]\n",
    "    cost = dg.get_costs_per_click(mode='aggregate', bid=j)[j]\n",
    "    clicks = dg.get_daily_clicks(mode='aggregate')[j]\n",
    "    conv = dg.get_conversion_rates()\n",
    "    fp = dg.get_future_purchases()\n",
    "    for i in range(len(dg.get_classes())):\n",
    "        maxs.append(np.max((conv[i] *(1 + fp[i]) * dg.get_margins() - cost) * dg.get_daily_clicks()[i, j]))\n",
    "    \n",
    "    temp = (dg.get_margins() * np.average(conv * (1 + fp), axis=0, weights=dg.get_class_distributions(bid=j)) - \n",
    "        cost) * clicks\n",
    "    disaggr = np.around(sum(maxs), decimals=4)\n",
    "    aggr = np.around(np.max(temp), decimals=4)\n",
    "    delta = np.around(disaggr-aggr, decimals=4)\n",
    "    print(f'{j}\\t{disaggr}\\t{aggr}\\t-->\\t{delta}')"
   ]
  }
 ],
 "metadata": {
  "kernelspec": {
   "display_name": "Python 3",
   "language": "python",
   "name": "python3"
  },
  "language_info": {
   "codemirror_mode": {
    "name": "ipython",
    "version": 3
   },
   "file_extension": ".py",
   "mimetype": "text/x-python",
   "name": "python",
   "nbconvert_exporter": "python",
   "pygments_lexer": "ipython3",
   "version": "3.8.8"
  }
 },
 "nbformat": 4,
 "nbformat_minor": 5
}
