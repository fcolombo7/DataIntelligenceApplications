{
 "cells": [
  {
   "cell_type": "code",
   "execution_count": 1,
   "id": "parliamentary-coating",
   "metadata": {},
   "outputs": [],
   "source": [
    "import numpy as np\n",
    "import matplotlib.pyplot as plt\n",
    "from data_generators.basic_generator import BasicDataGenerator\n",
    "from data_generators.standard_generator import StandardDataGenerator"
   ]
  },
  {
   "cell_type": "code",
   "execution_count": 24,
   "id": "lovely-newton",
   "metadata": {},
   "outputs": [],
   "source": [
    "data_gen = StandardDataGenerator(filename='src/basic005.json')\n",
    "categories = [\"C1\", \"C2\", \"C3\"]"
   ]
  },
  {
   "cell_type": "markdown",
   "id": "ordinary-smell",
   "metadata": {},
   "source": [
    "### Prices, bids, margins ... "
   ]
  },
  {
   "cell_type": "code",
   "execution_count": 3,
   "id": "weird-fleet",
   "metadata": {},
   "outputs": [
    {
     "name": "stdout",
     "output_type": "stream",
     "text": [
      "prices=[15, 16, 17, 18, 19, 20, 21, 22, 23, 24]\n",
      "bids=[0.3, 0.35, 0.4, 0.5, 0.6, 0.75, 0.9, 1.0, 1.25, 1.5]\n",
      "margins=[3, 4, 5, 6, 7, 8, 9, 10, 11, 12]\n"
     ]
    }
   ],
   "source": [
    "prices = data_gen.get_prices()\n",
    "bids = data_gen.get_bids()\n",
    "margins = data_gen.get_margins()\n",
    "print(f'{prices=}')\n",
    "print(f'{bids=}')\n",
    "print(f'{margins=}')"
   ]
  },
  {
   "cell_type": "markdown",
   "id": "outer-distributor",
   "metadata": {},
   "source": [
    "### Class distributions\n",
    "#### Convertion rates"
   ]
  },
  {
   "cell_type": "code",
   "execution_count": 4,
   "id": "blocked-bryan",
   "metadata": {
    "scrolled": true
   },
   "outputs": [
    {
     "name": "stdout",
     "output_type": "stream",
     "text": [
      "Help on method get_conversion_rates in module data_generators.standard_generator:\n",
      "\n",
      "get_conversion_rates(mode='all', bid=None) method of data_generators.standard_generator.StandardDataGenerator instance\n",
      "    Get the conversion rates distribution. The output depends on the `mode` kwarg.\n",
      "    [options: mode = `all` -> disjoint (default), mode = `aggregate` -> aggregation performed as a weighted average]\n",
      "\n"
     ]
    }
   ],
   "source": [
    "help(data_gen.get_conversion_rates)"
   ]
  },
  {
   "cell_type": "code",
   "execution_count": 5,
   "id": "loose-perry",
   "metadata": {},
   "outputs": [
    {
     "data": {
      "image/png": "[encoded data removed]",
      "text/plain": [
       "<Figure size 432x288 with 1 Axes>"
      ]
     },
     "metadata": {
      "needs_background": "light"
     },
     "output_type": "display_data"
    }
   ],
   "source": [
    "conv_rates = data_gen.get_conversion_rates()\n",
    "\n",
    "plt.figure()\n",
    "plt.xticks(prices)\n",
    "for i in range(0,len(conv_rates)):\n",
    "    plt.plot(prices, conv_rates[i], '-o', label=categories[i])\n",
    "    \n",
    "plt.legend(loc='best')\n",
    "plt.title(\"Convertion rates\")\n",
    "plt.show()"
   ]
  },
  {
   "cell_type": "code",
   "execution_count": 6,
   "id": "wooden-safety",
   "metadata": {},
   "outputs": [
    {
     "ename": "TypeError",
     "evalue": "`bid` kwarg must be set if the mode is `aggregate`",
     "output_type": "error",
     "traceback": [
      "\u001b[0;31m---------------------------------------------------------------------------\u001b[0m",
      "\u001b[0;31mTypeError\u001b[0m                                 Traceback (most recent call last)",
      "\u001b[0;32m<ipython-input-6-8021b8f6394f>\u001b[0m in \u001b[0;36m<module>\u001b[0;34m\u001b[0m\n\u001b[0;32m----> 1\u001b[0;31m \u001b[0maggr_conv_rate\u001b[0m \u001b[0;34m=\u001b[0m \u001b[0mdata_gen\u001b[0m\u001b[0;34m.\u001b[0m\u001b[0mget_conversion_rates\u001b[0m\u001b[0;34m(\u001b[0m\u001b[0mmode\u001b[0m\u001b[0;34m=\u001b[0m\u001b[0;34m'aggregate'\u001b[0m\u001b[0;34m)\u001b[0m\u001b[0;34m\u001b[0m\u001b[0;34m\u001b[0m\u001b[0m\n\u001b[0m\u001b[1;32m      2\u001b[0m \u001b[0mplt\u001b[0m\u001b[0;34m.\u001b[0m\u001b[0mfigure\u001b[0m\u001b[0;34m(\u001b[0m\u001b[0;34m)\u001b[0m\u001b[0;34m\u001b[0m\u001b[0;34m\u001b[0m\u001b[0m\n\u001b[1;32m      3\u001b[0m \u001b[0mplt\u001b[0m\u001b[0;34m.\u001b[0m\u001b[0mxticks\u001b[0m\u001b[0;34m(\u001b[0m\u001b[0mprices\u001b[0m\u001b[0;34m)\u001b[0m\u001b[0;34m\u001b[0m\u001b[0;34m\u001b[0m\u001b[0m\n\u001b[1;32m      4\u001b[0m \u001b[0mplt\u001b[0m\u001b[0;34m.\u001b[0m\u001b[0mplot\u001b[0m\u001b[0;34m(\u001b[0m\u001b[0mprices\u001b[0m\u001b[0;34m,\u001b[0m \u001b[0maggr_conv_rate\u001b[0m\u001b[0;34m,\u001b[0m \u001b[0;34m'-o'\u001b[0m\u001b[0;34m)\u001b[0m\u001b[0;34m\u001b[0m\u001b[0;34m\u001b[0m\u001b[0m\n\u001b[1;32m      5\u001b[0m \u001b[0mplt\u001b[0m\u001b[0;34m.\u001b[0m\u001b[0mtitle\u001b[0m\u001b[0;34m(\u001b[0m\u001b[0;34m\"Convertion rate\"\u001b[0m\u001b[0;34m)\u001b[0m\u001b[0;34m\u001b[0m\u001b[0;34m\u001b[0m\u001b[0m\n",
      "\u001b[0;32m~/DIA/DataIntelligenceApplications/data_generators/standard_generator.py\u001b[0m in \u001b[0;36mget_conversion_rates\u001b[0;34m(self, mode, bid)\u001b[0m\n\u001b[1;32m     86\u001b[0m             \u001b[0;32mraise\u001b[0m \u001b[0mTypeError\u001b[0m\u001b[0;34m(\u001b[0m\u001b[0;34m\"`mode` kwarg error: the only valid choices are `all`(default) and `aggregate`\"\u001b[0m\u001b[0;34m)\u001b[0m\u001b[0;34m\u001b[0m\u001b[0;34m\u001b[0m\u001b[0m\n\u001b[1;32m     87\u001b[0m         \u001b[0;32mif\u001b[0m \u001b[0mmode\u001b[0m \u001b[0;34m==\u001b[0m \u001b[0;34m'aggregate'\u001b[0m \u001b[0;32mand\u001b[0m \u001b[0mbid\u001b[0m \u001b[0;32mis\u001b[0m \u001b[0;32mNone\u001b[0m\u001b[0;34m:\u001b[0m\u001b[0;34m\u001b[0m\u001b[0;34m\u001b[0m\u001b[0m\n\u001b[0;32m---> 88\u001b[0;31m             \u001b[0;32mraise\u001b[0m \u001b[0mTypeError\u001b[0m\u001b[0;34m(\u001b[0m\u001b[0;34m\"`bid` kwarg must be set if the mode is `aggregate`\"\u001b[0m\u001b[0;34m)\u001b[0m\u001b[0;34m\u001b[0m\u001b[0;34m\u001b[0m\u001b[0m\n\u001b[0m\u001b[1;32m     89\u001b[0m \u001b[0;34m\u001b[0m\u001b[0m\n\u001b[1;32m     90\u001b[0m         \u001b[0;32mif\u001b[0m \u001b[0mmode\u001b[0m \u001b[0;34m==\u001b[0m \u001b[0;34m'all'\u001b[0m\u001b[0;34m:\u001b[0m\u001b[0;34m\u001b[0m\u001b[0;34m\u001b[0m\u001b[0m\n",
      "\u001b[0;31mTypeError\u001b[0m: `bid` kwarg must be set if the mode is `aggregate`"
     ]
    }
   ],
   "source": [
    "aggr_conv_rate = data_gen.get_conversion_rates(mode='aggregate')\n",
    "plt.figure()\n",
    "plt.xticks(prices)\n",
    "plt.plot(prices, aggr_conv_rate, '-o')    \n",
    "plt.title(\"Convertion rate\")\n",
    "plt.show()"
   ]
  },
  {
   "cell_type": "code",
   "execution_count": 7,
   "id": "annual-influence",
   "metadata": {},
   "outputs": [
    {
     "ename": "NameError",
     "evalue": "name 'aggr_conv_rate' is not defined",
     "output_type": "error",
     "traceback": [
      "\u001b[0;31m---------------------------------------------------------------------------\u001b[0m",
      "\u001b[0;31mNameError\u001b[0m                                 Traceback (most recent call last)",
      "\u001b[0;32m<ipython-input-7-1928e7bd03c3>\u001b[0m in \u001b[0;36m<module>\u001b[0;34m\u001b[0m\n\u001b[0;32m----> 1\u001b[0;31m \u001b[0mprint\u001b[0m\u001b[0;34m(\u001b[0m\u001b[0;34mf'{aggr_conv_rate=}'\u001b[0m\u001b[0;34m)\u001b[0m\u001b[0;34m\u001b[0m\u001b[0;34m\u001b[0m\u001b[0m\n\u001b[0m",
      "\u001b[0;31mNameError\u001b[0m: name 'aggr_conv_rate' is not defined"
     ]
    }
   ],
   "source": [
    "print(f'{aggr_conv_rate=}')"
   ]
  },
  {
   "cell_type": "markdown",
   "id": "responsible-eagle",
   "metadata": {},
   "source": [
    "#### Daily clicks"
   ]
  },
  {
   "cell_type": "code",
   "execution_count": 8,
   "id": "excess-going",
   "metadata": {
    "scrolled": true
   },
   "outputs": [
    {
     "name": "stdout",
     "output_type": "stream",
     "text": [
      "Help on method get_daily_clicks in module data_generators.standard_generator:\n",
      "\n",
      "get_daily_clicks(mode='all') method of data_generators.standard_generator.StandardDataGenerator instance\n",
      "            Get the distribution probability over the number of daily clicks with respect to the bid of the advertisement\n",
      "            campaign given the price.\n",
      "            \n",
      "    The output depends on the `mode` kwarg.\n",
      "            [options: mode = `all` -> disjoint (default), mode = `aggregate` -> aggregation performed as a weighted average]\n",
      "            \n",
      "    Model: `upper_bound` * (1.0 - exp(-1 * `speed_factor` * `bids`))\n",
      "\n"
     ]
    }
   ],
   "source": [
    "help(data_gen.get_daily_clicks)"
   ]
  },
  {
   "cell_type": "code",
   "execution_count": 9,
   "id": "ceramic-michigan",
   "metadata": {
    "scrolled": true
   },
   "outputs": [
    {
     "data": {
      "image/png": "[encoded data removed]",
      "text/plain": [
       "<Figure size 432x288 with 1 Axes>"
      ]
     },
     "metadata": {
      "needs_background": "light"
     },
     "output_type": "display_data"
    }
   ],
   "source": [
    "daily_clicks = data_gen.get_daily_clicks()\n",
    "\n",
    "plt.figure()\n",
    "plt.xticks(bids, rotation = 70)\n",
    "\n",
    "for i in range(0,len(daily_clicks)):\n",
    "    plt.plot(bids, daily_clicks[i], '-o', label=categories[i])\n",
    "    \n",
    "plt.legend(loc='best')\n",
    "plt.title(\"Daily clicks\")\n",
    "plt.show()"
   ]
  },
  {
   "cell_type": "code",
   "execution_count": 10,
   "id": "retained-yukon",
   "metadata": {
    "scrolled": true
   },
   "outputs": [
    {
     "data": {
      "image/png": "[encoded data removed]",
      "text/plain": [
       "<Figure size 432x288 with 1 Axes>"
      ]
     },
     "metadata": {
      "needs_background": "light"
     },
     "output_type": "display_data"
    }
   ],
   "source": [
    "aggr_daily_click = data_gen.get_daily_clicks(mode='aggregate')\n",
    "plt.figure()\n",
    "plt.xticks(bids, rotation = 70)\n",
    "plt.plot(bids, aggr_daily_click, '-o')    \n",
    "plt.title(\"Daily clicks(2)\")\n",
    "plt.show()"
   ]
  },
  {
   "cell_type": "code",
   "execution_count": 11,
   "id": "bridal-cisco",
   "metadata": {
    "scrolled": true
   },
   "outputs": [
    {
     "name": "stdout",
     "output_type": "stream",
     "text": [
      "aggr_daily_click=array([377.27 , 402.96 , 424.36 , 457.945, 483.104, 510.873, 530.942,\n",
      "       541.403, 560.641, 573.277])\n"
     ]
    }
   ],
   "source": [
    "print(f'{aggr_daily_click=}')"
   ]
  },
  {
   "cell_type": "markdown",
   "id": "nutritional-interval",
   "metadata": {},
   "source": [
    "#### Costs per click"
   ]
  },
  {
   "cell_type": "code",
   "execution_count": 12,
   "id": "capable-disclaimer",
   "metadata": {
    "scrolled": false
   },
   "outputs": [
    {
     "name": "stdout",
     "output_type": "stream",
     "text": [
      "Help on method get_costs_per_click in module data_generators.standard_generator:\n",
      "\n",
      "get_costs_per_click(mode='all', bid=None) method of data_generators.standard_generator.StandardDataGenerator instance\n",
      "            Get the distribution probability over the cost per click as a function of the bid\n",
      "            \n",
      "    The output depends on the `mode` kwarg.\n",
      "            [options: mode = `all` -> disjoint (default), mode = `aggregate` -> aggregation performed as a weighted average]\n",
      "            \n",
      "    Model: `coefficient` * log(1 + `bids`/`coefficient`)\n",
      "\n"
     ]
    }
   ],
   "source": [
    "help(data_gen.get_costs_per_click)"
   ]
  },
  {
   "cell_type": "code",
   "execution_count": 13,
   "id": "drawn-scholar",
   "metadata": {
    "scrolled": true
   },
   "outputs": [
    {
     "data": {
      "image/png": "[encoded data removed]",
      "text/plain": [
       "<Figure size 432x288 with 1 Axes>"
      ]
     },
     "metadata": {
      "needs_background": "light"
     },
     "output_type": "display_data"
    }
   ],
   "source": [
    "costs = data_gen.get_costs_per_click()\n",
    "\n",
    "plt.figure()\n",
    "plt.xticks(bids, rotation = 70)\n",
    "plt.plot(bids,bids, color='black', label=\"y=x\")\n",
    "for i in range(0,len(costs)):\n",
    "    plt.plot(bids, costs[i], '-o', label=categories[i])\n",
    "    \n",
    "plt.legend(loc='best')\n",
    "plt.title(\"Costs per click\")\n",
    "plt.show()"
   ]
  },
  {
   "cell_type": "code",
   "execution_count": 14,
   "id": "another-rescue",
   "metadata": {
    "scrolled": false
   },
   "outputs": [
    {
     "ename": "TypeError",
     "evalue": "`bid` kwarg must be set if the mode is `aggregate`",
     "output_type": "error",
     "traceback": [
      "\u001b[0;31m---------------------------------------------------------------------------\u001b[0m",
      "\u001b[0;31mTypeError\u001b[0m                                 Traceback (most recent call last)",
      "\u001b[0;32m<ipython-input-14-4746aec19036>\u001b[0m in \u001b[0;36m<module>\u001b[0;34m\u001b[0m\n\u001b[0;32m----> 1\u001b[0;31m \u001b[0maggr_costs\u001b[0m \u001b[0;34m=\u001b[0m \u001b[0mdata_gen\u001b[0m\u001b[0;34m.\u001b[0m\u001b[0mget_costs_per_click\u001b[0m\u001b[0;34m(\u001b[0m\u001b[0mmode\u001b[0m\u001b[0;34m=\u001b[0m\u001b[0;34m'aggregate'\u001b[0m\u001b[0;34m)\u001b[0m\u001b[0;34m\u001b[0m\u001b[0;34m\u001b[0m\u001b[0m\n\u001b[0m\u001b[1;32m      2\u001b[0m \u001b[0mplt\u001b[0m\u001b[0;34m.\u001b[0m\u001b[0mfigure\u001b[0m\u001b[0;34m(\u001b[0m\u001b[0;34m)\u001b[0m\u001b[0;34m\u001b[0m\u001b[0;34m\u001b[0m\u001b[0m\n\u001b[1;32m      3\u001b[0m \u001b[0mplt\u001b[0m\u001b[0;34m.\u001b[0m\u001b[0mxticks\u001b[0m\u001b[0;34m(\u001b[0m\u001b[0mbids\u001b[0m\u001b[0;34m,\u001b[0m \u001b[0mrotation\u001b[0m \u001b[0;34m=\u001b[0m \u001b[0;36m70\u001b[0m\u001b[0;34m)\u001b[0m\u001b[0;34m\u001b[0m\u001b[0;34m\u001b[0m\u001b[0m\n\u001b[1;32m      4\u001b[0m \u001b[0mplt\u001b[0m\u001b[0;34m.\u001b[0m\u001b[0mplot\u001b[0m\u001b[0;34m(\u001b[0m\u001b[0mbids\u001b[0m\u001b[0;34m,\u001b[0m\u001b[0mbids\u001b[0m\u001b[0;34m,\u001b[0m \u001b[0mcolor\u001b[0m\u001b[0;34m=\u001b[0m\u001b[0;34m'black'\u001b[0m\u001b[0;34m,\u001b[0m \u001b[0mlabel\u001b[0m\u001b[0;34m=\u001b[0m\u001b[0;34m\"y=x\"\u001b[0m\u001b[0;34m)\u001b[0m\u001b[0;34m\u001b[0m\u001b[0;34m\u001b[0m\u001b[0m\n\u001b[1;32m      5\u001b[0m \u001b[0mplt\u001b[0m\u001b[0;34m.\u001b[0m\u001b[0mplot\u001b[0m\u001b[0;34m(\u001b[0m\u001b[0mbids\u001b[0m\u001b[0;34m,\u001b[0m \u001b[0maggr_costs\u001b[0m\u001b[0;34m,\u001b[0m \u001b[0;34m'-o'\u001b[0m\u001b[0;34m)\u001b[0m\u001b[0;34m\u001b[0m\u001b[0;34m\u001b[0m\u001b[0m\n",
      "\u001b[0;32m~/DIA/DataIntelligenceApplications/data_generators/standard_generator.py\u001b[0m in \u001b[0;36mget_costs_per_click\u001b[0;34m(self, mode, bid)\u001b[0m\n\u001b[1;32m    151\u001b[0m         \u001b[0mcosts\u001b[0m \u001b[0;34m=\u001b[0m \u001b[0;34m[\u001b[0m\u001b[0;34m]\u001b[0m\u001b[0;34m\u001b[0m\u001b[0;34m\u001b[0m\u001b[0m\n\u001b[1;32m    152\u001b[0m         \u001b[0;32mif\u001b[0m \u001b[0mmode\u001b[0m \u001b[0;34m==\u001b[0m \u001b[0;34m'aggregate'\u001b[0m \u001b[0;32mand\u001b[0m \u001b[0mbid\u001b[0m \u001b[0;32mis\u001b[0m \u001b[0;32mNone\u001b[0m\u001b[0;34m:\u001b[0m\u001b[0;34m\u001b[0m\u001b[0;34m\u001b[0m\u001b[0m\n\u001b[0;32m--> 153\u001b[0;31m             \u001b[0;32mraise\u001b[0m \u001b[0mTypeError\u001b[0m\u001b[0;34m(\u001b[0m\u001b[0;34m\"`bid` kwarg must be set if the mode is `aggregate`\"\u001b[0m\u001b[0;34m)\u001b[0m\u001b[0;34m\u001b[0m\u001b[0;34m\u001b[0m\u001b[0m\n\u001b[0m\u001b[1;32m    154\u001b[0m \u001b[0;34m\u001b[0m\u001b[0m\n\u001b[1;32m    155\u001b[0m         \u001b[0;32mfor\u001b[0m \u001b[0mcl\u001b[0m \u001b[0;32min\u001b[0m \u001b[0mself\u001b[0m\u001b[0;34m.\u001b[0m\u001b[0m_cost_per_click\u001b[0m\u001b[0;34m:\u001b[0m\u001b[0;34m\u001b[0m\u001b[0;34m\u001b[0m\u001b[0m\n",
      "\u001b[0;31mTypeError\u001b[0m: `bid` kwarg must be set if the mode is `aggregate`"
     ]
    }
   ],
   "source": [
    "aggr_costs = data_gen.get_costs_per_click(mode='aggregate')\n",
    "plt.figure()\n",
    "plt.xticks(bids, rotation = 70)\n",
    "plt.plot(bids,bids, color='black', label=\"y=x\")\n",
    "plt.plot(bids, aggr_costs, '-o')\n",
    "plt.legend(loc='best')\n",
    "plt.title(\"Costs per click(2)\")\n",
    "plt.show()"
   ]
  },
  {
   "cell_type": "code",
   "execution_count": 15,
   "id": "defined-eligibility",
   "metadata": {
    "scrolled": true
   },
   "outputs": [
    {
     "ename": "NameError",
     "evalue": "name 'aggr_costs' is not defined",
     "output_type": "error",
     "traceback": [
      "\u001b[0;31m---------------------------------------------------------------------------\u001b[0m",
      "\u001b[0;31mNameError\u001b[0m                                 Traceback (most recent call last)",
      "\u001b[0;32m<ipython-input-15-5b8b74f86fc9>\u001b[0m in \u001b[0;36m<module>\u001b[0;34m\u001b[0m\n\u001b[0;32m----> 1\u001b[0;31m \u001b[0mprint\u001b[0m\u001b[0;34m(\u001b[0m\u001b[0;34mf'{aggr_costs=}'\u001b[0m\u001b[0;34m)\u001b[0m\u001b[0;34m\u001b[0m\u001b[0;34m\u001b[0m\u001b[0m\n\u001b[0m",
      "\u001b[0;31mNameError\u001b[0m: name 'aggr_costs' is not defined"
     ]
    }
   ],
   "source": [
    "print(f'{aggr_costs=}')"
   ]
  },
  {
   "cell_type": "markdown",
   "id": "split-waste",
   "metadata": {},
   "source": [
    "#### Future purchases"
   ]
  },
  {
   "cell_type": "code",
   "execution_count": 16,
   "id": "twelve-specific",
   "metadata": {
    "scrolled": false
   },
   "outputs": [
    {
     "name": "stdout",
     "output_type": "stream",
     "text": [
      "Help on method get_future_purchases in module data_generators.standard_generator:\n",
      "\n",
      "get_future_purchases(mode='all', bid=None) method of data_generators.standard_generator.StandardDataGenerator instance\n",
      "            Get the distribution probability over the number of times the user will come back to the\n",
      "            ecommerce website to buy another consumable item by 30 days after the first purchase (at the same price).\n",
      "    \n",
      "            The output depends on the `mode` kwarg.\n",
      "    \n",
      "            [options: mode = `all` -> disjoint (default), mode = `aggregate` -> aggregation performed as a weighted average]\n",
      "            \n",
      "    Model: np.maximum('lower_bound', 'coefficient'*(- prices + min(prices)) + 'upper_bound')\n",
      "\n"
     ]
    }
   ],
   "source": [
    "help(data_gen.get_future_purchases)"
   ]
  },
  {
   "cell_type": "code",
   "execution_count": 25,
   "id": "combined-toyota",
   "metadata": {
    "scrolled": true
   },
   "outputs": [
    {
     "data": {
      "image/png": "[encoded data removed]",
      "text/plain": [
       "<Figure size 432x288 with 1 Axes>"
      ]
     },
     "metadata": {
      "needs_background": "light"
     },
     "output_type": "display_data"
    }
   ],
   "source": [
    "next_purch = data_gen.get_future_purchases()\n",
    "\n",
    "plt.figure()\n",
    "plt.xticks(prices)\n",
    "for i in range(0,len(next_purch)):\n",
    "    plt.plot(prices, next_purch[i], '-o', label=categories[i])\n",
    "    \n",
    "plt.legend(loc='best')\n",
    "plt.title(\"Future purchases\")\n",
    "\n",
    "plt.show()"
   ]
  },
  {
   "cell_type": "code",
   "execution_count": 18,
   "id": "understanding-geography",
   "metadata": {
    "scrolled": false
   },
   "outputs": [
    {
     "ename": "TypeError",
     "evalue": "`bid` kwarg must be set if the mode is `aggregate`",
     "output_type": "error",
     "traceback": [
      "\u001b[0;31m---------------------------------------------------------------------------\u001b[0m",
      "\u001b[0;31mTypeError\u001b[0m                                 Traceback (most recent call last)",
      "\u001b[0;32m<ipython-input-18-5d2cf1bf92cc>\u001b[0m in \u001b[0;36m<module>\u001b[0;34m\u001b[0m\n\u001b[0;32m----> 1\u001b[0;31m \u001b[0maggr_purch\u001b[0m \u001b[0;34m=\u001b[0m \u001b[0mdata_gen\u001b[0m\u001b[0;34m.\u001b[0m\u001b[0mget_future_purchases\u001b[0m\u001b[0;34m(\u001b[0m\u001b[0mmode\u001b[0m\u001b[0;34m=\u001b[0m\u001b[0;34m'aggregate'\u001b[0m\u001b[0;34m)\u001b[0m\u001b[0;34m\u001b[0m\u001b[0;34m\u001b[0m\u001b[0m\n\u001b[0m\u001b[1;32m      2\u001b[0m \u001b[0mplt\u001b[0m\u001b[0;34m.\u001b[0m\u001b[0mfigure\u001b[0m\u001b[0;34m(\u001b[0m\u001b[0;34m)\u001b[0m\u001b[0;34m\u001b[0m\u001b[0;34m\u001b[0m\u001b[0m\n\u001b[1;32m      3\u001b[0m \u001b[0mplt\u001b[0m\u001b[0;34m.\u001b[0m\u001b[0mxticks\u001b[0m\u001b[0;34m(\u001b[0m\u001b[0mprices\u001b[0m\u001b[0;34m)\u001b[0m\u001b[0;34m\u001b[0m\u001b[0;34m\u001b[0m\u001b[0m\n\u001b[1;32m      4\u001b[0m \u001b[0mplt\u001b[0m\u001b[0;34m.\u001b[0m\u001b[0mplot\u001b[0m\u001b[0;34m(\u001b[0m\u001b[0mprices\u001b[0m\u001b[0;34m,\u001b[0m \u001b[0maggr_purch\u001b[0m\u001b[0;34m,\u001b[0m \u001b[0;34m'-o'\u001b[0m\u001b[0;34m)\u001b[0m\u001b[0;34m\u001b[0m\u001b[0;34m\u001b[0m\u001b[0m\n\u001b[1;32m      5\u001b[0m \u001b[0mplt\u001b[0m\u001b[0;34m.\u001b[0m\u001b[0mtitle\u001b[0m\u001b[0;34m(\u001b[0m\u001b[0;34m\"Future purchases(2)\"\u001b[0m\u001b[0;34m)\u001b[0m\u001b[0;34m\u001b[0m\u001b[0;34m\u001b[0m\u001b[0m\n",
      "\u001b[0;32m~/DIA/DataIntelligenceApplications/data_generators/standard_generator.py\u001b[0m in \u001b[0;36mget_future_purchases\u001b[0;34m(self, mode, bid)\u001b[0m\n\u001b[1;32m    105\u001b[0m             \u001b[0;32mraise\u001b[0m \u001b[0mTypeError\u001b[0m\u001b[0;34m(\u001b[0m\u001b[0;34m\"`mode` kwarg error: the only valid choices are `all`(default) and `aggregate`\"\u001b[0m\u001b[0;34m)\u001b[0m\u001b[0;34m\u001b[0m\u001b[0;34m\u001b[0m\u001b[0m\n\u001b[1;32m    106\u001b[0m         \u001b[0;32mif\u001b[0m \u001b[0mmode\u001b[0m \u001b[0;34m==\u001b[0m \u001b[0;34m'aggregate'\u001b[0m \u001b[0;32mand\u001b[0m \u001b[0mbid\u001b[0m \u001b[0;32mis\u001b[0m \u001b[0;32mNone\u001b[0m\u001b[0;34m:\u001b[0m\u001b[0;34m\u001b[0m\u001b[0;34m\u001b[0m\u001b[0m\n\u001b[0;32m--> 107\u001b[0;31m             \u001b[0;32mraise\u001b[0m \u001b[0mTypeError\u001b[0m\u001b[0;34m(\u001b[0m\u001b[0;34m\"`bid` kwarg must be set if the mode is `aggregate`\"\u001b[0m\u001b[0;34m)\u001b[0m\u001b[0;34m\u001b[0m\u001b[0;34m\u001b[0m\u001b[0m\n\u001b[0m\u001b[1;32m    108\u001b[0m \u001b[0;34m\u001b[0m\u001b[0m\n\u001b[1;32m    109\u001b[0m         \u001b[0mfuture_purchases\u001b[0m \u001b[0;34m=\u001b[0m \u001b[0;34m[\u001b[0m\u001b[0;34m]\u001b[0m\u001b[0;34m\u001b[0m\u001b[0;34m\u001b[0m\u001b[0m\n",
      "\u001b[0;31mTypeError\u001b[0m: `bid` kwarg must be set if the mode is `aggregate`"
     ]
    }
   ],
   "source": [
    "aggr_purch = data_gen.get_future_purchases(mode='aggregate')\n",
    "plt.figure()\n",
    "plt.xticks(prices)\n",
    "plt.plot(prices, aggr_purch, '-o')\n",
    "plt.title(\"Future purchases(2)\")\n",
    "plt.show()"
   ]
  },
  {
   "cell_type": "markdown",
   "id": "7ee6eb3d",
   "metadata": {},
   "source": [
    "___"
   ]
  },
  {
   "cell_type": "code",
   "execution_count": 19,
   "id": "84cf63a2",
   "metadata": {},
   "outputs": [
    {
     "name": "stdout",
     "output_type": "stream",
     "text": [
      "src:\t src/basic004.json\n",
      "\n",
      "bid\tr_aggr\t\tglobal\t\t\tdelta\n",
      "0\t1026.7894\t1026.6897\t-->\t0.0997\n",
      "1\t1053.4803\t1053.3706\t-->\t0.1097\n",
      "2\t1066.5876\t1066.461\t-->\t0.1266\n",
      "3\t1066.6261\t1066.481\t-->\t0.1451\n",
      "4\t1045.6414\t1045.4783\t-->\t0.1631\n",
      "5\t993.8633\t993.6776\t-->\t0.1857\n",
      "6\t929.5395\t929.3358\t-->\t0.2037\n",
      "7\t883.072\t882.8584\t-->\t0.2136\n",
      "8\t760.0932\t759.8604\t-->\t0.2328\n",
      "9\t634.5036\t634.2576\t-->\t0.246\n"
     ]
    }
   ],
   "source": [
    "dg = StandardDataGenerator('src/basic004.json')\n",
    "print('src:\\t',dg.get_source())\n",
    "print('\\nbid\\tr_aggr\\t\\tglobal\\t\\t\\tdelta')\n",
    "for j, bid in enumerate(dg.get_bids()):\n",
    "    maxs=[]\n",
    "    cost = dg.get_costs_per_click(mode='aggregate', bid=j)[j]\n",
    "    clicks = dg.get_daily_clicks(mode='aggregate')[j]\n",
    "    conv = dg.get_conversion_rates()\n",
    "    fp = dg.get_future_purchases()\n",
    "    for i in range(len(dg.get_classes())):\n",
    "        maxs.append(np.max((conv[i] *(1 + fp[i]) * dg.get_margins() - cost) * dg.get_daily_clicks()[i, j]))\n",
    "    \n",
    "    temp = (dg.get_margins() * np.average(conv * (1 + fp), axis=0, weights=dg.get_class_distributions(bid=j)) - \n",
    "        cost) * clicks\n",
    "    disaggr = np.around(sum(maxs), decimals=4)\n",
    "    aggr = np.around(np.max(temp), decimals=4)\n",
    "    delta = np.around(disaggr-aggr, decimals=4)\n",
    "    print(f'{j}\\t{disaggr}\\t{aggr}\\t-->\\t{delta}')"
   ]
  },
  {
   "cell_type": "code",
   "execution_count": 29,
   "id": "853d9d27",
   "metadata": {
    "scrolled": false
   },
   "outputs": [
    {
     "name": "stdout",
     "output_type": "stream",
     "text": [
      "src:\t src/basic006.json\n",
      "\n",
      "bid\tglobal\t\tr_aggr\t\t\tdelta\n",
      "------------bid=0------------\n",
      "cost=0.295\n",
      "clicks=377.27\n",
      "conv=array([[0.25 , 0.29 , 0.3  , 0.28 , 0.25 , 0.2  , 0.16 , 0.14 , 0.145,\n",
      "        0.16 ],\n",
      "       [0.113, 0.107, 0.099, 0.087, 0.083, 0.073, 0.053, 0.05 , 0.04 ,\n",
      "        0.033],\n",
      "       [0.158, 0.161, 0.156, 0.146, 0.136, 0.122, 0.112, 0.098, 0.079,\n",
      "        0.068]])\n",
      "fp=array([[3. , 2.8, 2.6, 2.4, 2.2, 2. , 1.8, 1.6, 1.4, 1.2],\n",
      "       [1.5, 1.2, 0.9, 0.6, 0.3, 0. , 0. , 0. , 0. , 0. ],\n",
      "       [2. , 1.7, 1.4, 1.1, 0.8, 0.5, 0.2, 0. , 0. , 0. ]])\n",
      "margins=[3, 4, 5, 6, 7, 8, 9, 10, 11, 12]\n",
      "------class=0-----\n",
      "class_click=181.856\n",
      "values=array([491.92048 , 747.973728, 928.37488 , 985.113952, 964.74608 ,\n",
      "       819.26128 , 679.595872, 608.30832 , 642.497248, 714.512224])\n",
      "------class=1-----\n",
      "class_click=90.593\n",
      "values=array([50.0526325, 58.5774338, 58.4777815, 48.9383386, 41.6999579,\n",
      "       26.181377 , 16.487926 , 18.571565 , 13.135985 ,  9.149893 ])\n",
      "------class=2-----\n",
      "class_click=104.821\n",
      "values=array([118.133267 , 151.3405598, 165.302717 , 161.9065166, 148.6990706,\n",
      "       122.535749 ,  95.8692866,  71.802385 ,  60.167254 ,  54.611741 ])\n",
      "maxs=[985.1139520000002, 58.57743380000001, 165.30271700000003]\n",
      "0\t1208.9941\t1195.9588\t-->\t13.0353\n",
      "------------bid=1------------\n",
      "cost=0.343\n",
      "clicks=402.96\n",
      "conv=array([[0.25 , 0.29 , 0.3  , 0.28 , 0.25 , 0.2  , 0.16 , 0.14 , 0.145,\n",
      "        0.16 ],\n",
      "       [0.113, 0.107, 0.099, 0.087, 0.083, 0.073, 0.053, 0.05 , 0.04 ,\n",
      "        0.033],\n",
      "       [0.158, 0.161, 0.156, 0.146, 0.136, 0.122, 0.112, 0.098, 0.079,\n",
      "        0.068]])\n",
      "fp=array([[3. , 2.8, 2.6, 2.4, 2.2, 2. , 1.8, 1.6, 1.4, 1.2],\n",
      "       [1.5, 1.2, 0.9, 0.6, 0.3, 0. , 0. , 0. , 0. , 0. ],\n",
      "       [2. , 1.7, 1.4, 1.1, 0.8, 0.5, 0.2, 0. , 0. , 0. ]])\n",
      "margins=[3, 4, 5, 6, 7, 8, 9, 10, 11, 12]\n",
      "------class=0-----\n",
      "class_click=187.838\n",
      "values=array([ 499.085566,  763.56147 ,  949.896766, 1008.502222,  987.464366,\n",
      "        837.193966,  692.934382,  619.301886,  654.61543 ,  728.999278])\n",
      "------class=1-----\n",
      "class_click=102.111\n",
      "values=array([51.5149995, 61.1236446, 61.0113225, 50.2590342, 42.1003653,\n",
      "       24.608751 , 13.682874 , 16.031427 ,  9.904767 ,  5.411883 ])\n",
      "------class=2-----\n",
      "class_click=113.01\n",
      "values=array([121.93779 , 157.739358, 172.79229 , 169.130766, 154.891506,\n",
      "       126.68421 ,  97.934466,  71.98737 ,  59.44326 ,  53.45373 ])\n",
      "maxs=[1008.5022220000001, 61.123644600000006, 172.79229000000004]\n",
      "1\t1242.4182\t1227.8951\t-->\t14.5231\n",
      "------------bid=2------------\n",
      "cost=0.391\n",
      "clicks=424.36\n",
      "conv=array([[0.25 , 0.29 , 0.3  , 0.28 , 0.25 , 0.2  , 0.16 , 0.14 , 0.145,\n",
      "        0.16 ],\n",
      "       [0.113, 0.107, 0.099, 0.087, 0.083, 0.073, 0.053, 0.05 , 0.04 ,\n",
      "        0.033],\n",
      "       [0.158, 0.161, 0.156, 0.146, 0.136, 0.122, 0.112, 0.098, 0.079,\n",
      "        0.068]])\n",
      "fp=array([[3. , 2.8, 2.6, 2.4, 2.2, 2. , 1.8, 1.6, 1.4, 1.2],\n",
      "       [1.5, 1.2, 0.9, 0.6, 0.3, 0. , 0. , 0. , 0. , 0. ],\n",
      "       [2. , 1.7, 1.4, 1.1, 0.8, 0.5, 0.2, 0. , 0. , 0. ]])\n",
      "margins=[3, 4, 5, 6, 7, 8, 9, 10, 11, 12]\n",
      "------class=0-----\n",
      "class_click=191.848\n",
      "values=array([ 500.531432,  770.653416,  960.966632, 1020.823208,  999.336232,\n",
      "        845.857832,  698.518568,  623.314152,  659.381576,  735.353384])\n",
      "------class=1-----\n",
      "class_click=112.797\n",
      "values=array([51.4918305, 62.1060282, 61.9819515, 50.1044274, 41.0919471,\n",
      "       21.769821 ,  9.700542 , 12.294873 ,  5.527053 ,  0.563985 ])\n",
      "------class=2-----\n",
      "class_click=119.716\n",
      "values=array([123.427196 , 161.3532248, 177.299396 , 173.4205976, 158.3363816,\n",
      "       128.455268 ,  97.9995176,  70.512724 ,  57.224248 ,  50.8793   ])\n",
      "maxs=[1020.8232080000001, 62.10602820000001, 177.299396]\n",
      "2\t1260.2286\t1244.3453\t-->\t15.8833\n",
      "------------bid=3------------\n",
      "cost=0.486\n",
      "clicks=457.945\n",
      "conv=array([[0.25 , 0.29 , 0.3  , 0.28 , 0.25 , 0.2  , 0.16 , 0.14 , 0.145,\n",
      "        0.16 ],\n",
      "       [0.113, 0.107, 0.099, 0.087, 0.083, 0.073, 0.053, 0.05 , 0.04 ,\n",
      "        0.033],\n",
      "       [0.158, 0.161, 0.156, 0.146, 0.136, 0.122, 0.112, 0.098, 0.079,\n",
      "        0.068]])\n",
      "fp=array([[3. , 2.8, 2.6, 2.4, 2.2, 2. , 1.8, 1.6, 1.4, 1.2],\n",
      "       [1.5, 1.2, 0.9, 0.6, 0.3, 0. , 0. , 0. , 0. , 0. ],\n",
      "       [2. , 1.7, 1.4, 1.1, 0.8, 0.5, 0.2, 0. , 0. , 0. ]])\n",
      "margins=[3, 4, 5, 6, 7, 8, 9, 10, 11, 12]\n",
      "------class=0-----\n",
      "class_click=196.337\n",
      "values=array([ 493.591218,  770.033714,  964.800018, 1026.057162, 1004.067418,\n",
      "        846.997818,  696.211002,  619.246898,  656.158254,  733.907706])\n",
      "------class=1-----\n",
      "class_click=131.908\n",
      "values=array([ 47.684742 ,  60.0972848,  59.952186 ,  46.0622736,  35.5228244,\n",
      "        12.926984 ,  -1.187172 ,   1.846712 ,  -6.067768 , -11.87172  ])\n",
      "------class=2-----\n",
      "class_click=129.7\n",
      "values=array([121.3992 , 162.48816, 179.7642 , 175.56192, 159.21972, 126.8466 ,\n",
      "        93.85092,  64.0718 ,  49.6751 ,  42.801  ])\n",
      "maxs=[1026.057162, 60.09728480000001, 179.7642]\n",
      "3\t1265.9186\t1247.6814\t-->\t18.2372\n",
      "------------bid=4------------\n",
      "cost=0.58\n",
      "clicks=483.104\n",
      "conv=array([[0.25 , 0.29 , 0.3  , 0.28 , 0.25 , 0.2  , 0.16 , 0.14 , 0.145,\n",
      "        0.16 ],\n",
      "       [0.113, 0.107, 0.099, 0.087, 0.083, 0.073, 0.053, 0.05 , 0.04 ,\n",
      "        0.033],\n",
      "       [0.158, 0.161, 0.156, 0.146, 0.136, 0.122, 0.112, 0.098, 0.079,\n",
      "        0.068]])\n",
      "fp=array([[3. , 2.8, 2.6, 2.4, 2.2, 2. , 1.8, 1.6, 1.4, 1.2],\n",
      "       [1.5, 1.2, 0.9, 0.6, 0.3, 0. , 0. , 0. , 0. , 0. ],\n",
      "       [2. , 1.7, 1.4, 1.1, 0.8, 0.5, 0.2, 0. , 0. , 0. ]])\n",
      "margins=[3, 4, 5, 6, 7, 8, 9, 10, 11, 12]\n",
      "------class=0-----\n",
      "class_click=198.354\n",
      "values=array([ 480.01668 ,  759.299112,  956.06628 , 1017.952728,  995.73708 ,\n",
      "        837.05388 ,  684.718008,  606.96324 ,  644.253792,  722.801976])\n",
      "------class=1-----\n",
      "class_click=148.358\n",
      "values=array([ 39.685765 ,  53.6462528,  53.483059 ,  37.8609616,  26.0071574,\n",
      "         0.593432 , -15.280874 , -11.86864  , -20.77012  , -27.297872 ])\n",
      "------class=2-----\n",
      "class_click=136.392\n",
      "values=array([114.842064 , 158.0510496, 176.218464 , 171.7993632, 154.6139712,\n",
      "       120.570528 ,  85.8724032,  54.5568   ,  39.417288 ,  32.188512 ])\n",
      "maxs=[1017.9527280000002, 53.64625280000002, 176.21846400000004]\n",
      "4\t1247.8174\t1227.6131\t-->\t20.2043\n",
      "------------bid=5------------\n",
      "cost=0.719\n",
      "clicks=510.873\n",
      "conv=array([[0.25 , 0.29 , 0.3  , 0.28 , 0.25 , 0.2  , 0.16 , 0.14 , 0.145,\n",
      "        0.16 ],\n",
      "       [0.113, 0.107, 0.099, 0.087, 0.083, 0.073, 0.053, 0.05 , 0.04 ,\n",
      "        0.033],\n",
      "       [0.158, 0.161, 0.156, 0.146, 0.136, 0.122, 0.112, 0.098, 0.079,\n",
      "        0.068]])\n",
      "fp=array([[3. , 2.8, 2.6, 2.4, 2.2, 2. , 1.8, 1.6, 1.4, 1.2],\n",
      "       [1.5, 1.2, 0.9, 0.6, 0.3, 0. , 0. , 0. , 0. , 0. ],\n",
      "       [2. , 1.7, 1.4, 1.1, 0.8, 0.5, 0.2, 0. , 0. , 0. ]])\n",
      "margins=[3, 4, 5, 6, 7, 8, 9, 10, 11, 12]\n",
      "------class=0-----\n",
      "class_click=199.504\n",
      "values=array([455.068624, 735.970256, 933.878224, 996.123472, 973.779024,\n",
      "       814.175824, 660.956752, 582.751184, 620.257936, 699.26152 ])\n",
      "------class=1-----\n",
      "class_click=168.837\n",
      "values=array([ 21.6955545,  37.5831162,  37.3973955,  19.6188594,   6.1287831,\n",
      "       -22.792995 , -40.858554 , -36.975303 , -47.105523 , -54.534351 ])\n",
      "------class=2-----\n",
      "class_click=142.532\n",
      "values=array([100.199996 , 145.3541336, 164.339396 , 159.7213592, 141.7623272,\n",
      "       106.18634  ,  69.9261992,  37.200852 ,  21.3798   ,  13.825604 ])\n",
      "maxs=[996.123472, 37.58311620000002, 164.33939600000002]\n",
      "5\t1198.046\t1175.4637\t-->\t22.5823\n",
      "------------bid=6------------\n",
      "cost=0.856\n",
      "clicks=530.942\n",
      "conv=array([[0.25 , 0.29 , 0.3  , 0.28 , 0.25 , 0.2  , 0.16 , 0.14 , 0.145,\n",
      "        0.16 ],\n",
      "       [0.113, 0.107, 0.099, 0.087, 0.083, 0.073, 0.053, 0.05 , 0.04 ,\n",
      "        0.033],\n",
      "       [0.158, 0.161, 0.156, 0.146, 0.136, 0.122, 0.112, 0.098, 0.079,\n",
      "        0.068]])\n",
      "fp=array([[3. , 2.8, 2.6, 2.4, 2.2, 2. , 1.8, 1.6, 1.4, 1.2],\n",
      "       [1.5, 1.2, 0.9, 0.6, 0.3, 0. , 0. , 0. , 0. , 0. ],\n",
      "       [2. , 1.7, 1.4, 1.1, 0.8, 0.5, 0.2, 0. , 0. , 0. ]])\n",
      "margins=[3, 4, 5, 6, 7, 8, 9, 10, 11, 12]\n",
      "------class=0-----\n",
      "class_click=199.851\n",
      "values=array([428.480544, 709.870752, 908.122944, 970.476456, 948.093144,\n",
      "       788.212344, 634.726776, 556.385184, 593.957172, 673.098168])\n",
      "------class=1-----\n",
      "class_click=185.19\n",
      "values=array([ -1.574115,  15.852264,  15.648555,  -3.851952, -18.648633,\n",
      "       -50.37168 , -70.18701 , -65.92764 , -77.03904 , -85.1874  ])\n",
      "------class=2-----\n",
      "class_click=145.901\n",
      "values=array([ 82.579966 , 128.8014028, 148.235416 , 143.5082236, 125.1246976,\n",
      "        88.707808 ,  51.5905936,  18.091724 ,   1.896713 ,  -5.83604  ])\n",
      "maxs=[970.4764560000001, 15.852264000000021, 148.23541600000001]\n",
      "6\t1134.5641\t1110.1327\t-->\t24.4314\n",
      "------------bid=7------------\n",
      "cost=0.946\n",
      "clicks=541.403\n",
      "conv=array([[0.25 , 0.29 , 0.3  , 0.28 , 0.25 , 0.2  , 0.16 , 0.14 , 0.145,\n",
      "        0.16 ],\n",
      "       [0.113, 0.107, 0.099, 0.087, 0.083, 0.073, 0.053, 0.05 , 0.04 ,\n",
      "        0.033],\n",
      "       [0.158, 0.161, 0.156, 0.146, 0.136, 0.122, 0.112, 0.098, 0.079,\n",
      "        0.068]])\n",
      "fp=array([[3. , 2.8, 2.6, 2.4, 2.2, 2. , 1.8, 1.6, 1.4, 1.2],\n",
      "       [1.5, 1.2, 0.9, 0.6, 0.3, 0. , 0. , 0. , 0. , 0. ],\n",
      "       [2. , 1.7, 1.4, 1.1, 0.8, 0.5, 0.2, 0. , 0. , 0. ]])\n",
      "margins=[3, 4, 5, 6, 7, 8, 9, 10, 11, 12]\n",
      "------class=0-----\n",
      "class_click=199.933\n",
      "values=array([410.662382, 692.168046, 890.501582, 952.880678, 930.488182,\n",
      "       770.541782, 616.993238, 538.619502, 576.206906, 655.380374])\n",
      "------class=1-----\n",
      "class_click=194.217\n",
      "values=array([ -19.1303745,   -0.8545548,   -1.0681935,  -21.5192436,\n",
      "        -37.0371819,  -70.306554 ,  -91.087773 ,  -86.620782 ,\n",
      "        -98.273802 , -106.81935  ])\n",
      "------class=2-----\n",
      "class_click=147.253\n",
      "values=array([ 70.092428 , 116.7421784, 136.356278 , 131.5852808, 113.0314028,\n",
      "        76.277054 ,  38.8158908,   5.006602 , -11.338481 , -19.14289  ])\n",
      "maxs=[952.8806780000001, -0.8545547999999706, 136.356278]\n",
      "7\t1088.3824\t1062.9467\t-->\t25.4357\n",
      "------------bid=8------------\n",
      "cost=1.168\n",
      "clicks=560.641\n",
      "conv=array([[0.25 , 0.29 , 0.3  , 0.28 , 0.25 , 0.2  , 0.16 , 0.14 , 0.145,\n",
      "        0.16 ],\n",
      "       [0.113, 0.107, 0.099, 0.087, 0.083, 0.073, 0.053, 0.05 , 0.04 ,\n",
      "        0.033],\n",
      "       [0.158, 0.161, 0.156, 0.146, 0.136, 0.122, 0.112, 0.098, 0.079,\n",
      "        0.068]])\n",
      "fp=array([[3. , 2.8, 2.6, 2.4, 2.2, 2. , 1.8, 1.6, 1.4, 1.2],\n",
      "       [1.5, 1.2, 0.9, 0.6, 0.3, 0. , 0. , 0. , 0. , 0. ],\n",
      "       [2. , 1.7, 1.4, 1.1, 0.8, 0.5, 0.2, 0. , 0. , 0. ]])\n",
      "margins=[3, 4, 5, 6, 7, 8, 9, 10, 11, 12]\n",
      "------class=0-----\n",
      "class_click=199.991\n",
      "values=array([366.383512, 647.97084 , 846.361912, 908.759104, 886.360112,\n",
      "       726.367312, 572.774224, 494.377752, 531.97606 , 611.172496])\n",
      "------class=1-----\n",
      "class_click=211.661\n",
      "values=array([ -67.8373505,  -47.9200504,  -48.1528775,  -70.4407808,\n",
      "        -87.3524947, -123.610024 , -146.257751 , -141.389548 ,\n",
      "       -154.089208 , -163.402292 ])\n",
      "------class=2-----\n",
      "class_click=148.989\n",
      "values=array([ 37.843206 ,  85.0429212, 104.888256 , 100.0610124,  81.2883984,\n",
      "        44.100744 ,   6.1979424, -28.009932 , -44.547711 , -52.444128 ])\n",
      "maxs=[908.7591040000002, -47.920050399999965, 104.88825600000003]\n",
      "8\t965.7273\t938.3793\t-->\t27.348\n",
      "------------bid=9------------\n",
      "cost=1.383\n",
      "clicks=573.277\n",
      "conv=array([[0.25 , 0.29 , 0.3  , 0.28 , 0.25 , 0.2  , 0.16 , 0.14 , 0.145,\n",
      "        0.16 ],\n",
      "       [0.113, 0.107, 0.099, 0.087, 0.083, 0.073, 0.053, 0.05 , 0.04 ,\n",
      "        0.033],\n",
      "       [0.158, 0.161, 0.156, 0.146, 0.136, 0.122, 0.112, 0.098, 0.079,\n",
      "        0.068]])\n",
      "fp=array([[3. , 2.8, 2.6, 2.4, 2.2, 2. , 1.8, 1.6, 1.4, 1.2],\n",
      "       [1.5, 1.2, 0.9, 0.6, 0.3, 0. , 0. , 0. , 0. , 0. ],\n",
      "       [2. , 1.7, 1.4, 1.1, 0.8, 0.5, 0.2, 0. , 0. , 0. ]])\n",
      "margins=[3, 4, 5, 6, 7, 8, 9, 10, 11, 12]\n",
      "------class=0-----\n",
      "class_click=199.999\n",
      "values=array([323.398383, 604.996975, 803.395983, 865.795671, 843.395783,\n",
      "       683.396583, 529.797351, 451.397743, 488.997555, 568.197159])\n",
      "------class=1-----\n",
      "class_click=223.65\n",
      "values=array([-119.764575,  -98.71911 ,  -98.965125, -122.51547 , -140.385105,\n",
      "       -178.69635 , -202.6269  , -197.48295 , -210.90195 , -220.74255 ])\n",
      "------class=2-----\n",
      "class_click=149.628\n",
      "values=array([  5.835492 ,  53.2376424,  73.168092 ,  68.3201448,  49.4670168,\n",
      "        12.119868 , -25.9454952, -60.300084 , -76.908792 , -84.839076 ])\n",
      "maxs=[865.7956710000001, -98.71910999999999, 73.168092]\n",
      "9\t840.2447\t811.6003\t-->\t28.6444\n"
     ]
    }
   ],
   "source": [
    "dg = StandardDataGenerator('src/basic006.json')\n",
    "print('src:\\t',dg.get_source())\n",
    "print('\\nbid\\tglobal\\t\\tr_aggr\\t\\t\\tdelta')\n",
    "for j, bid in enumerate(dg.get_bids()):\n",
    "    maxs=[]\n",
    "    cost = dg.get_costs_per_click(mode='aggregate', bid=j)[j]\n",
    "    clicks = dg.get_daily_clicks(mode='aggregate')[j]\n",
    "    conv = dg.get_conversion_rates()\n",
    "    fp = dg.get_future_purchases()\n",
    "    margins = dg.get_margins()\n",
    "    print(f'------------bid={j}------------')\n",
    "    print(f'{cost=}')\n",
    "    print(f'{clicks=}')\n",
    "    print(f'{conv=}')\n",
    "    print(f'{fp=}')\n",
    "    print(f'{margins=}')\n",
    "\n",
    "    for i in range(len(dg.get_classes())):\n",
    "        print(f'------class={i}-----')\n",
    "        \n",
    "        class_click = dg.get_daily_clicks()[i, j]\n",
    "        values = (conv[i] *(1 + fp[i]) * margins - cost) * class_click\n",
    "        print(f'{class_click=}')\n",
    "        print(f'{values=}')\n",
    "        maxs.append(np.max(values))\n",
    "    \n",
    "    temp = (dg.get_margins() * np.average(conv * (1 + fp), axis=0, weights=dg.get_class_distributions(bid=j)) - \n",
    "        cost) * clicks\n",
    "    print(f'{maxs=}')\n",
    "    disaggr = np.around(sum(maxs), decimals=4)\n",
    "    aggr = np.around(np.max(temp), decimals=4)\n",
    "    delta = np.around(disaggr-aggr, decimals=4)\n",
    "    print(f'{j}\\t{disaggr}\\t{aggr}\\t-->\\t{delta}')"
   ]
  },
  {
   "cell_type": "code",
   "execution_count": 27,
   "id": "4f857962",
   "metadata": {},
   "outputs": [
    {
     "name": "stdout",
     "output_type": "stream",
     "text": [
      "src:\t src/basic005.json\n",
      "\n",
      "bid\tglobal\t\tr_aggr\t\t\tdelta\n",
      "0\t1082.1208\t1046.957\t-->\t35.1638\n",
      "1\t1109.3985\t1071.8745\t-->\t37.524\n",
      "2\t1122.5162\t1083.0058\t-->\t39.5104\n",
      "3\t1121.6921\t1079.0311\t-->\t42.661\n",
      "4\t1099.4129\t1054.3324\t-->\t45.0805\n",
      "5\t1045.7001\t997.8641\t-->\t47.836\n",
      "6\t979.7609\t929.8629\t-->\t49.898\n",
      "7\t932.4109\t881.4119\t-->\t50.999\n",
      "8\t807.7785\t754.7065\t-->\t53.072\n",
      "9\t681.0982\t626.6326\t-->\t54.4656\n"
     ]
    }
   ],
   "source": [
    "dg = StandardDataGenerator('src/basic005.json')\n",
    "print('src:\\t',dg.get_source())\n",
    "print('\\nbid\\tglobal\\t\\tr_aggr\\t\\t\\tdelta')\n",
    "for j, bid in enumerate(dg.get_bids()):\n",
    "    maxs=[]\n",
    "    cost = dg.get_costs_per_click(mode='aggregate', bid=j)[j]\n",
    "    clicks = dg.get_daily_clicks(mode='aggregate')[j]\n",
    "    conv = dg.get_conversion_rates()\n",
    "    fp = dg.get_future_purchases()\n",
    "    for i in range(len(dg.get_classes())):\n",
    "        maxs.append(np.max((conv[i] *(1 + fp[i]) * dg.get_margins() - cost) * dg.get_daily_clicks()[i, j]))\n",
    "    \n",
    "    temp = (dg.get_margins() * np.average(conv * (1 + fp), axis=0, weights=dg.get_class_distributions(bid=j)) - \n",
    "        cost) * clicks\n",
    "    disaggr = np.around(sum(maxs), decimals=4)\n",
    "    aggr = np.around(np.max(temp), decimals=4)\n",
    "    delta = np.around(disaggr-aggr, decimals=4)\n",
    "    print(f'{j}\\t{disaggr}\\t{aggr}\\t-->\\t{delta}')"
   ]
  }
 ],
 "metadata": {
  "kernelspec": {
   "display_name": "Python 3",
   "language": "python",
   "name": "python3"
  },
  "language_info": {
   "codemirror_mode": {
    "name": "ipython",
    "version": 3
   },
   "file_extension": ".py",
   "mimetype": "text/x-python",
   "name": "python",
   "nbconvert_exporter": "python",
   "pygments_lexer": "ipython3",
   "version": "3.8.8"
  }
 },
 "nbformat": 4,
 "nbformat_minor": 5
}
