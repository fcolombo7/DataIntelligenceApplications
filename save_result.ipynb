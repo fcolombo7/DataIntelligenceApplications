{
 "cells": [
  {
   "cell_type": "code",
   "execution_count": null,
   "metadata": {
    "colab": {
     "base_uri": "https://localhost:8080/"
    },
    "id": "7a73_dWbMEm6",
    "outputId": "6b08837d-03e3-41d4-9b79-089f86211318"
   },
   "outputs": [],
   "source": [
    "from google.colab import drive\n",
    "drive.mount('/content/drive', force_remount=True)\n",
    "import os\n",
    "os.chdir('/content/drive/MyDrive/DataIntelligenceApplications/')"
   ]
  },
  {
   "cell_type": "markdown",
   "metadata": {
    "id": "YAlwSgcoMVs6"
   },
   "source": [
    "---\n",
    "### Run the simulation "
   ]
  },
  {
   "cell_type": "code",
   "execution_count": null,
   "metadata": {
    "colab": {
     "base_uri": "https://localhost:8080/"
    },
    "id": "zJ5GvsW1MVKQ",
    "outputId": "6d4bae64-832f-4048-8966-e01e1ca2678a"
   },
   "outputs": [],
   "source": [
    "!python run_simulation.py --simulation_name step7 --src src/basic007.json --time_horizon 365 --n_experiments 5 --pricing_context True"
   ]
  },
  {
   "cell_type": "markdown",
   "metadata": {},
   "source": [
    "---\n",
    "### Load and show the result"
   ]
  },
  {
   "cell_type": "code",
   "execution_count": null,
   "metadata": {
    "id": "wbLI2Gf-M2lA"
   },
   "outputs": [],
   "source": [
    "import numpy as np\n",
    "import matplotlib.pyplot as plt\n",
    "%matplotlib inline \n",
    "\n",
    "from utils.tasks.complete_task import CompleteTask"
   ]
  },
  {
   "cell_type": "code",
   "execution_count": null,
   "metadata": {
    "colab": {
     "base_uri": "https://localhost:8080/"
    },
    "id": "J8i5BH5_Us2J",
    "outputId": "75a98901-5390-47be-8dc8-82b587f27863"
   },
   "outputs": [],
   "source": [
    "src = 'src/basic007.json'\n",
    "name = 'step6'\n",
    "task_result = 'simulations_results/result_'+name+'.zip'\n",
    "\n",
    "task = CompleteTask(data_src=src, name=name)\n",
    "task.load(task_result)"
   ]
  },
  {
   "cell_type": "code",
   "execution_count": null,
   "metadata": {
    "colab": {
     "base_uri": "https://localhost:8080/",
     "height": 513
    },
    "id": "nqBaDQ5uUw4n",
    "outputId": "8eaab90f-afd5-4fb3-f5df-4717f3cb8527"
   },
   "outputs": [],
   "source": [
    "task.plot(0)"
   ]
  },
  {
   "cell_type": "code",
   "execution_count": null,
   "metadata": {
    "colab": {
     "base_uri": "https://localhost:8080/",
     "height": 513
    },
    "id": "7-od9Kr0U2ts",
    "outputId": "a19ac64e-6b6a-4a29-8c34-fee8202f00da"
   },
   "outputs": [],
   "source": [
    "task.plot(1)"
   ]
  },
  {
   "cell_type": "code",
   "execution_count": null,
   "metadata": {
    "colab": {
     "base_uri": "https://localhost:8080/"
    },
    "id": "GAgRs9mjU6yA",
    "outputId": "80c8f3ab-1b42-4703-fa35-c3953dd3b655"
   },
   "outputs": [],
   "source": [
    "task.plot(2)"
   ]
  }
 ],
 "metadata": {
  "accelerator": "TPU",
  "colab": {
   "name": "save_result.ipynb",
   "provenance": []
  },
  "kernelspec": {
   "display_name": "Python 3",
   "language": "python",
   "name": "python3"
  },
  "language_info": {
   "codemirror_mode": {
    "name": "ipython",
    "version": 3
   },
   "file_extension": ".py",
   "mimetype": "text/x-python",
   "name": "python",
   "nbconvert_exporter": "python",
   "pygments_lexer": "ipython3",
   "version": "3.8.8"
  }
 },
 "nbformat": 4,
 "nbformat_minor": 1
}
