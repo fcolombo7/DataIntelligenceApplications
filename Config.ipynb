{
 "cells": [
  {
   "cell_type": "code",
   "execution_count": 1,
   "metadata": {},
   "outputs": [],
   "source": [
    "import numpy as np\n",
    "import matplotlib.pyplot as plt\n",
    "from environments.environment import Environment\n",
    "from learners.Learner import Learner\n",
    "from learners.greedy import Greedy\n",
    "from learners.thompson_sampling import ThompsonSampling\n",
    "from learners.ucb import UCB"
   ]
  },
  {
   "cell_type": "code",
   "execution_count": 2,
   "metadata": {},
   "outputs": [],
   "source": [
    "n_arms = 4\n",
    "p = np.array([0.15, 0.1, 0.1, 0.35])\n",
    "opt = p[3]\n",
    "T = 3000\n",
    "n_experiments = 100"
   ]
  },
  {
   "cell_type": "code",
   "execution_count": 3,
   "metadata": {},
   "outputs": [],
   "source": [
    "ts_rewards_per_experiment = []\n",
    "greedy_rewards_per_experiment = []\n",
    "ucb_rewards_per_experiment = []"
   ]
  },
  {
   "cell_type": "code",
   "execution_count": 4,
   "metadata": {},
   "outputs": [],
   "source": [
    "for e in range (n_experiments):\n",
    "    ts_env = Environment(n_arms, p)\n",
    "    ts_learner = ThompsonSampling(n_arms)\n",
    "    \n",
    "    greedy_env = Environment(n_arms, p)\n",
    "    greedy_learner = Greedy(n_arms)\n",
    "    \n",
    "    ucb_env = Environment(n_arms, p)\n",
    "    ucb_learner = UCB(n_arms)\n",
    "    \n",
    "    for t in range (T):\n",
    "        pulled_arm = ts_learner.pull_arm()\n",
    "        reward = ts_env.round(pulled_arm)\n",
    "        ts_learner.update(pulled_arm, reward)\n",
    "        \n",
    "        pulled_arm = greedy_learner.pull_arm()\n",
    "        reward = greedy_env.round(pulled_arm)\n",
    "        greedy_learner.update(pulled_arm, reward)\n",
    "        \n",
    "        pulled_arm = ucb_learner.pull_arm()\n",
    "        reward = ucb_env.round(pulled_arm)\n",
    "        ucb_learner.update(pulled_arm, reward)\n",
    "        \n",
    "    ts_rewards_per_experiment.append(ts_learner.collected_rewards)\n",
    "    greedy_rewards_per_experiment.append(greedy_learner.collected_rewards)\n",
    "    ucb_rewards_per_experiment.append(ucb_learner.collected_rewards)"
   ]
  },
  {
   "cell_type": "code",
   "execution_count": 5,
   "metadata": {},
   "outputs": [
    {
     "data": {
      "image/png": "[encoded data removed]",
      "text/plain": [
       "<Figure size 432x288 with 1 Axes>"
      ]
     },
     "metadata": {
      "needs_background": "light"
     },
     "output_type": "display_data"
    }
   ],
   "source": [
    "plt.figure(0)\n",
    "plt.xlabel(\"t\")\n",
    "plt.ylabel(\"Regret\")\n",
    "plt.plot(np.cumsum(np.mean(opt - ts_rewards_per_experiment, axis=0)))\n",
    "plt.plot(np.cumsum(np.mean(opt - greedy_rewards_per_experiment, axis=0)))\n",
    "plt.plot(np.cumsum(np.mean(opt - ucb_rewards_per_experiment, axis=0)))\n",
    "plt.legend([\"TS\", \"Greedy\", \"UCB\"])\n",
    "plt.show()"
   ]
  },
  {
   "cell_type": "code",
   "execution_count": 7,
   "metadata": {},
   "outputs": [
    {
     "name": "stdout",
     "output_type": "stream",
     "text": [
      "Help on class Learner in module learners.Learner:\n",
      "\n",
      "class Learner(builtins.object)\n",
      " |  Learner(n_arms)\n",
      " |  \n",
      " |  Abstract class used to represent online learning algorithms.\n",
      " |  :param n_arms: the number of arms that can be pulled\n",
      " |  :type n_arms: int\n",
      " |  \n",
      " |  Methods defined here:\n",
      " |  \n",
      " |  __init__(self, n_arms)\n",
      " |      Initialize self.  See help(type(self)) for accurate signature.\n",
      " |  \n",
      " |  pull_arm(self) -> int\n",
      " |      Compute the best arm to pull according to the current parameter of the learner.\n",
      " |      \n",
      " |      :return:  the best arm to pull\n",
      " |  \n",
      " |  update(self, pulled_arm, reward)\n",
      " |      Update the parameters of the learner according the the reward received by the environment, and the pulled arm.\n",
      " |      \n",
      " |      :param pulled_arm: the arm that was pulled\n",
      " |      :param reward: the reward received by the environment\n",
      " |      :return: void\n",
      " |  \n",
      " |  update_observations(self, pulled_arm, reward)\n",
      " |      Update the collected reward of the pulled arm, and the total reward achieved.\n",
      " |      :param pulled_arm: the arm that was pulled\n",
      " |      :param reward: the reward received by the environment\n",
      " |      :return: void\n",
      " |  \n",
      " |  ----------------------------------------------------------------------\n",
      " |  Data descriptors defined here:\n",
      " |  \n",
      " |  __dict__\n",
      " |      dictionary for instance variables (if defined)\n",
      " |  \n",
      " |  __weakref__\n",
      " |      list of weak references to the object (if defined)\n",
      "\n"
     ]
    }
   ],
   "source": [
    "help(Learner)"
   ]
  }
 ],
 "metadata": {
  "kernelspec": {
   "display_name": "Python 3",
   "language": "python",
   "name": "python3"
  },
  "language_info": {
   "codemirror_mode": {
    "name": "ipython",
    "version": 3
   },
   "file_extension": ".py",
   "mimetype": "text/x-python",
   "name": "python",
   "nbconvert_exporter": "python",
   "pygments_lexer": "ipython3",
   "version": "3.8.8"
  }
 },
 "nbformat": 4,
 "nbformat_minor": 4
}
