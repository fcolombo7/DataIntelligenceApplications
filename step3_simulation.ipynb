{
 "cells": [
  {
   "cell_type": "code",
   "execution_count": 1,
   "id": "direct-methodology",
   "metadata": {},
   "outputs": [],
   "source": [
    "import numpy as np\n",
    "import matplotlib.pyplot as plt\n",
    "\n",
    "from environments.pricing_env import PricingEnvironment\n",
    "from learners.greedy import Greedy\n",
    "from learners.ucb import UCB\n",
    "from learners.normal_gamma_ts import NormalGammaTS\n",
    "\n",
    "from data_generators.basic_generator import BasicDataGenerator\n",
    "%matplotlib inline "
   ]
  },
  {
   "cell_type": "code",
   "execution_count": 2,
   "id": "novel-blocking",
   "metadata": {
    "scrolled": true
   },
   "outputs": [
    {
     "name": "stdout",
     "output_type": "stream",
     "text": [
      "--------------- DATA ---------------\n",
      "prices=[15, 16, 17, 18, 19, 20, 21, 22, 23, 24]\n",
      "bids=[0.03, 0.04, 0.07, 0.1, 0.2, 0.5, 0.75, 1.0, 1.5, 2.0]\n",
      "margins=[15, 16, 17, 18, 19, 20, 21, 22, 23, 24]\n",
      "conv_rates=array([0.204, 0.211, 0.205, 0.189, 0.176, 0.152, 0.128, 0.113, 0.097,\n",
      "       0.09 ])\n",
      "costs_per_click=array([0.03 , 0.04 , 0.069, 0.097, 0.189, 0.44 , 0.626, 0.796, 1.1  ,\n",
      "       1.367])\n",
      "n_clicks=array([ 20.018,  26.03 ,  42.358,  56.468,  91.773, 143.8  , 163.133,\n",
      "       174.226, 185.61 , 190.621])\n",
      "aggr_tau=array([2.85 , 2.485, 2.12 , 1.755, 1.39 , 1.025, 0.84 , 0.69 , 0.65 ,\n",
      "       0.65 ])\n",
      "\n",
      "Selected bid: 0.1(3)\n",
      "Fixed CPC: 0.097\n",
      "Fixed num_clicks: 56.468 -> 56\n",
      "\n",
      " --------------- SIMULATION PARAMS ---------------\n",
      "Time horizon: 365 days\n",
      "Num. experiments: 10\n"
     ]
    }
   ],
   "source": [
    "data_gen = BasicDataGenerator(filename='src/basic002.json')\n",
    "prices = data_gen.get_prices()\n",
    "bids = data_gen.get_bids()\n",
    "margins = data_gen.get_margins()\n",
    "conv_rates = data_gen.get_conversion_rates(mode='aggregate')\n",
    "n_clicks = data_gen.get_daily_clicks(mode='aggregate')\n",
    "costs_per_click = data_gen.get_costs_per_click(mode='aggregate')\n",
    "aggr_tau = data_gen.get_future_purchases(mode='aggregate')\n",
    "\n",
    "print(15*'-','DATA', '-'*15)\n",
    "print(f'{prices=}')\n",
    "print(f'{bids=}')\n",
    "print(f'{margins=}')\n",
    "print(f'{conv_rates=}')\n",
    "print(f'{costs_per_click=}')\n",
    "print(f'{n_clicks=}')\n",
    "print(f'{aggr_tau=}')\n",
    "\n",
    "sel_bid = 3\n",
    "print(f'\\nSelected bid: {bids[sel_bid]}({sel_bid})')\n",
    "print(f'Fixed CPC: {costs_per_click[sel_bid]}')\n",
    "print(f'Fixed num_clicks: {n_clicks[sel_bid]} -> {np.rint(n_clicks[sel_bid]).astype(int)}')\n",
    "\n",
    "print('\\n',15*'-','SIMULATION PARAMS', '-'*15)\n",
    "T = 365\n",
    "n_experiments = 10\n",
    "print(f'Time horizon: {T} days')\n",
    "print(f'Num. experiments: {n_experiments}')"
   ]
  },
  {
   "cell_type": "code",
   "execution_count": 3,
   "id": "weird-suicide",
   "metadata": {},
   "outputs": [],
   "source": [
    "rewards_per_experiment = {}\n",
    "rewards_per_experiment['Greedy'] = []\n",
    "rewards_per_experiment['TS'] = []\n",
    "rewards_per_experiment['UCB'] = []\n",
    "daily_rewards_per_experiment = {}\n",
    "daily_rewards_per_experiment['Greedy'] = []\n",
    "daily_rewards_per_experiment['TS'] = []\n",
    "daily_rewards_per_experiment['UCB'] = []"
   ]
  },
  {
   "cell_type": "code",
   "execution_count": 4,
   "id": "smooth-history",
   "metadata": {},
   "outputs": [
    {
     "name": "stdout",
     "output_type": "stream",
     "text": [
      "\n",
      "---------------exp#0---------------\n",
      "test_instances[0][1].mu_0=array([11.53025845, 11.40898787, 10.69395749,  9.04060621,  8.41826058,\n",
      "        5.83501572,  5.3282203 ,  3.42351329,  1.42616817,  3.62973994]), \n",
      "test_instances[0][1].estimated_variance=array([561.03999829, 590.09042976, 497.52394865, 421.12925456,\n",
      "       397.28852825, 236.27888434, 265.99498937, 204.93561793,\n",
      "        65.03386639, 186.76935881]), \n",
      "test_instances[0][1].n=array([3696., 3752., 3192., 2632., 2408., 1232., 1288.,  840.,   56.,\n",
      "       1344.]),\n",
      "\n",
      "---------------exp#1---------------\n",
      "test_instances[0][1].mu_0=array([11.90672498, 11.65473802, 10.18635282,  9.10981988,  7.39872751,\n",
      "        6.46538619,  4.47359872,  3.69773955,  2.89055626,  1.78670465]), \n",
      "test_instances[0][1].estimated_variance=array([607.15254643, 577.38486132, 466.83384032, 450.6583142 ,\n",
      "       344.67340307, 311.85051636, 196.0634664 , 175.42936924,\n",
      "       121.70378518, 116.31677615]), \n",
      "test_instances[0][1].n=array([4424., 4200., 3976., 2800., 1624., 1008.,  784., 1064.,  336.,\n",
      "        224.]),\n",
      "\n",
      "---------------exp#2---------------\n",
      "test_instances[0][1].mu_0=array([11.10862023, 11.29706532, 11.31950313,  9.44448325,  8.29261825,\n",
      "        5.77655972,  5.31277121,  4.12253865,  1.70901775,  3.5925643 ]), \n",
      "test_instances[0][1].estimated_variance=array([554.15483109, 538.00935203, 562.53779278, 458.49135761,\n",
      "       384.7108638 , 276.33946256, 216.81225314, 190.93391103,\n",
      "        67.00006977, 183.80177331]), \n",
      "test_instances[0][1].n=array([4256., 4088., 3136., 2352., 1960., 2016., 1288.,  504.,   56.,\n",
      "        784.]),\n",
      "\n",
      "---------------exp#3---------------\n",
      "test_instances[0][1].mu_0=array([12.01915614, 11.38376435, 11.13327691,  9.56590304,  7.72235411,\n",
      "        5.38725325,  4.99610372,  4.52387824,  0.5496904 ,  0.31459932]), \n",
      "test_instances[0][1].estimated_variance=array([631.02385392, 535.46404138, 526.64245492, 424.11445515,\n",
      "       344.42419251, 260.80519126, 246.5325113 , 199.88874645,\n",
      "        36.25656517,  12.65109848]), \n",
      "test_instances[0][1].n=array([4424., 4312., 3920., 2184., 2744.,  784., 1008.,  896.,  112.,\n",
      "         56.]),\n",
      "\n",
      "---------------exp#4---------------\n",
      "test_instances[0][1].mu_0=array([11.76293177, 11.62756304, 10.45632925,  9.47104618,  7.5312563 ,\n",
      "        5.37569719,  5.14166072,  3.85819835,  3.04677962,  3.32117311]), \n",
      "test_instances[0][1].estimated_variance=array([567.23148016, 572.01690357, 478.50907419, 453.40780094,\n",
      "       357.07250236, 242.72942815, 225.5097544 , 152.92982109,\n",
      "       159.05283352, 143.38502548]), \n",
      "test_instances[0][1].n=array([4368., 3304., 3136., 3024., 2240., 1064., 1288.,  728.,  504.,\n",
      "        784.]),\n",
      "\n",
      "---------------exp#5---------------\n",
      "test_instances[0][1].mu_0=array([11.23213033, 11.31346828, 11.07064181,  9.32519758,  8.13547231,\n",
      "        6.11078222,  4.68863095,  4.64906341,  4.24679796,  3.33644147]), \n",
      "test_instances[0][1].estimated_variance=array([546.82427503, 555.4068405 , 540.81604921, 431.56604019,\n",
      "       408.93621723, 280.79150064, 233.4759026 , 229.93283652,\n",
      "       211.19038387, 162.19139829]), \n",
      "test_instances[0][1].n=array([3528., 3080., 3192., 2800., 2464., 2072.,  952., 1344.,  392.,\n",
      "        616.]),\n",
      "\n",
      "---------------exp#6---------------\n",
      "test_instances[0][1].mu_0=array([11.70468149, 12.15812394, 10.81020811,  9.25927682,  7.75008183,\n",
      "        6.76647634,  4.14622159,  3.8253273 ,  3.90061853,  3.9487821 ]), \n",
      "test_instances[0][1].estimated_variance=array([566.37271926, 601.7140507 , 543.34653568, 444.1894284 ,\n",
      "       353.32796301, 328.30451005, 151.53712076, 187.3591215 ,\n",
      "       198.56057646, 191.07235163]), \n",
      "test_instances[0][1].n=array([4032., 4648., 3416., 2688., 2128., 1288.,  392.,  616.,  560.,\n",
      "        672.]),\n",
      "\n",
      "---------------exp#7---------------\n",
      "test_instances[0][1].mu_0=array([12.1100448 , 12.39254589, 10.45179478,  8.76435683,  7.72134673,\n",
      "        6.65136685,  5.04262499,  4.45086156,  2.28014302,  3.1169962 ]), \n",
      "test_instances[0][1].estimated_variance=array([620.93209852, 606.82818504, 503.4135327 , 402.83192907,\n",
      "       360.41287546, 298.97759344, 222.99976508, 207.97763694,\n",
      "        92.92935854, 138.94284236]), \n",
      "test_instances[0][1].n=array([4144., 4088., 3080., 2632., 2072., 1456., 1176., 1120.,  112.,\n",
      "        560.]),\n",
      "\n",
      "---------------exp#8---------------\n",
      "test_instances[0][1].mu_0=array([11.3110963 , 12.53819471, 11.09141563, 10.24071907,  8.46577799,\n",
      "        5.81715494,  5.05826218,  3.88384365,  3.523014  ,  3.64812631]), \n",
      "test_instances[0][1].estimated_variance=array([583.45306844, 616.37494812, 528.77752149, 479.91022414,\n",
      "       380.05921228, 270.8491198 , 228.38406734, 175.0334613 ,\n",
      "       173.16057406, 214.43553376]), \n",
      "test_instances[0][1].n=array([3864., 4480., 3528., 2128., 2016., 1232.,  672., 1008.,  336.,\n",
      "       1176.]),\n",
      "\n",
      "---------------exp#9---------------\n",
      "test_instances[0][1].mu_0=array([11.58056922, 12.45880657, 10.79336245,  8.02818463,  7.82215178,\n",
      "        6.39834531,  4.78033958,  3.58292332,  3.44003812,  3.65412234]), \n",
      "test_instances[0][1].estimated_variance=array([571.0503616 , 624.23389423, 489.68473485, 361.6036394 ,\n",
      "       377.22935493, 270.73522188, 215.37287732, 180.58914276,\n",
      "       158.30321041, 201.62409158]), \n",
      "test_instances[0][1].n=array([3976., 3920., 3472., 2072., 2408., 1456., 1344.,  560.,  560.,\n",
      "        672.]),\n"
     ]
    }
   ],
   "source": [
    "n_arms = len(prices) \n",
    "env_params = {\n",
    "        'n_arms': n_arms,\n",
    "        'conversion_rates': conv_rates,\n",
    "        'cost_per_click': costs_per_click[sel_bid],\n",
    "        'n_clicks': np.rint(n_clicks[sel_bid]).astype(int),\n",
    "        'margins': margins, \n",
    "        'tau': aggr_tau\n",
    "    }\n",
    "for e in range(n_experiments):\n",
    "    # Initialization of the learners to test and their related environment:\n",
    "    # the list is composed of tuples (Learner, Environment)\n",
    "    test_instances = [\n",
    "        (\"TS\", NormalGammaTS(n_arms), PricingEnvironment(**env_params)),\n",
    "        (\"Greedy\", Greedy(n_arms), PricingEnvironment(**env_params)),\n",
    "        (\"UCB\", UCB(n_arms), PricingEnvironment(**env_params))\n",
    "    ]\n",
    "    \n",
    "    for t in range(T):\n",
    "        for name, learner, env in test_instances:\n",
    "            pulled_arm = learner.pull_arm()\n",
    "            daily_reward = env.round(pulled_arm)\n",
    "            for r in daily_reward:\n",
    "                learner.update(pulled_arm, r)\n",
    "            #if t % 10 == 0 and name != 'Greedy':\n",
    "            #    print(f'[exp#{e}] t: {t}\\n{name}\\n{pulled_arm=}\\n{daily_reward=}')\n",
    "            #    print(30*'-')\n",
    "    print(f'\\n{15*\"-\"}exp#{e}{15*\"-\"}\\n{test_instances[0][1].mu_0=}, \\n{test_instances[0][1].estimated_variance=}, \\n{test_instances[0][1].n=},')\n",
    "    #print(f'\\n{15*\"-\"}exp#{e}{15*\"-\"}\\n{test_instances[0][1].alpha=}, \\n{test_instances[0][1].beta=}, \\n{test_instances[0][1].mu_0=}, \\n{test_instances[0][1].estimated_variance=}, \\n{test_instances[0][1].n=},')\n",
    "    for learner_name, learner, _ in test_instances:\n",
    "        rewards_per_experiment[learner_name].append(learner.collected_rewards)"
   ]
  },
  {
   "cell_type": "code",
   "execution_count": 5,
   "id": "raised-growing",
   "metadata": {},
   "outputs": [
    {
     "name": "stderr",
     "output_type": "stream",
     "text": [
      "/home/filippo/anaconda3/envs/dia-env/lib/python3.8/site-packages/numpy/core/fromnumeric.py:3372: RuntimeWarning: Mean of empty slice.\n",
      "  return _methods._mean(a, axis=axis, dtype=dtype,\n",
      "/home/filippo/anaconda3/envs/dia-env/lib/python3.8/site-packages/numpy/core/_methods.py:170: RuntimeWarning: invalid value encountered in double_scalars\n",
      "  ret = ret.dtype.type(ret / rcount)\n",
      "/home/filippo/anaconda3/envs/dia-env/lib/python3.8/site-packages/numpy/core/fromnumeric.py:3372: RuntimeWarning: Mean of empty slice.\n",
      "  return _methods._mean(a, axis=axis, dtype=dtype,\n",
      "/home/filippo/anaconda3/envs/dia-env/lib/python3.8/site-packages/numpy/core/_methods.py:170: RuntimeWarning: invalid value encountered in double_scalars\n",
      "  ret = ret.dtype.type(ret / rcount)\n"
     ]
    },
    {
     "data": {
      "text/plain": [
       "<matplotlib.legend.Legend at 0x7f3595964640>"
      ]
     },
     "execution_count": 5,
     "metadata": {},
     "output_type": "execute_result"
    },
    {
     "data": {
      "image/png": "[encoded data removed]",
      "text/plain": [
       "<Figure size 432x288 with 1 Axes>"
      ]
     },
     "metadata": {
      "needs_background": "light"
     },
     "output_type": "display_data"
    }
   ],
   "source": [
    "opt_per_round = test_instances[0][2].get_opt()\n",
    "opt_per_day = opt_per_round * env_params['n_clicks']\n",
    "\n",
    "#opt = [opt_per_day]*T\n",
    "\n",
    "# Plotting the results\n",
    "plt.figure()\n",
    "plt.ylabel(\"Regret\")\n",
    "plt.xlabel(\"day\")\n",
    "plt.plot(np.cumsum(np.mean(opt_per_day - daily_rewards_per_experiment['Greedy'], axis=0)))\n",
    "plt.plot(np.cumsum(np.mean(opt_per_day - daily_rewards_per_experiment['UCB'], axis=0)))\n",
    "plt.legend([\"Greedy\", \"UCB\"])"
   ]
  },
  {
   "cell_type": "code",
   "execution_count": 8,
   "id": "shaped-furniture",
   "metadata": {},
   "outputs": [
    {
     "data": {
      "text/plain": [
       "<matplotlib.legend.Legend at 0x7f3595769ca0>"
      ]
     },
     "execution_count": 8,
     "metadata": {},
     "output_type": "execute_result"
    },
    {
     "data": {
      "image/png": "[encoded data removed]",
      "text/plain": [
       "<Figure size 432x288 with 1 Axes>"
      ]
     },
     "metadata": {
      "needs_background": "light"
     },
     "output_type": "display_data"
    }
   ],
   "source": [
    "opt_per_round = test_instances[0][2].get_opt()\n",
    "opt_per_day = opt_per_round * env_params['n_clicks']\n",
    "\n",
    "# Plotting the results\n",
    "plt.figure()\n",
    "plt.ylabel(\"Regret\")\n",
    "plt.xlabel(\"day*num_clicks\")\n",
    "plt.plot(np.cumsum(np.mean(opt_per_round - rewards_per_experiment['TS'], axis=0)))\n",
    "plt.plot(np.cumsum(np.mean(opt_per_round - rewards_per_experiment['Greedy'], axis=0)))\n",
    "plt.plot(np.cumsum(np.mean(opt_per_round - rewards_per_experiment['UCB'], axis=0)))\n",
    "plt.legend([\"TS\", \"Greedy\", \"UCB\"])"
   ]
  }
 ],
 "metadata": {
  "kernelspec": {
   "display_name": "Python 3",
   "language": "python",
   "name": "python3"
  },
  "language_info": {
   "codemirror_mode": {
    "name": "ipython",
    "version": 3
   },
   "file_extension": ".py",
   "mimetype": "text/x-python",
   "name": "python",
   "nbconvert_exporter": "python",
   "pygments_lexer": "ipython3",
   "version": "3.8.8"
  }
 },
 "nbformat": 4,
 "nbformat_minor": 5
}
