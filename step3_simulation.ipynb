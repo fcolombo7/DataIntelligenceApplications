{
 "cells": [
  {
   "cell_type": "code",
   "execution_count": 1,
   "id": "direct-methodology",
   "metadata": {},
   "outputs": [],
   "source": [
    "import numpy as np\n",
    "import matplotlib.pyplot as plt\n",
    "%matplotlib inline \n",
    "\n",
    "from data_generators.basic_generator import BasicDataGenerator\n",
    "from environments.pricing_environment2 import PricingEnvironment\n",
    "from learners.pricing.thompson_sampling import ThompsonSampling\n",
    "from learners.pricing.ucb import UCB"
   ]
  },
  {
   "cell_type": "code",
   "execution_count": 2,
   "id": "novel-blocking",
   "metadata": {
    "scrolled": true
   },
   "outputs": [
    {
     "name": "stdout",
     "output_type": "stream",
     "text": [
      "--------------- DATA ---------------\n",
      "prices=[15, 16, 17, 18, 19, 20, 21, 22, 23, 24]\n",
      "bids=[0.03, 0.04, 0.07, 0.1, 0.2, 0.5, 0.75, 1.0, 1.5, 2.0]\n",
      "margins=[15, 16, 17, 18, 19, 20, 21, 22, 23, 24]\n",
      "conv_rates=array([0.217, 0.214, 0.208, 0.197, 0.183, 0.164, 0.136, 0.125, 0.116,\n",
      "       0.098])\n",
      "costs_per_click=array([0.03 , 0.04 , 0.069, 0.097, 0.189, 0.44 , 0.627, 0.799, 1.105,\n",
      "       1.375])\n",
      "n_clicks=array([ 30.107,  38.897,  62.152,  81.492, 126.508, 181.541, 196.399,\n",
      "       202.562, 206.463, 207.274])\n",
      "aggr_tau=array([2.95, 2.58, 2.21, 1.84, 1.47, 1.1 , 0.91, 0.75, 0.7 , 0.7 ])\n",
      "\n",
      "Selected bid: 0.1(3)\n",
      "Fixed CPC: 0.097\n",
      "Fixed num_clicks: 81.492 -> 81\n"
     ]
    }
   ],
   "source": [
    "data_gen = BasicDataGenerator(filename='src/basic001.json')\n",
    "prices = data_gen.get_prices()\n",
    "bids = data_gen.get_bids()\n",
    "margins = data_gen.get_margins()\n",
    "conv_rates = data_gen.get_conversion_rates(mode='aggregate')\n",
    "n_clicks = data_gen.get_daily_clicks(mode='aggregate')\n",
    "costs_per_click = data_gen.get_costs_per_click(mode='aggregate')\n",
    "aggr_tau = data_gen.get_future_purchases(mode='aggregate')\n",
    "\n",
    "print(15*'-','DATA', '-'*15)\n",
    "print(f'{prices=}')\n",
    "print(f'{bids=}')\n",
    "print(f'{margins=}')\n",
    "print(f'{conv_rates=}')\n",
    "print(f'{costs_per_click=}')\n",
    "print(f'{n_clicks=}')\n",
    "print(f'{aggr_tau=}')\n",
    "\n",
    "sel_bid = 3\n",
    "print(f'\\nSelected bid: {bids[sel_bid]}({sel_bid})')\n",
    "print(f'Fixed CPC: {costs_per_click[sel_bid]}')\n",
    "print(f'Fixed num_clicks: {n_clicks[sel_bid]} -> {np.rint(n_clicks[sel_bid]).astype(int)}')\n",
    "n_arms = len(prices)\n",
    "env_params = {\n",
    "        'n_arms': n_arms,\n",
    "        'conversion_rates': conv_rates,\n",
    "        'cost_per_click': costs_per_click[sel_bid],\n",
    "        'n_clicks': np.rint(n_clicks[sel_bid]).astype(int),\n",
    "        # 'margins': margins,\n",
    "        'tau': aggr_tau\n",
    "}"
   ]
  },
  {
   "cell_type": "code",
   "execution_count": 3,
   "id": "norwegian-monitor",
   "metadata": {},
   "outputs": [
    {
     "name": "stdout",
     "output_type": "stream",
     "text": [
      "\n",
      " --------------- SIMULATION PARAMS ---------------\n",
      "Time horizon: 365 days\n",
      "Num. experiments: 10\n"
     ]
    }
   ],
   "source": [
    "print('\\n', 15 * '-', 'SIMULATION PARAMS', '-' * 15)\n",
    "T = 365\n",
    "n_experiments = 10\n",
    "print(f'Time horizon: {T} days')\n",
    "print(f'Num. experiments: {n_experiments}')"
   ]
  },
  {
   "cell_type": "code",
   "execution_count": 4,
   "id": "painful-ranch",
   "metadata": {},
   "outputs": [
    {
     "name": "stdout",
     "output_type": "stream",
     "text": [
      "N_ARMS: 10\n",
      "Optimal arm: 0\n"
     ]
    }
   ],
   "source": [
    "opt_arm = np.argmax(margins * conv_rates * (1 + aggr_tau) - costs_per_click[sel_bid])\n",
    "print(f'N_ARMS: {n_arms}')\n",
    "print(f'Optimal arm: {str(opt_arm)}')"
   ]
  },
  {
   "cell_type": "code",
   "execution_count": 5,
   "id": "driven-amendment",
   "metadata": {},
   "outputs": [
    {
     "name": "stdout",
     "output_type": "stream",
     "text": [
      "N_ROUNDS: 365\n",
      "N_EXPERIMENTS: 10\n",
      "ALGORITHMS: ['UCB-Pricing', 'TS-Pricing']\n"
     ]
    }
   ],
   "source": [
    "learners_to_test = [UCB, ThompsonSampling]\n",
    "rewards_per_experiment = {}\n",
    "for learner in learners_to_test:\n",
    "    rewards_per_experiment[learner.LEARNER_NAME] = []\n",
    "\n",
    "print(f'N_ROUNDS: {T}')\n",
    "print(f'N_EXPERIMENTS: {n_experiments}')\n",
    "print(f'ALGORITHMS: {list(rewards_per_experiment.keys())}')"
   ]
  },
  {
   "cell_type": "code",
   "execution_count": 6,
   "id": "athletic-moscow",
   "metadata": {},
   "outputs": [
    {
     "name": "stdout",
     "output_type": "stream",
     "text": [
      "running exp#0...\n",
      "running exp#1...\n",
      "running exp#2...\n",
      "running exp#3...\n",
      "running exp#4...\n",
      "running exp#5...\n",
      "running exp#6...\n",
      "running exp#7...\n",
      "running exp#8...\n",
      "running exp#9...\n"
     ]
    }
   ],
   "source": [
    "for e in range(n_experiments):\n",
    "    # Initialization of the learners to test and their related environment:\n",
    "    # the list is composed of tuples (Learner, Environment)\n",
    "    print(f'running exp#{e}...')\n",
    "    test_instances = []\n",
    "    for learner in learners_to_test:\n",
    "        test_instances.append((learner(arm_values=margins), PricingEnvironment(**env_params)))\n",
    "    for t in range(T):\n",
    "        for learner, env in test_instances:\n",
    "            pulled_arm = learner.pull_arm()\n",
    "            daily_reward = env.day_round(pulled_arm)\n",
    "            learner.daily_update(pulled_arm, daily_reward)\n",
    "\n",
    "    for learner, _ in test_instances:\n",
    "        rewards_per_experiment[learner.LEARNER_NAME].append(learner.daily_collected_rewards)"
   ]
  },
  {
   "cell_type": "code",
   "execution_count": 7,
   "id": "average-package",
   "metadata": {},
   "outputs": [
    {
     "data": {
      "image/png": "[encoded data removed]",
      "text/plain": [
       "<Figure size 432x288 with 1 Axes>"
      ]
     },
     "metadata": {
      "needs_background": "light"
     },
     "output_type": "display_data"
    }
   ],
   "source": [
    "# Plotting the results\n",
    "plt.figure(0)\n",
    "plt.ylabel(\"Regret\")\n",
    "plt.xlabel(\"t\")\n",
    "opt = (margins[opt_arm] * conv_rates[opt_arm] * (1 + aggr_tau[opt_arm]) - costs_per_click[sel_bid]) * np.rint(n_clicks[sel_bid]).astype(int)\n",
    "for val in rewards_per_experiment.values():\n",
    "    plt.plot(np.cumsum(np.mean(opt - val, axis=0)))\n",
    "plt.legend(rewards_per_experiment.keys())\n",
    "plt.show()"
   ]
  }
 ],
 "metadata": {
  "kernelspec": {
   "display_name": "Python 3",
   "language": "python",
   "name": "python3"
  },
  "language_info": {
   "codemirror_mode": {
    "name": "ipython",
    "version": 3
   },
   "file_extension": ".py",
   "mimetype": "text/x-python",
   "name": "python",
   "nbconvert_exporter": "python",
   "pygments_lexer": "ipython3",
   "version": "3.8.8"
  }
 },
 "nbformat": 4,
 "nbformat_minor": 5
}
