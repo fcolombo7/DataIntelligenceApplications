{
 "cells": [
  {
   "cell_type": "code",
   "execution_count": 1,
   "id": "direct-methodology",
   "metadata": {},
   "outputs": [],
   "source": [
    "import numpy as np\n",
    "import matplotlib.pyplot as plt\n",
    "\n",
    "from environments.pricing_env import PricingEnvironment\n",
    "from learners.greedy import Greedy\n",
    "from learners.ucb import UCB\n",
    "from learners.normal_gamma_ts import NormalGammaTS\n",
    "\n",
    "from data_generators.basic_generator import BasicDataGenerator\n",
    "%matplotlib inline "
   ]
  },
  {
   "cell_type": "code",
   "execution_count": 2,
   "id": "novel-blocking",
   "metadata": {
    "scrolled": false
   },
   "outputs": [
    {
     "name": "stdout",
     "output_type": "stream",
     "text": [
      "--------------- DATA ---------------\n",
      "prices=[15, 16, 17, 18, 19, 20, 21, 22, 23, 24]\n",
      "bids=[0.03, 0.04, 0.07, 0.1, 0.2, 0.5, 0.75, 1.0, 1.5, 2.0]\n",
      "margins=[15, 16, 17, 18, 19, 20, 21, 22, 23, 24]\n",
      "conv_rates=array([0.217, 0.214, 0.208, 0.197, 0.183, 0.164, 0.136, 0.125, 0.116,\n",
      "       0.098])\n",
      "costs_per_click=array([0.03 , 0.04 , 0.069, 0.097, 0.189, 0.44 , 0.627, 0.799, 1.105,\n",
      "       1.375])\n",
      "n_clicks=array([ 30.107,  38.897,  62.152,  81.492, 126.508, 181.541, 196.399,\n",
      "       202.562, 206.463, 207.274])\n",
      "aggr_tau=array([2.95, 2.58, 2.21, 1.84, 1.47, 1.1 , 0.91, 0.75, 0.7 , 0.7 ])\n",
      "\n",
      "Selected bid: 0.1(3)\n",
      "Fixed CPC: 0.097\n",
      "Fixed num_clicks: 81.492 -> 81\n",
      "\n",
      " --------------- SIMULATION PARAMS ---------------\n",
      "Time horizon: 1000 days\n",
      "Num. experiments: 10\n"
     ]
    }
   ],
   "source": [
    "data_gen = BasicDataGenerator(filename='src/basic001.json')\n",
    "prices = data_gen.get_prices()\n",
    "bids = data_gen.get_bids()\n",
    "margins = data_gen.get_margins()\n",
    "conv_rates = data_gen.get_conversion_rates(mode='aggregate')\n",
    "n_clicks = data_gen.get_daily_clicks(mode='aggregate')\n",
    "costs_per_click = data_gen.get_costs_per_click(mode='aggregate')\n",
    "aggr_tau = data_gen.get_future_purchases(mode='aggregate')\n",
    "\n",
    "print(15*'-','DATA', '-'*15)\n",
    "print(f'{prices=}')\n",
    "print(f'{bids=}')\n",
    "print(f'{margins=}')\n",
    "print(f'{conv_rates=}')\n",
    "print(f'{costs_per_click=}')\n",
    "print(f'{n_clicks=}')\n",
    "print(f'{aggr_tau=}')\n",
    "\n",
    "sel_bid = 3\n",
    "print(f'\\nSelected bid: {bids[sel_bid]}({sel_bid})')\n",
    "print(f'Fixed CPC: {costs_per_click[sel_bid]}')\n",
    "print(f'Fixed num_clicks: {n_clicks[sel_bid]} -> {np.rint(n_clicks[sel_bid]).astype(int)}')\n",
    "\n",
    "print('\\n',15*'-','SIMULATION PARAMS', '-'*15)\n",
    "T = 1000\n",
    "n_experiments = 10\n",
    "print(f'Time horizon: {T} days')\n",
    "print(f'Num. experiments: {n_experiments}')"
   ]
  },
  {
   "cell_type": "code",
   "execution_count": 3,
   "id": "weird-suicide",
   "metadata": {},
   "outputs": [],
   "source": [
    "rewards_per_experiment = {}\n",
    "rewards_per_experiment['Greedy'] = []\n",
    "rewards_per_experiment['UCB'] = []\n",
    "daily_rewards_per_experiment = {}\n",
    "daily_rewards_per_experiment['Greedy'] = []\n",
    "daily_rewards_per_experiment['UCB'] = []"
   ]
  },
  {
   "cell_type": "code",
   "execution_count": 4,
   "id": "smooth-history",
   "metadata": {},
   "outputs": [],
   "source": [
    "n_arms = len(prices) \n",
    "env_params = {\n",
    "        'n_arms': n_arms,\n",
    "        'conversion_rates': conv_rates,\n",
    "        'cost_per_click': costs_per_click[sel_bid],\n",
    "        'n_clicks': np.rint(n_clicks[sel_bid]).astype(int),\n",
    "        'margins': margins, \n",
    "        'tau': aggr_tau\n",
    "    }\n",
    "for e in range(n_experiments):\n",
    "    # Initialization of the learners to test and their related environment:\n",
    "    # the list is composed of tuples (Learner, Environment)\n",
    "    test_instances = [\n",
    "        (\"Greedy\", Greedy(n_arms), PricingEnvironment(**env_params)),\n",
    "        (\"UCB\", UCB(n_arms), PricingEnvironment(**env_params))\n",
    "    ]\n",
    "    \n",
    "    for t in range(T):\n",
    "        for name, learner, env in test_instances:\n",
    "            pulled_arm = learner.pull_arm()\n",
    "            daily_reward = env.round(pulled_arm)\n",
    "            for r in daily_reward:\n",
    "                learner.update(pulled_arm, r)\n",
    "            learner.update_daily_rewards(np.sum(daily_reward))\n",
    "            #if t % 10 == 0 and name != 'Greedy':\n",
    "            #    print(f'[exp#{e}] t: {t}\\n{name}\\n{pulled_arm=}\\n{daily_reward=}')\n",
    "            #    print(30*'-')\n",
    "    #print(f'\\n{15*\"-\"}exp#{e}{15*\"-\"}\\n{test_instances[0][1].mu_0=}, \\n{test_instances[0][1].estimated_variance=}, \\n{test_instances[0][1].n=},')\n",
    "    #print(f'\\n{15*\"-\"}exp#{e}{15*\"-\"}\\n{test_instances[0][1].alpha=}, \\n{test_instances[0][1].beta=}, \\n{test_instances[0][1].mu_0=}, \\n{test_instances[0][1].estimated_variance=}, \\n{test_instances[0][1].n=},')\n",
    "    for learner_name, learner, _ in test_instances:\n",
    "        rewards_per_experiment[learner_name].append(learner.collected_rewards)\n",
    "        daily_rewards_per_experiment[learner_name].append(learner.daily_collected_rewards)"
   ]
  },
  {
   "cell_type": "code",
   "execution_count": 6,
   "id": "raised-growing",
   "metadata": {},
   "outputs": [
    {
     "data": {
      "text/plain": [
       "<matplotlib.legend.Legend at 0x7fc1f22da9d0>"
      ]
     },
     "execution_count": 6,
     "metadata": {},
     "output_type": "execute_result"
    },
    {
     "data": {
      "image/png": "[encoded data removed]",
      "text/plain": [
       "<Figure size 432x288 with 1 Axes>"
      ]
     },
     "metadata": {
      "needs_background": "light"
     },
     "output_type": "display_data"
    }
   ],
   "source": [
    "opt_per_round = np.max(test_instances[0][2].get_expected_rewards())\n",
    "opt_per_day = opt_per_round * env_params['n_clicks']\n",
    "\n",
    "#opt = [opt_per_day]*T\n",
    "\n",
    "# Plotting the results\n",
    "plt.figure()\n",
    "plt.ylabel(\"Regret\")\n",
    "plt.xlabel(\"day\")\n",
    "plt.plot(np.cumsum(np.mean(opt_per_day - daily_rewards_per_experiment['Greedy'], axis=0)))\n",
    "plt.plot(np.cumsum(np.mean(opt_per_day - daily_rewards_per_experiment['UCB'], axis=0)))\n",
    "plt.legend([\"Greedy\", \"UCB\"])"
   ]
  },
  {
   "cell_type": "code",
   "execution_count": 7,
   "id": "shaped-furniture",
   "metadata": {},
   "outputs": [
    {
     "data": {
      "text/plain": [
       "<matplotlib.legend.Legend at 0x7fc1f22b5040>"
      ]
     },
     "execution_count": 7,
     "metadata": {},
     "output_type": "execute_result"
    },
    {
     "data": {
      "image/png": "[encoded data removed]",
      "text/plain": [
       "<Figure size 432x288 with 1 Axes>"
      ]
     },
     "metadata": {
      "needs_background": "light"
     },
     "output_type": "display_data"
    }
   ],
   "source": [
    "opt_per_round = np.max(test_instances[0][2].get_expected_rewards())\n",
    "opt_per_day = opt_per_round * env_params['n_clicks']\n",
    "\n",
    "# Plotting the results\n",
    "plt.figure()\n",
    "plt.ylabel(\"Regret\")\n",
    "plt.xlabel(\"day*num_clicks\")\n",
    "plt.plot(np.cumsum(np.mean(opt_per_round - rewards_per_experiment['Greedy'], axis=0)))\n",
    "plt.plot(np.cumsum(np.mean(opt_per_round - rewards_per_experiment['UCB'], axis=0)))\n",
    "plt.legend([\"Greedy\", \"UCB\"])"
   ]
  }
 ],
 "metadata": {
  "kernelspec": {
   "display_name": "Python 3",
   "language": "python",
   "name": "python3"
  },
  "language_info": {
   "codemirror_mode": {
    "name": "ipython",
    "version": 3
   },
   "file_extension": ".py",
   "mimetype": "text/x-python",
   "name": "python",
   "nbconvert_exporter": "python",
   "pygments_lexer": "ipython3",
   "version": "3.8.8"
  }
 },
 "nbformat": 4,
 "nbformat_minor": 5
}
